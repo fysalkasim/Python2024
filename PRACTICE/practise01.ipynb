{
 "cells": [
  {
   "cell_type": "code",
   "execution_count": 7,
   "metadata": {},
   "outputs": [
    {
     "name": "stdout",
     "output_type": "stream",
     "text": [
      "Can you guess the number\n",
      "The 58 is lower than the favourite number\n",
      "please try again\n",
      "The 68 is lower than the favourite number\n",
      "please try again\n",
      "The 78 is greater than the favourite number\n",
      "please try again\n",
      "The 78 is greater than the favourite number\n",
      "please try again\n",
      "The 76 is greater than the favourite number\n",
      "please try again\n",
      "The 75! you guessed it right\n"
     ]
    }
   ],
   "source": [
    "fav_num = int(input(\"Enter your favorite number between 1 - 100\"))\n",
    "print(\"Can you guess the number\")\n",
    "guessed_num = 0\n",
    "while fav_num != guessed_num:\n",
    "    entered_num = int(input(\"Enter the number you wish to guess\"))\n",
    "    guessed_num = entered_num\n",
    "    if guessed_num < fav_num:\n",
    "        print(f\"The {guessed_num} is lower than the favourite number\")\n",
    "        print(\"please try again\")\n",
    "    elif guessed_num > fav_num:\n",
    "        print(f\"The {guessed_num} is greater than the favourite number\")\n",
    "        print(\"please try again\")\n",
    "    else:\n",
    "        print(f\"Oh wow {guessed_num}! you guessed it right\")\n",
    "\n",
    "    "
   ]
  },
  {
   "cell_type": "code",
   "execution_count": null,
   "metadata": {},
   "outputs": [],
   "source": []
  }
 ],
 "metadata": {
  "kernelspec": {
   "display_name": "base",
   "language": "python",
   "name": "python3"
  },
  "language_info": {
   "codemirror_mode": {
    "name": "ipython",
    "version": 3
   },
   "file_extension": ".py",
   "mimetype": "text/x-python",
   "name": "python",
   "nbconvert_exporter": "python",
   "pygments_lexer": "ipython3",
   "version": "3.11.7"
  }
 },
 "nbformat": 4,
 "nbformat_minor": 2
}
