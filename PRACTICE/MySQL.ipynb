{
 "cells": [
  {
   "cell_type": "markdown",
   "metadata": {},
   "source": [
    "## Creating a Database in python"
   ]
  },
  {
   "cell_type": "code",
   "execution_count": 1,
   "metadata": {},
   "outputs": [],
   "source": [
    "import mysql.connector"
   ]
  },
  {
   "cell_type": "code",
   "execution_count": 2,
   "metadata": {},
   "outputs": [],
   "source": [
    "mydb = mysql.connector.connect(\n",
    "    host = \"localhost\",\n",
    "    user = \"root\",\n",
    "    password = \"root\"\n",
    ")"
   ]
  },
  {
   "cell_type": "code",
   "execution_count": 3,
   "metadata": {},
   "outputs": [],
   "source": [
    "mycursor = mydb.cursor()"
   ]
  },
  {
   "cell_type": "code",
   "execution_count": 4,
   "metadata": {},
   "outputs": [],
   "source": [
    "mycursor.execute(\"show databases\")"
   ]
  },
  {
   "cell_type": "code",
   "execution_count": 5,
   "metadata": {},
   "outputs": [
    {
     "name": "stdout",
     "output_type": "stream",
     "text": [
      "('information_schema',)\n",
      "('mydb',)\n",
      "('mysql',)\n",
      "('performance_schema',)\n",
      "('sakila',)\n",
      "('smec',)\n",
      "('sys',)\n",
      "('titanic',)\n",
      "('world',)\n"
     ]
    }
   ],
   "source": [
    "for i in mycursor:\n",
    "    print(i)"
   ]
  },
  {
   "cell_type": "code",
   "execution_count": 6,
   "metadata": {},
   "outputs": [],
   "source": [
    "mycursor.execute(\"create database MyDatabase\")"
   ]
  },
  {
   "cell_type": "code",
   "execution_count": 7,
   "metadata": {},
   "outputs": [
    {
     "name": "stdout",
     "output_type": "stream",
     "text": [
      "('information_schema',)\n",
      "('mydatabase',)\n",
      "('mydb',)\n",
      "('mysql',)\n",
      "('performance_schema',)\n",
      "('sakila',)\n",
      "('smec',)\n",
      "('sys',)\n",
      "('titanic',)\n",
      "('world',)\n"
     ]
    }
   ],
   "source": [
    "mycursor.execute(\"show databases\")\n",
    "for i in mycursor:\n",
    "    print(i)"
   ]
  },
  {
   "cell_type": "code",
   "execution_count": 8,
   "metadata": {},
   "outputs": [],
   "source": [
    "mydb = mysql.connector.connect(\n",
    "    host = \"localhost\",\n",
    "    user = \"root\",\n",
    "    password = \"root\",\n",
    "    database = \"MyDatabase\"\n",
    ")"
   ]
  },
  {
   "cell_type": "code",
   "execution_count": 9,
   "metadata": {},
   "outputs": [],
   "source": [
    "mycursor = mydb.cursor()"
   ]
  },
  {
   "cell_type": "code",
   "execution_count": 10,
   "metadata": {},
   "outputs": [],
   "source": [
    "mycursor.execute(\"show tables\")"
   ]
  },
  {
   "cell_type": "code",
   "execution_count": 11,
   "metadata": {},
   "outputs": [],
   "source": [
    "for i in mycursor:\n",
    "    print(i)"
   ]
  },
  {
   "cell_type": "code",
   "execution_count": 12,
   "metadata": {},
   "outputs": [],
   "source": [
    "mycursor.execute(\"create table customers(Id int auto_increment primary key,name varchar(255),address varchar(25))\")\n"
   ]
  },
  {
   "cell_type": "code",
   "execution_count": 13,
   "metadata": {},
   "outputs": [
    {
     "name": "stdout",
     "output_type": "stream",
     "text": [
      "('customers',)\n"
     ]
    }
   ],
   "source": [
    "mycursor.execute(\"show tables\")\n",
    "for i in mycursor:\n",
    "    print(i)"
   ]
  },
  {
   "cell_type": "code",
   "execution_count": 14,
   "metadata": {},
   "outputs": [],
   "source": [
    "mycursor.execute(\"select * from customers\")"
   ]
  },
  {
   "cell_type": "code",
   "execution_count": 18,
   "metadata": {},
   "outputs": [
    {
     "data": {
      "text/plain": [
       "[]"
      ]
     },
     "execution_count": 18,
     "metadata": {},
     "output_type": "execute_result"
    }
   ],
   "source": [
    "mycursor.fetchall() "
   ]
  },
  {
   "cell_type": "code",
   "execution_count": 21,
   "metadata": {},
   "outputs": [
    {
     "name": "stdout",
     "output_type": "stream",
     "text": [
      "13 was inserted.\n"
     ]
    }
   ],
   "source": [
    "sql = \"INSERT INTO customers (name, address) VALUES (%s, %s)\"\n",
    "val = [\n",
    "  ('Peter', 'Lowstreet 4'),\n",
    "  ('Amy', 'Apple st 652'),\n",
    "  ('Hannah', 'Mountain 21'),\n",
    "  ('Michael', 'Valley 345'),\n",
    "  ('Sandy', 'Ocean blvd 2'),\n",
    "  ('Betty', 'Green Grass 1'),\n",
    "  ('Richard', 'Sky st 331'),\n",
    "  ('Susan', 'One way 98'),\n",
    "  ('Vicky', 'Yellow Garden 2'),\n",
    "  ('Ben', 'Park Lane 38'),\n",
    "  ('William', 'Central st 954'),\n",
    "  ('Chuck', 'Main Road 989'),\n",
    "  ('Viola', 'Sideway 1633')\n",
    "]\n",
    "\n",
    "mycursor.executemany(sql, val)\n",
    "\n",
    "mydb.commit()\n",
    "\n",
    "print(mycursor.rowcount, \"was inserted.\")"
   ]
  },
  {
   "cell_type": "code",
   "execution_count": 23,
   "metadata": {},
   "outputs": [
    {
     "data": {
      "text/plain": [
       "[(1, 'Peter', 'Lowstreet 4'),\n",
       " (2, 'Amy', 'Apple st 652'),\n",
       " (3, 'Hannah', 'Mountain 21'),\n",
       " (4, 'Michael', 'Valley 345'),\n",
       " (5, 'Sandy', 'Ocean blvd 2'),\n",
       " (6, 'Betty', 'Green Grass 1'),\n",
       " (7, 'Richard', 'Sky st 331'),\n",
       " (8, 'Susan', 'One way 98'),\n",
       " (9, 'Vicky', 'Yellow Garden 2'),\n",
       " (10, 'Ben', 'Park Lane 38'),\n",
       " (11, 'William', 'Central st 954'),\n",
       " (12, 'Chuck', 'Main Road 989'),\n",
       " (13, 'Viola', 'Sideway 1633'),\n",
       " (14, 'Peter', 'Lowstreet 4'),\n",
       " (15, 'Amy', 'Apple st 652'),\n",
       " (16, 'Hannah', 'Mountain 21'),\n",
       " (17, 'Michael', 'Valley 345'),\n",
       " (18, 'Sandy', 'Ocean blvd 2'),\n",
       " (19, 'Betty', 'Green Grass 1'),\n",
       " (20, 'Richard', 'Sky st 331'),\n",
       " (21, 'Susan', 'One way 98'),\n",
       " (22, 'Vicky', 'Yellow Garden 2'),\n",
       " (23, 'Ben', 'Park Lane 38'),\n",
       " (24, 'William', 'Central st 954'),\n",
       " (25, 'Chuck', 'Main Road 989'),\n",
       " (26, 'Viola', 'Sideway 1633'),\n",
       " (27, 'Peter', 'Lowstreet 4'),\n",
       " (28, 'Amy', 'Apple st 652'),\n",
       " (29, 'Hannah', 'Mountain 21'),\n",
       " (30, 'Michael', 'Valley 345'),\n",
       " (31, 'Sandy', 'Ocean blvd 2'),\n",
       " (32, 'Betty', 'Green Grass 1'),\n",
       " (33, 'Richard', 'Sky st 331'),\n",
       " (34, 'Susan', 'One way 98'),\n",
       " (35, 'Vicky', 'Yellow Garden 2'),\n",
       " (36, 'Ben', 'Park Lane 38'),\n",
       " (37, 'William', 'Central st 954'),\n",
       " (38, 'Chuck', 'Main Road 989'),\n",
       " (39, 'Viola', 'Sideway 1633')]"
      ]
     },
     "execution_count": 23,
     "metadata": {},
     "output_type": "execute_result"
    }
   ],
   "source": [
    "mycursor.execute(\"select * from customers\")\n",
    "mycursor.fetchall()"
   ]
  },
  {
   "cell_type": "code",
   "execution_count": 25,
   "metadata": {},
   "outputs": [
    {
     "data": {
      "text/plain": [
       "(1, 'Peter', 'Lowstreet 4')"
      ]
     },
     "execution_count": 25,
     "metadata": {},
     "output_type": "execute_result"
    }
   ],
   "source": [
    "mycursor.execute(\"select * from customers\")\n",
    "mycursor.fetchone()"
   ]
  },
  {
   "cell_type": "code",
   "execution_count": 29,
   "metadata": {},
   "outputs": [
    {
     "data": {
      "text/plain": [
       "[(1, 'Peter', 'Lowstreet 4'),\n",
       " (2, 'Amy', 'Apple st 652'),\n",
       " (3, 'Hannah', 'Mountain 21'),\n",
       " (4, 'Michael', 'Valley 345'),\n",
       " (5, 'Sandy', 'Ocean blvd 2'),\n",
       " (6, 'Betty', 'Green Grass 1'),\n",
       " (7, 'Richard', 'Sky st 331'),\n",
       " (8, 'Susan', 'One way 98'),\n",
       " (9, 'Vicky', 'Yellow Garden 2'),\n",
       " (10, 'Ben', 'Park Lane 38'),\n",
       " (11, 'William', 'Central st 954'),\n",
       " (12, 'Chuck', 'Main Road 989'),\n",
       " (13, 'Viola', 'Sideway 1633'),\n",
       " (14, 'Peter', 'Lowstreet 4'),\n",
       " (15, 'Amy', 'Apple st 652'),\n",
       " (16, 'Hannah', 'Mountain 21'),\n",
       " (17, 'Michael', 'Valley 345'),\n",
       " (18, 'Sandy', 'Ocean blvd 2'),\n",
       " (19, 'Betty', 'Green Grass 1'),\n",
       " (20, 'Richard', 'Sky st 331'),\n",
       " (21, 'Susan', 'One way 98'),\n",
       " (22, 'Vicky', 'Yellow Garden 2'),\n",
       " (23, 'Ben', 'Park Lane 38'),\n",
       " (24, 'William', 'Central st 954'),\n",
       " (25, 'Chuck', 'Main Road 989'),\n",
       " (26, 'Viola', 'Sideway 1633'),\n",
       " (27, 'Peter', 'Lowstreet 4'),\n",
       " (28, 'Amy', 'Apple st 652'),\n",
       " (29, 'Hannah', 'Mountain 21'),\n",
       " (30, 'Michael', 'Valley 345'),\n",
       " (31, 'Sandy', 'Ocean blvd 2'),\n",
       " (32, 'Betty', 'Green Grass 1'),\n",
       " (33, 'Richard', 'Sky st 331'),\n",
       " (34, 'Susan', 'One way 98'),\n",
       " (35, 'Vicky', 'Yellow Garden 2'),\n",
       " (36, 'Ben', 'Park Lane 38'),\n",
       " (37, 'William', 'Central st 954'),\n",
       " (38, 'Chuck', 'Main Road 989'),\n",
       " (39, 'Viola', 'Sideway 1633')]"
      ]
     },
     "execution_count": 29,
     "metadata": {},
     "output_type": "execute_result"
    }
   ],
   "source": [
    "mycursor.execute(\"select * from customers\")\n",
    "mycursor.fetchall()"
   ]
  },
  {
   "cell_type": "code",
   "execution_count": 30,
   "metadata": {},
   "outputs": [
    {
     "data": {
      "text/plain": [
       "[]"
      ]
     },
     "execution_count": 30,
     "metadata": {},
     "output_type": "execute_result"
    }
   ],
   "source": [
    "mycursor.fetchall()"
   ]
  },
  {
   "cell_type": "code",
   "execution_count": 31,
   "metadata": {},
   "outputs": [
    {
     "name": "stdout",
     "output_type": "stream",
     "text": [
      "(9, 'Vicky', 'Yellow Garden 2')\n",
      "(22, 'Vicky', 'Yellow Garden 2')\n",
      "(35, 'Vicky', 'Yellow Garden 2')\n"
     ]
    }
   ],
   "source": [
    "sql = \"SELECT * FROM customers WHERE address = %s\"\n",
    "adr = (\"Yellow Garden 2\", )\n",
    "\n",
    "mycursor.execute(sql, adr)\n",
    "\n",
    "myresult = mycursor.fetchall()\n",
    "\n",
    "for x in myresult:\n",
    "  print(x)"
   ]
  }
 ],
 "metadata": {
  "kernelspec": {
   "display_name": "base",
   "language": "python",
   "name": "python3"
  },
  "language_info": {
   "codemirror_mode": {
    "name": "ipython",
    "version": 3
   },
   "file_extension": ".py",
   "mimetype": "text/x-python",
   "name": "python",
   "nbconvert_exporter": "python",
   "pygments_lexer": "ipython3",
   "version": "3.11.7"
  }
 },
 "nbformat": 4,
 "nbformat_minor": 2
}
