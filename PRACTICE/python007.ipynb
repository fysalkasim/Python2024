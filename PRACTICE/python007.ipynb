{
 "cells": [
  {
   "cell_type": "code",
   "execution_count": 23,
   "metadata": {},
   "outputs": [
    {
     "name": "stdout",
     "output_type": "stream",
     "text": [
      "The zero division is not possible\n"
     ]
    }
   ],
   "source": [
    "num1 = int(input(\"Enter the first number\"))\n",
    "num2 = int(input(\"Enter the second number\"))\n",
    "if num2!=0:\n",
    "    print(num1/num2)\n",
    "else:\n",
    "    print(\"The zero division is not possible\")\n",
    "\n",
    "    \n",
    "\n",
    "               "
   ]
  },
  {
   "cell_type": "code",
   "execution_count": 26,
   "metadata": {},
   "outputs": [
    {
     "name": "stdout",
     "output_type": "stream",
     "text": [
      "Dividing with zero is not possible\n"
     ]
    }
   ],
   "source": [
    "try:\n",
    "    num1 = int(input(\"Enter the first number\"))\n",
    "    num2 = int(input(\"Enter the second number\"))\n",
    "    result=(num1/num2)\n",
    "    print(\"The divion result:\",result)\n",
    "except ValueError:\n",
    "    print(\"Invalid number entered\")\n",
    "except ZeroDivisionError:\n",
    "    print(\"Dividing with zero is not possible\")\n",
    "    "
   ]
  },
  {
   "cell_type": "code",
   "execution_count": 29,
   "metadata": {},
   "outputs": [
    {
     "name": "stdout",
     "output_type": "stream",
     "text": [
      "Dividing with zero is not possible\n",
      "inside finally\n"
     ]
    }
   ],
   "source": [
    "try:\n",
    "    num1 = int(input(\"Enter the first number\"))\n",
    "    num2 = int(input(\"Enter the second number\"))\n",
    "    result=(num1/num2)\n",
    "    \n",
    "except ValueError:\n",
    "    print(\"Invalid number entered\")\n",
    "except ZeroDivisionError:\n",
    "    print(\"Dividing with zero is not possible\")\n",
    "else:\n",
    "    print(f\"The result of the division is: {result}\")\n",
    "\n"
   ]
  },
  {
   "cell_type": "code",
   "execution_count": 22,
   "metadata": {},
   "outputs": [
    {
     "name": "stdout",
     "output_type": "stream",
     "text": [
      "Can't divide with zero\n",
      "outside exception\n"
     ]
    }
   ],
   "source": [
    "try:\n",
    "    a = int(input(\"Enter a:\"))\n",
    "    b = int(input(\"Enter b:\"))\n",
    "    c = a/b\n",
    "    print(\"result:\",c)\n",
    "    print(\"hi..\")\n",
    "except:\n",
    "    print(\"Can't divide with zero\")\n",
    "\n",
    "print(\"outside exception\")"
   ]
  },
  {
   "cell_type": "code",
   "execution_count": 33,
   "metadata": {},
   "outputs": [
    {
     "name": "stdout",
     "output_type": "stream",
     "text": [
      "the age is valid\n",
      "outside exception\n"
     ]
    }
   ],
   "source": [
    "try:\n",
    "    age = int(input(\"Enter the age:\"))\n",
    "    if(age<18):\n",
    "        raise ValueError\n",
    "    else:\n",
    "        print(\"the age is valid\")\n",
    "except Exception:\n",
    "    print(\"The age is not valid\")\n",
    "\n",
    "print(\"outside exception\")"
   ]
  },
  {
   "cell_type": "code",
   "execution_count": null,
   "metadata": {},
   "outputs": [],
   "source": []
  },
  {
   "cell_type": "code",
   "execution_count": 3,
   "metadata": {},
   "outputs": [],
   "source": [
    "import re\n",
    "txt = \"The rain in Spain\"\n",
    "x = re.search(\"r\", txt)"
   ]
  },
  {
   "cell_type": "code",
   "execution_count": 4,
   "metadata": {},
   "outputs": [
    {
     "data": {
      "text/plain": [
       "4"
      ]
     },
     "execution_count": 4,
     "metadata": {},
     "output_type": "execute_result"
    }
   ],
   "source": [
    "x.start()"
   ]
  },
  {
   "cell_type": "code",
   "execution_count": 8,
   "metadata": {},
   "outputs": [
    {
     "name": "stdout",
     "output_type": "stream",
     "text": [
      "['hello']\n"
     ]
    }
   ],
   "source": [
    "import re\n",
    "txt = \"hello planet\"\n",
    "x = re.findall(\"^hello\", txt)\n",
    "print(x)"
   ]
  },
  {
   "cell_type": "code",
   "execution_count": 20,
   "metadata": {},
   "outputs": [
    {
     "name": "stdout",
     "output_type": "stream",
     "text": [
      "['hello']\n"
     ]
    }
   ],
   "source": [
    "import re\n",
    "txt = \"hello planet\"\n",
    "x = re.findall(\"he..o\", txt)\n",
    "print(x)"
   ]
  },
  {
   "cell_type": "code",
   "execution_count": 22,
   "metadata": {},
   "outputs": [
    {
     "data": {
      "text/plain": [
       "str"
      ]
     },
     "execution_count": 22,
     "metadata": {},
     "output_type": "execute_result"
    }
   ],
   "source": [
    "type(name)"
   ]
  },
  {
   "cell_type": "code",
   "execution_count": 38,
   "metadata": {},
   "outputs": [
    {
     "name": "stdout",
     "output_type": "stream",
     "text": [
      "John\n",
      "23\n"
     ]
    }
   ],
   "source": [
    "class Student:\n",
    "    def __init__(self, name, id, age):\n",
    "        self.name = name\n",
    "        self.id = id\n",
    "        self.age = age\n",
    "    def show(self):\n",
    "        print(self.age)\n",
    "        # creates the object of the class Student\n",
    "\n",
    "s = Student(\"John\", 101, 22)\n",
    "# prints the attribute name of the object s\n",
    "print(getattr(s, \"name\"))\n",
    "\n",
    "# reset the value of attribute age to 23\n",
    "setattr(s, \"age\", 23)\n",
    "\n",
    "# prints the modified value of age\n",
    "print(getattr(s, 'age'))"
   ]
  },
  {
   "cell_type": "code",
   "execution_count": 40,
   "metadata": {},
   "outputs": [
    {
     "name": "stdout",
     "output_type": "stream",
     "text": [
      "23\n"
     ]
    }
   ],
   "source": [
    "s.show()"
   ]
  },
  {
   "cell_type": "code",
   "execution_count": 42,
   "metadata": {},
   "outputs": [
    {
     "name": "stdout",
     "output_type": "stream",
     "text": [
      "Doc: None\n",
      "Dict: {'name': 'John', 'id': 101, 'age': 22}\n",
      "Module: __main__\n",
      "Name: Student\n",
      "Base: (<class 'object'>,)\n"
     ]
    }
   ],
   "source": [
    "class Student:\n",
    "    def __init__(self,name,id,age):\n",
    "        self.name = name\n",
    "        self.id = id\n",
    "        self.age = age\n",
    "    def display_details(self):\n",
    "        print(\"Name:%s, ID:%d, age:%d\" % (self.name,self.id,self.age))\n",
    "s = Student(\"John\",101,22)\n",
    "print(\"Doc:\",s.__doc__)\n",
    "print(\"Dict:\",s.__dict__)\n",
    "print(\"Module:\",s.__module__)\n",
    "print(\"Name:\",Student.__name__)\n",
    "print(\"Base:\",Student.__bases__)"
   ]
  },
  {
   "cell_type": "code",
   "execution_count": 43,
   "metadata": {},
   "outputs": [
    {
     "name": "stdout",
     "output_type": "stream",
     "text": [
      "Barking\n"
     ]
    }
   ],
   "source": [
    "class Animal:\n",
    "    def speak(self):\n",
    "        print(\"speaking\")\n",
    "class Dog(Animal):\n",
    "    def speak(self):\n",
    "        print(\"Barking\")\n",
    "d = Dog()\n",
    "d.speak()"
   ]
  },
  {
   "cell_type": "code",
   "execution_count": 5,
   "metadata": {},
   "outputs": [
    {
     "name": "stdout",
     "output_type": "stream",
     "text": [
      "Invalid input. Please enter a number.\n",
      "Invalid input. Please enter a number.\n",
      "Invalid input. Please enter a number.\n",
      "You are in the first elif block: number is between 5 and 10.\n",
      "Exiting the program.\n"
     ]
    }
   ],
   "source": [
    "while True:\n",
    "    # Ask for user input\n",
    "    user_input = input(\"Enter a number between 1 and 20 (or type 'quit' to exit): \")\n",
    "\n",
    "    # Allow exit from the loop\n",
    "    if user_input.lower() == 'quit':\n",
    "        print(\"Exiting the program.\")\n",
    "        break\n",
    "    \n",
    "    # Check if input is a valid number\n",
    "    try:\n",
    "        number = int(user_input)\n",
    "    except ValueError:\n",
    "        print(\"Invalid input. Please enter a number.\")\n",
    "        continue\n",
    "\n",
    "    # if-elif-else conditions\n",
    "    if number < 5:\n",
    "        print(\"You are in the first if block: number is less than 5.\")\n",
    "    elif 5 <= number <= 10:\n",
    "        print(\"You are in the first elif block: number is between 5 and 10.\")\n",
    "    elif 11 <= number <= 15:\n",
    "        print(\"You are in the second elif block: number is between 11 and 15.\")\n",
    "    elif 16 <= number <= 20:\n",
    "        print(\"You are in the third elif block: number is between 16 and 20.\")\n",
    "    else:\n",
    "        print(\"You are in the else block: number is outside the range 1-20.\")"
   ]
  },
  {
   "cell_type": "code",
   "execution_count": 14,
   "metadata": {},
   "outputs": [
    {
     "data": {
      "text/plain": [
       "'Abc.def'"
      ]
     },
     "execution_count": 14,
     "metadata": {},
     "output_type": "execute_result"
    }
   ],
   "source": [
    "\"abc. DEF\".capitalize()"
   ]
  },
  {
   "cell_type": "code",
   "execution_count": 21,
   "metadata": {},
   "outputs": [
    {
     "data": {
      "text/plain": [
       "512"
      ]
     },
     "execution_count": 21,
     "metadata": {},
     "output_type": "execute_result"
    }
   ],
   "source": [
    "2**9"
   ]
  },
  {
   "cell_type": "code",
   "execution_count": 29,
   "metadata": {},
   "outputs": [
    {
     "name": "stdout",
     "output_type": "stream",
     "text": [
      "The number is negative\n"
     ]
    }
   ],
   "source": [
    "number = int(input(\"Enter the number to check whether it is positive/not\"))\n",
    "if number >0:\n",
    "    print(\"The number is positive\")\n",
    "elif number ==0:\n",
    "    print(\"The number is zero\")\n",
    "else:\n",
    "    print(\"The number is negative\")"
   ]
  },
  {
   "cell_type": "code",
   "execution_count": 33,
   "metadata": {},
   "outputs": [
    {
     "name": "stdout",
     "output_type": "stream",
     "text": [
      "You got the grade A\n"
     ]
    }
   ],
   "source": [
    "marks = int(input(\"Enter the marks you have got\"))\n",
    "if 100>marks>85:\n",
    "    print(\"You got the grade A\")\n",
    "elif 84>marks>60:\n",
    "    print(\"You got a score of B\")"
   ]
  },
  {
   "cell_type": "code",
   "execution_count": null,
   "metadata": {},
   "outputs": [],
   "source": [
    "marks = int(input(\"Enter the marks you have got\"))\n",
    "if 100>marks>85:\n",
    "    print(\"You got the grade A\")\n",
    "elif 84>marks>60:\n",
    "    print(\"You got a score of B\")"
   ]
  },
  {
   "cell_type": "code",
   "execution_count": 1,
   "metadata": {},
   "outputs": [],
   "source": [
    "import mysql.connector"
   ]
  },
  {
   "cell_type": "code",
   "execution_count": 5,
   "metadata": {},
   "outputs": [],
   "source": [
    "mydb = mysql.connector.connect(\n",
    "    host=\"localhost\",\n",
    "    username=\"root\",\n",
    "    password=\"root\",\n",
    "    database=\"smec\"\n",
    "    )"
   ]
  },
  {
   "cell_type": "code",
   "execution_count": 13,
   "metadata": {},
   "outputs": [],
   "source": [
    "mycursor = mydb.cursor()"
   ]
  },
  {
   "cell_type": "code",
   "execution_count": 14,
   "metadata": {},
   "outputs": [],
   "source": [
    "mycursor.execute(\"show tables\")"
   ]
  },
  {
   "cell_type": "code",
   "execution_count": 15,
   "metadata": {},
   "outputs": [],
   "source": [
    "result = mycursor.fetchall()"
   ]
  },
  {
   "cell_type": "code",
   "execution_count": 16,
   "metadata": {},
   "outputs": [
    {
     "name": "stdout",
     "output_type": "stream",
     "text": [
      "[('customers',), ('orders',), ('sales',), ('titanic',)]\n"
     ]
    }
   ],
   "source": [
    "print(result)"
   ]
  },
  {
   "cell_type": "code",
   "execution_count": 18,
   "metadata": {},
   "outputs": [
    {
     "data": {
      "text/plain": [
       "[(1, 'Ramesh', 32, 'Ahamedabad', Decimal('2000.00')),\n",
       " (2, 'SK', 60, 'Kochi', Decimal('3200.00')),\n",
       " (3, 'kaushik', 23, 'Ahamedabad', Decimal('2000.00')),\n",
       " (4, 'Rahul', 25, 'KOCHI', Decimal('3500.00')),\n",
       " (5, 'Krishnan', 25, 'KOCHI', Decimal('3500.00')),\n",
       " (6, 'Krishnan', 25, 'KOCHI', Decimal('3500.00'))]"
      ]
     },
     "execution_count": 18,
     "metadata": {},
     "output_type": "execute_result"
    }
   ],
   "source": [
    "mycursor.execute(\"select * from customers\")\n",
    "mycursor.fetchall()"
   ]
  },
  {
   "cell_type": "code",
   "execution_count": null,
   "metadata": {},
   "outputs": [
    {
     "name": "stdout",
     "output_type": "stream",
     "text": [
      "1 record inserted.\n"
     ]
    }
   ],
   "source": [
    "# sql = \"INSERT INTO customers (name, address) VALUES (%s, %s)\"\n",
    "# val = (\"John\", \"Highway 21\")\n",
    "mycursor.execute(\"insert into customers values(9,\\\"Fysal\\\",44,\\\"Kerala\\\",1000.00),\")\n",
    "mydb.commit()\n",
    "print(mycursor.rowcount, \"record inserted.\")"
   ]
  },
  {
   "cell_type": "code",
   "execution_count": null,
   "metadata": {},
   "outputs": [],
   "source": []
  },
  {
   "cell_type": "code",
   "execution_count": null,
   "metadata": {},
   "outputs": [],
   "source": []
  },
  {
   "cell_type": "code",
   "execution_count": null,
   "metadata": {},
   "outputs": [],
   "source": []
  }
 ],
 "metadata": {
  "kernelspec": {
   "display_name": "base",
   "language": "python",
   "name": "python3"
  },
  "language_info": {
   "codemirror_mode": {
    "name": "ipython",
    "version": 3
   },
   "file_extension": ".py",
   "mimetype": "text/x-python",
   "name": "python",
   "nbconvert_exporter": "python",
   "pygments_lexer": "ipython3",
   "version": "3.11.7"
  }
 },
 "nbformat": 4,
 "nbformat_minor": 2
}
