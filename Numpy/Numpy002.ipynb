{
 "cells": [
  {
   "cell_type": "code",
   "execution_count": 1,
   "metadata": {},
   "outputs": [
    {
     "name": "stdout",
     "output_type": "stream",
     "text": [
      "Original array is:\n",
      "[[ 0  5 10 15]\n",
      " [20 25 30 35]\n",
      " [40 45 50 55]]\n",
      "Transpose of the original array is:\n",
      "[[ 0 20 40]\n",
      " [ 5 25 45]\n",
      " [10 30 50]\n",
      " [15 35 55]]\n",
      "Sorted in C-style order:\n",
      "[[ 0 20 40]\n",
      " [ 5 25 45]\n",
      " [10 30 50]\n",
      " [15 35 55]]\n",
      "0 20 40 5 25 45 10 30 50 15 35 55 \n",
      "Sorted in F-style order:\n",
      "[[ 0 20 40]\n",
      " [ 5 25 45]\n",
      " [10 30 50]\n",
      " [15 35 55]]\n",
      "0 5 10 15 20 25 30 35 40 45 50 55 "
     ]
    }
   ],
   "source": [
    "import numpy as np\n",
    "a = np.arange(0,60,5)\n",
    "a = a.reshape(3,4)\n",
    "\n",
    "print('Original array is:')\n",
    "print(a)\n",
    "\n",
    "print('Transpose of the original array is:')\n",
    "b = a.T\n",
    "print(b)\n",
    "\n",
    "print('Sorted in C-style order:')\n",
    "c = b.copy(order = 'C')\n",
    "print(c)\n",
    "for x in np.nditer(c):\n",
    "    print(x, end=' ')\n",
    "\n",
    "print('\\nSorted in F-style order:')\n",
    "c = b.copy(order = 'F')\n",
    "print(c)\n",
    "for x in np.nditer(c):\n",
    "    print(x, end=' ')"
   ]
  },
  {
   "cell_type": "code",
   "execution_count": 2,
   "metadata": {},
   "outputs": [
    {
     "name": "stdout",
     "output_type": "stream",
     "text": [
      "The original array:\n",
      "[0 1 2 3 4 5 6 7]\n",
      "The modified array:\n",
      "[[0 1]\n",
      " [2 3]\n",
      " [4 5]\n",
      " [6 7]]\n"
     ]
    }
   ],
   "source": [
    "a = np.arange(8)\n",
    "print('The original array:')\n",
    "print(a)\n",
    "b = a.reshape(4,2)\n",
    "print('The modified array:')\n",
    "print(b)"
   ]
  },
  {
   "cell_type": "code",
   "execution_count": 3,
   "metadata": {},
   "outputs": [
    {
     "data": {
      "text/plain": [
       "array([[0, 1, 2, 3],\n",
       "       [4, 5, 6, 7]])"
      ]
     },
     "execution_count": 3,
     "metadata": {},
     "output_type": "execute_result"
    }
   ],
   "source": [
    "np.reshape(b,(2,4))\n"
   ]
  },
  {
   "cell_type": "code",
   "execution_count": 10,
   "metadata": {},
   "outputs": [
    {
     "name": "stdout",
     "output_type": "stream",
     "text": [
      "The original array:\n",
      "[[0 1 2 3]\n",
      " [4 5 6 7]]\n"
     ]
    }
   ],
   "source": [
    "a = np.arange(8).reshape(2,4)\n",
    "print('The original array:')\n",
    "\n",
    "print(a)"
   ]
  },
  {
   "cell_type": "code",
   "execution_count": 13,
   "metadata": {},
   "outputs": [
    {
     "name": "stdout",
     "output_type": "stream",
     "text": [
      "2\n"
     ]
    }
   ],
   "source": [
    "print(a.flat[2])"
   ]
  },
  {
   "cell_type": "code",
   "execution_count": 14,
   "metadata": {},
   "outputs": [],
   "source": [
    "a = np.arange(8).reshape(2,4)"
   ]
  },
  {
   "cell_type": "code",
   "execution_count": 16,
   "metadata": {},
   "outputs": [
    {
     "name": "stdout",
     "output_type": "stream",
     "text": [
      "The original array is:\n",
      "[[[ 0  1  2  3  4  5  6]\n",
      "  [ 7  8  9 10 11 12 13]]\n",
      "\n",
      " [[14 15 16 17 18 19 20]\n",
      "  [21 22 23 24 25 26 27]]\n",
      "\n",
      " [[28 29 30 31 32 33 34]\n",
      "  [35 36 37 38 39 40 41]]]\n",
      "The flattened array is:\n",
      "[ 0  1  2  3  4  5  6  7  8  9 10 11 12 13 14 15 16 17 18 19 20 21 22 23\n",
      " 24 25 26 27 28 29 30 31 32 33 34 35 36 37 38 39 40 41]\n",
      "The flattened array in F-style ordering:\n",
      "[ 0 14 28  7 21 35  1 15 29  8 22 36  2 16 30  9 23 37  3 17 31 10 24 38\n",
      "  4 18 32 11 25 39  5 19 33 12 26 40  6 20 34 13 27 41]\n"
     ]
    }
   ],
   "source": [
    "a = np.arange(42).reshape(3,2,7)\n",
    "\n",
    "print('The original array is:')\n",
    "print(a)\n",
    "\n",
    "# default is column-major\n",
    "\n",
    "print('The flattened array is:')\n",
    "print(a.flatten())\n",
    "\n",
    "\n",
    "print('The flattened array in F-style ordering:')\n",
    "print(a.flatten(order='F'))"
   ]
  },
  {
   "cell_type": "code",
   "execution_count": 18,
   "metadata": {},
   "outputs": [
    {
     "name": "stdout",
     "output_type": "stream",
     "text": [
      "The original array is:\n",
      "[[ 0  1  2  3]\n",
      " [ 4  5  6  7]\n",
      " [ 8  9 10 11]]\n",
      "The transposed array is:\n",
      "[[ 0  4  8]\n",
      " [ 1  5  9]\n",
      " [ 2  6 10]\n",
      " [ 3  7 11]]\n"
     ]
    }
   ],
   "source": [
    "a = np.arange(12).reshape(3,4)\n",
    "\n",
    "print('The original array is:')\n",
    "print(a)\n",
    "\n",
    "print('The transposed array is:')\n",
    "print(np.transpose(a))"
   ]
  },
  {
   "cell_type": "code",
   "execution_count": 19,
   "metadata": {},
   "outputs": [
    {
     "name": "stdout",
     "output_type": "stream",
     "text": [
      "The original array is:\n",
      "[[ 0  1  2  3]\n",
      " [ 4  5  6  7]\n",
      " [ 8  9 10 11]]\n",
      "Array after applying the function:\n",
      "[[ 0  4  8]\n",
      " [ 1  5  9]\n",
      " [ 2  6 10]\n",
      " [ 3  7 11]]\n"
     ]
    }
   ],
   "source": [
    "a = np.arange(12).reshape(3,4)\n",
    "\n",
    "print('The original array is:')\n",
    "print(a)\n",
    "\n",
    "print('Array after applying the function:')\n",
    "print(a.T)"
   ]
  },
  {
   "cell_type": "code",
   "execution_count": 20,
   "metadata": {},
   "outputs": [
    {
     "name": "stdout",
     "output_type": "stream",
     "text": [
      "First array:\n",
      "[[1 2]\n",
      " [3 4]]\n",
      "Second array:\n",
      "[[5 6]\n",
      " [7 8]]\n",
      "Joining the two arrays along axis 0:\n",
      "[[1 2]\n",
      " [3 4]\n",
      " [5 6]\n",
      " [7 8]]\n",
      "Joining the two arrays along axis 1:\n",
      "[[1 2 5 6]\n",
      " [3 4 7 8]]\n"
     ]
    }
   ],
   "source": [
    "a = np.array([[1,2],[3,4]])\n",
    "\n",
    "print('First array:')\n",
    "print(a)\n",
    "\n",
    "b = np.array([[5,6],[7,8]])\n",
    "\n",
    "print('Second array:')\n",
    "print(b)\n",
    "\n",
    "# both the arrays are of same dimensions\n",
    "\n",
    "print('Joining the two arrays along axis 0:')\n",
    "print(np.concatenate((a, b)))\n",
    "\n",
    "print('Joining the two arrays along axis 1:')\n",
    "print(np.concatenate((a, b), axis=1))"
   ]
  },
  {
   "cell_type": "code",
   "execution_count": 21,
   "metadata": {},
   "outputs": [
    {
     "name": "stdout",
     "output_type": "stream",
     "text": [
      "First Array:\n",
      "[[1 2]\n",
      " [3 4]]\n",
      "Second Array:\n",
      "[[5 6]\n",
      " [7 8]]\n",
      "Stack the two arrays along axis 0:\n",
      "[[[1 2]\n",
      "  [3 4]]\n",
      "\n",
      " [[5 6]\n",
      "  [7 8]]]\n",
      "Stack the two arrays along axis 1:\n",
      "[[[1 2]\n",
      "  [5 6]]\n",
      "\n",
      " [[3 4]\n",
      "  [7 8]]]\n"
     ]
    }
   ],
   "source": [
    "a = np.array([[1,2],[3,4]])\n",
    "\n",
    "print('First Array:')\n",
    "print(a)\n",
    "\n",
    "b = np.array([[5,6],[7,8]])\n",
    "\n",
    "print('Second Array:')\n",
    "print(b)\n",
    "\n",
    "print('Stack the two arrays along axis 0:')\n",
    "print(np.stack((a, b), 0))\n",
    "\n",
    "print('Stack the two arrays along axis 1:')\n",
    "print(np.stack((a, b), 1))"
   ]
  },
  {
   "cell_type": "code",
   "execution_count": 29,
   "metadata": {},
   "outputs": [
    {
     "name": "stdout",
     "output_type": "stream",
     "text": [
      "First array:\n",
      "[[1 2]\n",
      " [3 4]]\n",
      "Second array:\n",
      "[[5 6]\n",
      " [7 8]]\n",
      "Horizontal stacking:\n",
      "[[1 2 5 6]\n",
      " [3 4 7 8]]\n",
      "[[[1 2]\n",
      "  [5 6]]\n",
      "\n",
      " [[3 4]\n",
      "  [7 8]]]\n",
      "[[1 2]\n",
      " [3 4]\n",
      " [5 6]\n",
      " [7 8]]\n"
     ]
    }
   ],
   "source": [
    "a = np.array([[1,2],[3,4]])\n",
    "print('First array:')\n",
    "print(a)\n",
    "\n",
    "b = np.array([[5,6],[7,8]])\n",
    "\n",
    "print('Second array:')\n",
    "print(b)\n",
    "\n",
    "print('Horizontal stacking:')\n",
    "c = np.hstack((a,b))\n",
    "print(c)\n",
    "d = np.stack((a,b),axis = 1)\n",
    "print(d)\n",
    "e = np.vstack((a,b))\n",
    "print(e)"
   ]
  },
  {
   "cell_type": "code",
   "execution_count": 35,
   "metadata": {},
   "outputs": [
    {
     "name": "stdout",
     "output_type": "stream",
     "text": [
      "First array:\n",
      "[0 1 2 3 4 5 6 7 8]\n",
      "Split the array in 3 equal-sized subarrays:\n",
      "[array([0, 1, 2]), array([3, 4, 5]), array([6, 7, 8])]\n",
      "Split the array at positions indicated in 1-D array:\n",
      "[array([0, 1, 2, 3]), array([4, 5, 6]), array([7, 8])]\n"
     ]
    }
   ],
   "source": [
    "a = np.arange(9)\n",
    "print('First array:')\n",
    "print(a)\n",
    "print('Split the array in 3 equal-sized subarrays:')\n",
    "b = np.split(a,3)\n",
    "print(b)\n",
    "\n",
    "print('Split the array at positions indicated in 1-D array:')\n",
    "b = np.split(a,[4,7])\n",
    "print(b)\n"
   ]
  },
  {
   "cell_type": "code",
   "execution_count": 37,
   "metadata": {},
   "outputs": [
    {
     "name": "stdout",
     "output_type": "stream",
     "text": [
      "First array:\n",
      "[[ 0  1  2  3]\n",
      " [ 4  5  6  7]\n",
      " [ 8  9 10 11]\n",
      " [12 13 14 15]]\n",
      "Horizontal splitting:\n",
      "[array([[0, 1, 2, 3],\n",
      "       [4, 5, 6, 7]]), array([[ 8,  9, 10, 11],\n",
      "       [12, 13, 14, 15]])]\n"
     ]
    }
   ],
   "source": [
    "a = np.arange(16).reshape(4,4)\n",
    "\n",
    "print('First array:')\n",
    "print(a)\n",
    "\n",
    "print('Horizontal splitting:')\n",
    "b = np.vsplit(a,2)\n",
    "print(b)\n"
   ]
  },
  {
   "cell_type": "code",
   "execution_count": 40,
   "metadata": {},
   "outputs": [
    {
     "data": {
      "text/plain": [
       "[array([[0, 1, 2, 3],\n",
       "        [4, 5, 6, 7]]),\n",
       " array([[ 8,  9, 10, 11]]),\n",
       " array([[12, 13, 14, 15]])]"
      ]
     },
     "execution_count": 40,
     "metadata": {},
     "output_type": "execute_result"
    }
   ],
   "source": [
    "c = np.vsplit(a,[2,3])\n",
    "c"
   ]
  },
  {
   "cell_type": "code",
   "execution_count": 44,
   "metadata": {},
   "outputs": [
    {
     "name": "stdout",
     "output_type": "stream",
     "text": [
      "First array:\n",
      "[[1 2 3]\n",
      " [4 5 6]]\n",
      "The shape of first array:\n",
      "(2, 3)\n",
      "Second array:\n",
      "[[1 2 3 4 5 6 1 2 3 4 5 6 1 2 3 4 5 6 1]\n",
      " [2 3 4 5 6 1 2 3 4 5 6 1 2 3 4 5 6 1 2]\n",
      " [3 4 5 6 1 2 3 4 5 6 1 2 3 4 5 6 1 2 3]]\n",
      "The shape of second array:\n",
      "(3, 19)\n",
      "(2, 4)\n",
      "8\n",
      "[[1 2]\n",
      " [3 4]\n",
      " [2 3]\n",
      " [4 5]]\n",
      "[1 2 3 4 2 3 4 5 1 2 3 4]\n",
      "Resize the second array:\n",
      "[[1 2 3]\n",
      " [4 2 3]\n",
      " [4 5 1]]\n"
     ]
    }
   ],
   "source": [
    "a = np.array([[1,2,3],[4,5,6]])\n",
    "\n",
    "print('First array:')\n",
    "print(a)\n",
    "\n",
    "print('The shape of first array:')\n",
    "print(a.shape)\n",
    "\n",
    "b = np.resize(a, (3,19))\n",
    "\n",
    "print('Second array:')\n",
    "print(b)\n",
    "\n",
    "print('The shape of second array:')\n",
    "print(b.shape)\n",
    "\n",
    "a= np.array([[1,2,3,4],[2,3,4,5]])\n",
    "print(a.shape)\n",
    "print(a.size)\n",
    "b=a.reshape(4,2)\n",
    "print(b)\n",
    "c=np.resize(a,12)\n",
    "print(c)\n",
    "\n",
    "# Observe that first row of a is repeated in b since size is bigger\n",
    "\n",
    "print('Resize the second array:')\n",
    "b = np.resize(a,(3,3))\n",
    "print(b)"
   ]
  },
  {
   "cell_type": "code",
   "execution_count": 56,
   "metadata": {},
   "outputs": [
    {
     "name": "stdout",
     "output_type": "stream",
     "text": [
      "First array:\n",
      "[[1 2 3]\n",
      " [4 5 6]]\n",
      "Second array:\n",
      "[[7 8 9]]\n",
      "Append elements to array:\n",
      "[1 2 3 4 5 6 7 8 9]\n",
      "Append elements along axis 0:\n",
      "[[1 2 3]\n",
      " [4 5 6]\n",
      " [7 8 9]]\n",
      "Append elements along axis 1:\n",
      "[[1 2 3 5 5 5]\n",
      " [4 5 6 7 8 9]]\n"
     ]
    }
   ],
   "source": [
    "a = np.array([[1,2,3],[4,5,6]])\n",
    "\n",
    "print('First array:')\n",
    "print(a)\n",
    "\n",
    "b = np.array([[7, 8, 9]])\n",
    "print('Second array:')\n",
    "print(b)\n",
    "print('Append elements to array:')\n",
    "print(np.append(a, b))\n",
    "\n",
    "print('Append elements along axis 0:')\n",
    "print(np.append(a, [[7, 8, 9]], axis=0))\n",
    "\n",
    "print('Append elements along axis 1:')\n",
    "print(np.append(a, [[5, 5, 5], [7, 8, 9]], axis=1))"
   ]
  },
  {
   "cell_type": "code",
   "execution_count": 57,
   "metadata": {},
   "outputs": [
    {
     "name": "stdout",
     "output_type": "stream",
     "text": [
      "First array:\n",
      "[[1 2]\n",
      " [3 4]\n",
      " [5 6]]\n",
      "Axis parameter not passed. The input array is flattened before insertion.\n",
      "[ 1  2  3 11 12  4  5  6]\n",
      "Axis parameter passed. The values array is broadcast to match input array.\n",
      "Broadcast along axis 0:\n",
      "[[ 1  2]\n",
      " [11 11]\n",
      " [ 3  4]\n",
      " [ 5  6]]\n",
      "Broadcast along axis 1:\n",
      "[[ 1 11  2]\n",
      " [ 3 11  4]\n",
      " [ 5 11  6]]\n"
     ]
    }
   ],
   "source": [
    "a = np.array([[1,2],[3,4],[5,6]])\n",
    "\n",
    "print('First array:')\n",
    "print(a)\n",
    "\n",
    "print('Axis parameter not passed. The input array is flattened before insertion.')\n",
    "print(np.insert(a, 3, [11, 12]))\n",
    "\n",
    "print('Axis parameter passed. The values array is broadcast to match input array.')\n",
    "\n",
    "print('Broadcast along axis 0:')\n",
    "print(np.insert(a, 1, [11], axis=0))\n",
    "\n",
    "print('Broadcast along axis 1:')\n",
    "print(np.insert(a, 1, 11, axis=1))\n",
    "\n"
   ]
  },
  {
   "cell_type": "code",
   "execution_count": 61,
   "metadata": {},
   "outputs": [
    {
     "name": "stdout",
     "output_type": "stream",
     "text": [
      "First array:\n",
      "[[ 0  1  2  3]\n",
      " [ 4  5  6  7]\n",
      " [ 8  9 10 11]]\n",
      "Array flattened before delete operation as axis not used:\n",
      "[ 0  1  2  3  4  6  7  8  9 10 11]\n",
      "Column 2 deleted:\n",
      "[[ 1  2  3]\n",
      " [ 5  6  7]\n",
      " [ 9 10 11]]\n"
     ]
    }
   ],
   "source": [
    "a = np.arange(12).reshape(3,4)\n",
    "\n",
    "print('First array:')\n",
    "print(a)\n",
    "\n",
    "print('Array flattened before delete operation as axis not used:')\n",
    "print(np.delete(a, 5))\n",
    "\n",
    "print('Column 2 deleted:')\n",
    "print(np.delete(a, 0, axis=1))\n"
   ]
  },
  {
   "cell_type": "code",
   "execution_count": 63,
   "metadata": {},
   "outputs": [
    {
     "name": "stdout",
     "output_type": "stream",
     "text": [
      "First array:\n",
      "[5 2 6 2 7 5 6 8 2 9]\n",
      "\n",
      "\n",
      "Unique values of first array:\n",
      "[2 5 6 7 8 9]\n",
      "\n",
      "\n"
     ]
    }
   ],
   "source": [
    "a = np.array([5,2,6,2,7,5,6,8,2,9])\n",
    "\n",
    "print('First array:')\n",
    "print(a)\n",
    "print('\\n')\n",
    "\n",
    "print('Unique values of first array:')\n",
    "u = np.unique(a)\n",
    "print(u)\n",
    "print('\\n')"
   ]
  },
  {
   "cell_type": "code",
   "execution_count": 64,
   "metadata": {},
   "outputs": [
    {
     "name": "stdout",
     "output_type": "stream",
     "text": [
      "Unique array and Indices array:\n",
      "[1 0 2 4 7 9]\n"
     ]
    }
   ],
   "source": [
    "print('Unique array and Indices array:')\n",
    "u,indices = np.unique(a, return_index = True)\n",
    "print(indices)"
   ]
  },
  {
   "cell_type": "code",
   "execution_count": 67,
   "metadata": {},
   "outputs": [
    {
     "name": "stdout",
     "output_type": "stream",
     "text": [
      "[2 5 6 7 8 9]\n"
     ]
    }
   ],
   "source": [
    "print(a[indices])"
   ]
  },
  {
   "cell_type": "code",
   "execution_count": 70,
   "metadata": {},
   "outputs": [
    {
     "name": "stdout",
     "output_type": "stream",
     "text": [
      "[2 5 6 7 8 9]\n",
      "[3 2 2 1 1 1]\n"
     ]
    }
   ],
   "source": [
    "u,count = np.unique(a,return_counts = True)\n",
    "print(u)\n",
    "print(count)\n"
   ]
  },
  {
   "cell_type": "code",
   "execution_count": 73,
   "metadata": {},
   "outputs": [
    {
     "name": "stdout",
     "output_type": "stream",
     "text": [
      "[1 2 2 3 1 4 5 5 6]\n",
      "Indices of unique array:\n",
      "[1 2 3 4 5 6]\n",
      "\n",
      "\n",
      "Inverse are:\n",
      "[0 1 1 2 0 3 4 4 5]\n",
      "\n",
      "\n",
      "Reconstruct the original array using indices:\n",
      "[1 2 2 3 1 4 5 5 6]\n",
      "\n",
      "\n"
     ]
    }
   ],
   "source": [
    "a = np.array([1, 2, 2, 3, 1, 4, 5, 5, 6])\n",
    "print(a)\n",
    "\n",
    "print('Indices of unique array:')\n",
    "u, indices = np.unique(a, return_inverse=True)\n",
    "print(u)\n",
    "print('\\n')\n",
    "\n",
    "print('Inverse are:')\n",
    "print(indices)\n",
    "print('\\n')\n",
    "\n",
    "print('Reconstruct the original array using indices:')\n",
    "print(u[indices])\n",
    "print('\\n')"
   ]
  },
  {
   "cell_type": "code",
   "execution_count": 77,
   "metadata": {},
   "outputs": [
    {
     "name": "stdout",
     "output_type": "stream",
     "text": [
      "[2 5 6 7 8 9]\n",
      "\n",
      "\n"
     ]
    }
   ],
   "source": [
    "a = np.array([5,2,6,2,7,5,6,8,2,9])\n",
    "u = np.unique(a)\n",
    "print(u)\n",
    "print('\\n')\n",
    "\n",
    "\n"
   ]
  },
  {
   "cell_type": "code",
   "execution_count": 87,
   "metadata": {},
   "outputs": [
    {
     "name": "stdout",
     "output_type": "stream",
     "text": [
      "Orginal array [5 2 6 2 7 5 6 8 2 9]\n",
      "Unique Values:\n",
      "[2 5 6 7 8 9]\n",
      "Unique Indices:\n",
      "[1 0 2 4 7 9]\n",
      "\n",
      "\n",
      "Inverces are:\n",
      "[1 0 2 0 3 1 2 4 0 5]\n",
      "\n",
      "\n",
      "Reconstruct the original array using indices:\n",
      "[5 2 6 2 7 5 6 8 2 9]\n",
      "\n",
      "\n",
      "Return the count of repetitions of unique elements:\n",
      "[2 5 6 7 8 9]\n",
      "[3 2 2 1 1 1]\n"
     ]
    }
   ],
   "source": [
    "print(\"Orginal array\",a)\n",
    "print('Unique Values:')\n",
    "u,indices = np.unique(a, return_index = True)\n",
    "print(u)\n",
    "print('Unique Indices:')\n",
    "print(indices)\n",
    "u,inverse = np.unique(a,return_inverse = True)\n",
    "print('\\n')\n",
    "print('Inverces are:')\n",
    "print(inverse)\n",
    "print('\\n')\n",
    "\n",
    "print('Reconstruct the original array using indices:')\n",
    "print(u[inverse])\n",
    "print('\\n')\n",
    "\n",
    "print('Return the count of repetitions of unique elements:')\n",
    "u,indices = np.unique(a,return_counts = True)\n",
    "print(u)\n",
    "print(indices)"
   ]
  },
  {
   "cell_type": "code",
   "execution_count": 89,
   "metadata": {},
   "outputs": [
    {
     "name": "stdout",
     "output_type": "stream",
     "text": [
      "hello xyz\n"
     ]
    }
   ],
   "source": [
    "print(np.char.add('hello', ' xyz'))"
   ]
  },
  {
   "cell_type": "code",
   "execution_count": 91,
   "metadata": {},
   "outputs": [
    {
     "name": "stdout",
     "output_type": "stream",
     "text": [
      "['Helloabc' 'Higeh']\n"
     ]
    }
   ],
   "source": [
    "print(np.char.add(['Hello','Hi'],[\"abc\",\"geh\"]))"
   ]
  },
  {
   "cell_type": "code",
   "execution_count": 92,
   "metadata": {},
   "outputs": [
    {
     "name": "stdout",
     "output_type": "stream",
     "text": [
      "Hello Hello Hello \n"
     ]
    }
   ],
   "source": [
    "print(np.char.multiply('Hello ', 3))"
   ]
  },
  {
   "cell_type": "code",
   "execution_count": 101,
   "metadata": {},
   "outputs": [
    {
     "name": "stdout",
     "output_type": "stream",
     "text": [
      "$$$$$$$hello$$$$$$$$\n"
     ]
    }
   ],
   "source": [
    "print(np.char.center('hello', 20, fillchar='$'))"
   ]
  },
  {
   "cell_type": "code",
   "execution_count": 103,
   "metadata": {},
   "outputs": [
    {
     "name": "stdout",
     "output_type": "stream",
     "text": [
      "Hello world\n"
     ]
    }
   ],
   "source": [
    "print(np.char.capitalize('hello world'))"
   ]
  },
  {
   "cell_type": "code",
   "execution_count": 106,
   "metadata": {},
   "outputs": [
    {
     "name": "stdout",
     "output_type": "stream",
     "text": [
      "Hello How Are You?\n"
     ]
    }
   ],
   "source": [
    "print(np.char.title('hello how are you?'))\n"
   ]
  },
  {
   "cell_type": "code",
   "execution_count": 107,
   "metadata": {},
   "outputs": [
    {
     "name": "stdout",
     "output_type": "stream",
     "text": [
      "hello\n"
     ]
    }
   ],
   "source": [
    "print(np.char.lower('HELLO'))"
   ]
  },
  {
   "cell_type": "code",
   "execution_count": 108,
   "metadata": {},
   "outputs": [
    {
     "name": "stdout",
     "output_type": "stream",
     "text": [
      "['HELLO' 'WORLD']\n"
     ]
    }
   ],
   "source": [
    "print(np.char.upper(['hello', 'world']))"
   ]
  },
  {
   "cell_type": "code",
   "execution_count": 109,
   "metadata": {},
   "outputs": [
    {
     "name": "stdout",
     "output_type": "stream",
     "text": [
      "['India', ' is my ', 'country']\n"
     ]
    }
   ],
   "source": [
    "print(np.char.split('India, is my ,country', sep=','))"
   ]
  },
  {
   "cell_type": "code",
   "execution_count": 118,
   "metadata": {},
   "outputs": [
    {
     "name": "stdout",
     "output_type": "stream",
     "text": [
      "['ror' 'dmin' 'jav']\n"
     ]
    }
   ],
   "source": [
    "print(np.char.strip(['arora', 'admin', 'java'], 'a'))"
   ]
  },
  {
   "cell_type": "code",
   "execution_count": 121,
   "metadata": {},
   "outputs": [
    {
     "name": "stdout",
     "output_type": "stream",
     "text": [
      "['d:m:y' 'y-m-d']\n"
     ]
    }
   ],
   "source": [
    "print(np.char.join([':', '-'], ['dmy', 'ymd']))"
   ]
  },
  {
   "cell_type": "code",
   "execution_count": 122,
   "metadata": {},
   "outputs": [
    {
     "name": "stdout",
     "output_type": "stream",
     "text": [
      "He was a good boy\n"
     ]
    }
   ],
   "source": [
    "print(np.char.replace('He is a good boy', 'is', 'was'))"
   ]
  },
  {
   "cell_type": "code",
   "execution_count": 123,
   "metadata": {},
   "outputs": [
    {
     "name": "stdout",
     "output_type": "stream",
     "text": [
      "Array containing sine values:\n",
      "[0.         0.5        0.70710678 0.8660254  1.        ]\n",
      "\n",
      "\n",
      "Compute sine inverse of angles. Returned values are in radians.\n",
      "[0.         0.52359878 0.78539816 1.04719755 1.57079633]\n",
      "\n",
      "\n",
      "Check result by converting to degrees:\n",
      "[ 0. 30. 45. 60. 90.]\n",
      "\n",
      "\n"
     ]
    }
   ],
   "source": [
    "a = np.array([0,30,45,60,90])\n",
    "print('Array containing sine values:')\n",
    "sin = np.sin(a*np.pi/180)\n",
    "print(sin)\n",
    "print('\\n')\n",
    "\n",
    "print('Compute sine inverse of angles. Returned values are in radians.')\n",
    "inv = np.arcsin(sin)\n",
    "print(inv)\n",
    "print('\\n')\n",
    "\n",
    "print('Check result by converting to degrees:')\n",
    "print(np.degrees(inv))\n",
    "print('\\n')"
   ]
  },
  {
   "cell_type": "code",
   "execution_count": 130,
   "metadata": {},
   "outputs": [
    {
     "name": "stdout",
     "output_type": "stream",
     "text": [
      "Original array:\n",
      "[  1.      5.55  123.      0.567  25.532]\n",
      "After rounding:\n",
      "[  1.   6. 123.   1.  26.]\n",
      "[  0.  10. 120.   0.  30.]\n"
     ]
    }
   ],
   "source": [
    "a = np.array([1.0,5.55, 123, 0.567, 25.532])\n",
    "print('Original array:')\n",
    "print(a)\n",
    "\n",
    "print('After rounding:')\n",
    "print(np.around(a))\n",
    "print(np.around(a, decimals=-1))"
   ]
  },
  {
   "cell_type": "code",
   "execution_count": null,
   "metadata": {},
   "outputs": [],
   "source": []
  }
 ],
 "metadata": {
  "kernelspec": {
   "display_name": "base",
   "language": "python",
   "name": "python3"
  },
  "language_info": {
   "codemirror_mode": {
    "name": "ipython",
    "version": 3
   },
   "file_extension": ".py",
   "mimetype": "text/x-python",
   "name": "python",
   "nbconvert_exporter": "python",
   "pygments_lexer": "ipython3",
   "version": "3.11.7"
  }
 },
 "nbformat": 4,
 "nbformat_minor": 2
}
