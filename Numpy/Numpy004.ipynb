{
 "cells": [
  {
   "cell_type": "code",
   "execution_count": null,
   "metadata": {},
   "outputs": [
    {
     "name": "stdout",
     "output_type": "stream",
     "text": [
      "Python list time: 30.325326681137085 seconds\n"
     ]
    }
   ],
   "source": [
    "import time\n",
    "import numpy as np\n",
    "size = 1000\n",
    "py_list1 = list(range(size))\n",
    "\n",
    "start_time = time.time()\n",
    "py_list_result = [x*10 for x in py_list1]\n",
    "end_time = time.time()\n",
    "print(f\"Python list time: {end_time - start_time} seconds\")"
   ]
  },
  {
   "cell_type": "code",
   "execution_count": null,
   "metadata": {},
   "outputs": [],
   "source": [
    "np_array1 = np.arange(size)\n",
    "\n",
    "start_time = time.time()\n",
    "np_array_result = np_array1 * 10\n",
    "# np_array_result = np.multiply(np_array1,10)\n",
    "end_time = time.time()\n",
    "print(f\"NumPy array addition time: {end_time - start_time} seconds\")"
   ]
  }
 ],
 "metadata": {
  "kernelspec": {
   "display_name": "base",
   "language": "python",
   "name": "python3"
  },
  "language_info": {
   "codemirror_mode": {
    "name": "ipython",
    "version": 3
   },
   "file_extension": ".py",
   "mimetype": "text/x-python",
   "name": "python",
   "nbconvert_exporter": "python",
   "pygments_lexer": "ipython3",
   "version": "3.11.7"
  }
 },
 "nbformat": 4,
 "nbformat_minor": 2
}
