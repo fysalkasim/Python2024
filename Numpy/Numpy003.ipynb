{
 "cells": [
  {
   "cell_type": "code",
   "execution_count": 1,
   "metadata": {},
   "outputs": [],
   "source": [
    "import numpy as np"
   ]
  },
  {
   "cell_type": "code",
   "execution_count": 10,
   "metadata": {},
   "outputs": [],
   "source": [
    "np1 = np.array([1,2,3,4,5],dtype = \"i4\",)"
   ]
  },
  {
   "cell_type": "code",
   "execution_count": 13,
   "metadata": {},
   "outputs": [
    {
     "data": {
      "text/plain": [
       "array([1, 2, 3, 4, 5])"
      ]
     },
     "execution_count": 13,
     "metadata": {},
     "output_type": "execute_result"
    }
   ],
   "source": [
    "np2 = np.array(np1,copy=False)\n",
    "np2"
   ]
  },
  {
   "cell_type": "code",
   "execution_count": 18,
   "metadata": {},
   "outputs": [
    {
     "name": "stdout",
     "output_type": "stream",
     "text": [
      "Array in C-order (row-major):\n",
      "[[1 2 3]\n",
      " [4 5 6]]\n",
      "Flattened C-order: [1 2 3 4 5 6]\n",
      "Flattened F-order: [1 4 2 5 3 6]\n",
      "\n",
      "Array in F-order (column-major):\n",
      "[[1 2 3]\n",
      " [4 5 6]]\n",
      "Flattened C-order: [1 2 3 4 5 6]\n",
      "Flattened F-order: [1 4 2 5 3 6]\n"
     ]
    }
   ],
   "source": [
    "# Create a 2x3 array with C-order (row-major)\n",
    "arr_c = np.array([[1, 2, 3], [4, 5, 6]], order='C')\n",
    "print(\"Array in C-order (row-major):\")\n",
    "print(arr_c)\n",
    "\n",
    "# Flatten the array to see how data is laid out in memory\n",
    "print(\"Flattened C-order:\", arr_c.flatten(order='C'))\n",
    "print(\"Flattened F-order:\", arr_c.flatten(order='F'))\n",
    "\n",
    "# Create a 2x3 array with F-order (column-major)\n",
    "arr_f = np.array([[1, 2, 3], [4, 5, 6]], order='F')\n",
    "print(\"\\nArray in F-order (column-major):\")\n",
    "print(arr_f)\n",
    "# Flatten the array to see how data is laid out in memory\n",
    "print(\"Flattened C-order:\", arr_f.flatten(order='C'))\n",
    "print(\"Flattened F-order:\", arr_f.flatten(order='F'))"
   ]
  },
  {
   "cell_type": "code",
   "execution_count": 19,
   "metadata": {},
   "outputs": [
    {
     "name": "stdout",
     "output_type": "stream",
     "text": [
      "Array with ndmin=1: [1 2 3]\n",
      "Shape: (3,)\n",
      "\n",
      "Array with ndmin=2: [[1 2 3]]\n",
      "Shape: (1, 3)\n",
      "\n",
      "Array with ndmin=3: [[[1 2 3]]]\n",
      "Shape: (1, 1, 3)\n"
     ]
    }
   ],
   "source": [
    "import numpy as np\n",
    "\n",
    "# Example 1: Create a 1D array with ndmin=1 (default)\n",
    "arr1 = np.array([1, 2, 3], ndmin=1)\n",
    "print(\"Array with ndmin=1:\", arr1)\n",
    "print(\"Shape:\", arr1.shape)\n",
    "\n",
    "# Example 2: Create a 1D array with ndmin=2\n",
    "arr2 = np.array([1, 2, 3], ndmin=2)\n",
    "print(\"\\nArray with ndmin=2:\", arr2)\n",
    "print(\"Shape:\", arr2.shape)\n",
    "\n",
    "# Example 3: Create a 1D array with ndmin=3\n",
    "arr3 = np.array([1, 2, 3], ndmin=3)\n",
    "print(\"\\nArray with ndmin=3:\", arr3)\n",
    "print(\"Shape:\", arr3.shape)"
   ]
  },
  {
   "cell_type": "code",
   "execution_count": 22,
   "metadata": {},
   "outputs": [],
   "source": [
    "dt = np.dtype([(\"Name\",\"S20\"),(\"Age\",\"i2\")])"
   ]
  },
  {
   "cell_type": "code",
   "execution_count": 26,
   "metadata": {},
   "outputs": [],
   "source": [
    "np2 = np.array([(\"Rahul\",20),(\"Alice\",25)],dtype=dt)"
   ]
  },
  {
   "cell_type": "code",
   "execution_count": 27,
   "metadata": {},
   "outputs": [
    {
     "data": {
      "text/plain": [
       "array([(b'Rahul', 20), (b'Alice', 25)],\n",
       "      dtype=[('Name', 'S20'), ('Age', '<i2')])"
      ]
     },
     "execution_count": 27,
     "metadata": {},
     "output_type": "execute_result"
    }
   ],
   "source": [
    "np2"
   ]
  },
  {
   "cell_type": "code",
   "execution_count": 28,
   "metadata": {},
   "outputs": [
    {
     "data": {
      "text/plain": [
       "array([20, 25], dtype=int16)"
      ]
     },
     "execution_count": 28,
     "metadata": {},
     "output_type": "execute_result"
    }
   ],
   "source": [
    "np2[\"Age\"]"
   ]
  },
  {
   "cell_type": "code",
   "execution_count": 29,
   "metadata": {},
   "outputs": [
    {
     "data": {
      "text/plain": [
       "array([b'Rahul', b'Alice'], dtype='|S20')"
      ]
     },
     "execution_count": 29,
     "metadata": {},
     "output_type": "execute_result"
    }
   ],
   "source": [
    "np2[\"Name\"]"
   ]
  },
  {
   "cell_type": "code",
   "execution_count": 40,
   "metadata": {},
   "outputs": [
    {
     "name": "stdout",
     "output_type": "stream",
     "text": [
      "[[[1 2 3]\n",
      "  [4 5 6]]\n",
      "\n",
      " [[1 2 3]\n",
      "  [4 5 6]]]\n",
      "Shape: (2, 2, 3)\n",
      "Number of dimensions: 3\n",
      "Total elements: 12\n",
      "Item size (bytes): 2\n",
      "Total bytes: 24\n",
      "Data type: int16\n",
      "\n",
      "Original Array:\n",
      " [[[1 2 3]\n",
      "  [4 5 6]]\n",
      "\n",
      " [[1 2 3]\n",
      "  [4 5 6]]]\n",
      "Transposed Array:\n",
      " [[[1 1]\n",
      "  [4 4]]\n",
      "\n",
      " [[2 2]\n",
      "  [5 5]]\n",
      "\n",
      " [[3 3]\n",
      "  [6 6]]]\n"
     ]
    }
   ],
   "source": [
    "import numpy as np\n",
    "\n",
    "# Create a 2D array for demonstration\n",
    "arr = np.array([[[1, 2, 3], [4, 5, 6]],[[1, 2, 3], [4, 5, 6]]], dtype=\"int16\")\n",
    "print(arr)\n",
    "\n",
    "# 1. Shape of the array\n",
    "print(\"Shape:\", arr.shape)  # (2, 3) because it's 2 rows and 3 columns\n",
    "\n",
    "# 2. Number of dimensions\n",
    "print(\"Number of dimensions:\", arr.ndim)  # 2 because it's a 2D array\n",
    "\n",
    "# 3. Total number of elements\n",
    "print(\"Total elements:\", arr.size)  # 6 because there are 6 elements in total\n",
    "\n",
    "# 4. Memory size of each element (itemsize)\n",
    "print(\"Item size (bytes):\", arr.itemsize)  # 4 bytes, since int32 uses 4 bytes\n",
    "\n",
    "# 5. Total memory size of the array (nbytes)\n",
    "print(\"Total bytes:\", arr.nbytes)  # 24 bytes (6 elements * 4 bytes each)\n",
    "\n",
    "# 6. Data type of elements\n",
    "print(\"Data type:\", arr.dtype)  # int32\n",
    "\n",
    "# 7. Transpose of the array\n",
    "print(\"\\nOriginal Array:\\n\", arr)\n",
    "print(\"Transposed Array:\\n\", arr.T)"
   ]
  },
  {
   "cell_type": "code",
   "execution_count": 41,
   "metadata": {},
   "outputs": [
    {
     "data": {
      "text/plain": [
       "(2, 2, 3)"
      ]
     },
     "execution_count": 41,
     "metadata": {},
     "output_type": "execute_result"
    }
   ],
   "source": [
    "arr.shape"
   ]
  },
  {
   "cell_type": "code",
   "execution_count": 42,
   "metadata": {},
   "outputs": [
    {
     "data": {
      "text/plain": [
       "array([[[1, 2, 3],\n",
       "        [4, 5, 6]],\n",
       "\n",
       "       [[1, 2, 3],\n",
       "        [4, 5, 6]]], dtype=int16)"
      ]
     },
     "execution_count": 42,
     "metadata": {},
     "output_type": "execute_result"
    }
   ],
   "source": [
    "arr"
   ]
  },
  {
   "cell_type": "code",
   "execution_count": 43,
   "metadata": {},
   "outputs": [],
   "source": [
    "arr.shape = (3,2,2)"
   ]
  },
  {
   "cell_type": "code",
   "execution_count": 44,
   "metadata": {},
   "outputs": [
    {
     "data": {
      "text/plain": [
       "array([[[1, 2],\n",
       "        [3, 4]],\n",
       "\n",
       "       [[5, 6],\n",
       "        [1, 2]],\n",
       "\n",
       "       [[3, 4],\n",
       "        [5, 6]]], dtype=int16)"
      ]
     },
     "execution_count": 44,
     "metadata": {},
     "output_type": "execute_result"
    }
   ],
   "source": [
    "arr"
   ]
  },
  {
   "cell_type": "code",
   "execution_count": 48,
   "metadata": {},
   "outputs": [
    {
     "data": {
      "text/plain": [
       "array([ 0.,  2.,  4.,  6.,  8., 10.], dtype=float16)"
      ]
     },
     "execution_count": 48,
     "metadata": {},
     "output_type": "execute_result"
    }
   ],
   "source": [
    "np1 = np.arange(0,12,2,dtype=\"f2\")\n",
    "np1"
   ]
  },
  {
   "cell_type": "code",
   "execution_count": 64,
   "metadata": {},
   "outputs": [],
   "source": [
    "np2 = np.empty((4,3,3),dtype=\"i2\")"
   ]
  },
  {
   "cell_type": "code",
   "execution_count": 65,
   "metadata": {},
   "outputs": [
    {
     "data": {
      "text/plain": [
       "array([[[0, 0, 0],\n",
       "        [0, 0, 0],\n",
       "        [0, 0, 0]],\n",
       "\n",
       "       [[0, 0, 0],\n",
       "        [0, 0, 0],\n",
       "        [0, 0, 0]],\n",
       "\n",
       "       [[0, 0, 0],\n",
       "        [0, 0, 0],\n",
       "        [0, 0, 0]],\n",
       "\n",
       "       [[0, 0, 0],\n",
       "        [0, 0, 0],\n",
       "        [0, 0, 0]]], dtype=int16)"
      ]
     },
     "execution_count": 65,
     "metadata": {},
     "output_type": "execute_result"
    }
   ],
   "source": [
    "np2"
   ]
  },
  {
   "cell_type": "code",
   "execution_count": 62,
   "metadata": {},
   "outputs": [],
   "source": [
    "np3 = np.empty([4,3,3], dtype=\"i2\")"
   ]
  },
  {
   "cell_type": "code",
   "execution_count": 63,
   "metadata": {},
   "outputs": [
    {
     "data": {
      "text/plain": [
       "array([[[0, 0, 0],\n",
       "        [0, 0, 0],\n",
       "        [0, 0, 0]],\n",
       "\n",
       "       [[0, 0, 0],\n",
       "        [0, 0, 0],\n",
       "        [0, 0, 0]],\n",
       "\n",
       "       [[0, 0, 0],\n",
       "        [0, 0, 0],\n",
       "        [0, 0, 0]],\n",
       "\n",
       "       [[0, 0, 0],\n",
       "        [0, 0, 0],\n",
       "        [0, 0, 0]]], dtype=int16)"
      ]
     },
     "execution_count": 63,
     "metadata": {},
     "output_type": "execute_result"
    }
   ],
   "source": [
    "np3"
   ]
  },
  {
   "cell_type": "code",
   "execution_count": 68,
   "metadata": {},
   "outputs": [],
   "source": [
    "np3 = np.zeros((4,3,3),dtype = \"i4\")"
   ]
  },
  {
   "cell_type": "code",
   "execution_count": 69,
   "metadata": {},
   "outputs": [
    {
     "data": {
      "text/plain": [
       "array([[[0, 0, 0],\n",
       "        [0, 0, 0],\n",
       "        [0, 0, 0]],\n",
       "\n",
       "       [[0, 0, 0],\n",
       "        [0, 0, 0],\n",
       "        [0, 0, 0]],\n",
       "\n",
       "       [[0, 0, 0],\n",
       "        [0, 0, 0],\n",
       "        [0, 0, 0]],\n",
       "\n",
       "       [[0, 0, 0],\n",
       "        [0, 0, 0],\n",
       "        [0, 0, 0]]])"
      ]
     },
     "execution_count": 69,
     "metadata": {},
     "output_type": "execute_result"
    }
   ],
   "source": [
    "np3"
   ]
  },
  {
   "cell_type": "code",
   "execution_count": 74,
   "metadata": {},
   "outputs": [
    {
     "name": "stdout",
     "output_type": "stream",
     "text": [
      "\n",
      "Array from iterable: [ 0  1  2  3  4  5  6  7  8  9 10 11 12 13 14 15 16 17 18 19 20 21 22 23\n",
      " 24 25 26 27 28 29 30 31 32 33 34 35 36 37 38 39 40 41 42 43 44 45 46 47\n",
      " 48 49]\n"
     ]
    },
    {
     "data": {
      "text/plain": [
       "50"
      ]
     },
     "execution_count": 74,
     "metadata": {},
     "output_type": "execute_result"
    }
   ],
   "source": [
    "arr_fromiter = np.fromiter(range(100),np.int32,50)\n",
    "print(\"\\nArray from iterable:\", arr_fromiter)\n",
    "arr_fromiter.size"
   ]
  },
  {
   "cell_type": "code",
   "execution_count": 87,
   "metadata": {},
   "outputs": [],
   "source": [
    "np4 = np.linspace(1,10,6,retstep=True,dtype=np.int32)"
   ]
  },
  {
   "cell_type": "code",
   "execution_count": 88,
   "metadata": {},
   "outputs": [
    {
     "data": {
      "text/plain": [
       "(array([ 1,  2,  4,  6,  8, 10]), 1.8)"
      ]
     },
     "execution_count": 88,
     "metadata": {},
     "output_type": "execute_result"
    }
   ],
   "source": [
    "np4"
   ]
  },
  {
   "cell_type": "code",
   "execution_count": 90,
   "metadata": {},
   "outputs": [],
   "source": [
    "np2= np.array([1,2,3,4,5])\n",
    "s = slice(0,1,2)"
   ]
  },
  {
   "cell_type": "code",
   "execution_count": 92,
   "metadata": {},
   "outputs": [
    {
     "name": "stdout",
     "output_type": "stream",
     "text": [
      "[2 4]\n"
     ]
    }
   ],
   "source": [
    "print(np2[1:5:2])"
   ]
  },
  {
   "cell_type": "code",
   "execution_count": 97,
   "metadata": {},
   "outputs": [],
   "source": [
    "a = np.array([[[1,2,3],[3,4,5],[4,5,6]],[[0,9,3],[8,5,1],[5,1,0]]])"
   ]
  },
  {
   "cell_type": "code",
   "execution_count": 107,
   "metadata": {},
   "outputs": [],
   "source": [
    "arr = np.array([[10, 20, 30], \n",
    "                [40, 50, 60], \n",
    "                [70, 80, 90]])"
   ]
  },
  {
   "cell_type": "code",
   "execution_count": 114,
   "metadata": {},
   "outputs": [
    {
     "data": {
      "text/plain": [
       "array([40, 60])"
      ]
     },
     "execution_count": 114,
     "metadata": {},
     "output_type": "execute_result"
    }
   ],
   "source": [
    "arr[1,[0,2]]"
   ]
  },
  {
   "cell_type": "code",
   "execution_count": 115,
   "metadata": {},
   "outputs": [
    {
     "data": {
      "text/plain": [
       "array([20, 90])"
      ]
     },
     "execution_count": 115,
     "metadata": {},
     "output_type": "execute_result"
    }
   ],
   "source": [
    "arr[[0,2],[1,2]]"
   ]
  },
  {
   "cell_type": "code",
   "execution_count": 121,
   "metadata": {},
   "outputs": [
    {
     "data": {
      "text/plain": [
       "array([[70, 80, 90]])"
      ]
     },
     "execution_count": 121,
     "metadata": {},
     "output_type": "execute_result"
    }
   ],
   "source": [
    "arr[[2]]"
   ]
  },
  {
   "cell_type": "code",
   "execution_count": 122,
   "metadata": {},
   "outputs": [],
   "source": [
    "arr = np.array([10, 20, 30, 40, 50, 60])"
   ]
  },
  {
   "cell_type": "code",
   "execution_count": 135,
   "metadata": {},
   "outputs": [],
   "source": [
    "fil = (arr > 10) & (arr < 30)"
   ]
  },
  {
   "cell_type": "code",
   "execution_count": 137,
   "metadata": {},
   "outputs": [
    {
     "name": "stdout",
     "output_type": "stream",
     "text": [
      "[20]\n"
     ]
    }
   ],
   "source": [
    "print(arr[fil])"
   ]
  },
  {
   "cell_type": "code",
   "execution_count": 130,
   "metadata": {},
   "outputs": [],
   "source": [
    "fil1 = arr>10"
   ]
  },
  {
   "cell_type": "code",
   "execution_count": 131,
   "metadata": {},
   "outputs": [
    {
     "data": {
      "text/plain": [
       "array([20, 30, 40, 50, 60])"
      ]
     },
     "execution_count": 131,
     "metadata": {},
     "output_type": "execute_result"
    }
   ],
   "source": [
    "arr[fil1]"
   ]
  },
  {
   "cell_type": "code",
   "execution_count": 141,
   "metadata": {},
   "outputs": [
    {
     "name": "stdout",
     "output_type": "stream",
     "text": [
      "[[1 2 3]\n",
      " [4 5 6]]\n",
      "[10 20 30]\n",
      "Broadcasted addition (2D + 1D):\n",
      " [[11 22 33]\n",
      " [14 25 36]]\n"
     ]
    }
   ],
   "source": [
    "# Example 1: Broadcasting a 1D array to a 2D array\n",
    "arr_2d = np.array([[1, 2, 3], [4, 5, 6]])\n",
    "arr_1d = np.array([10, 20, 30])\n",
    "\n",
    "print(arr_2d)\n",
    "print(arr_1d)\n",
    "# Broadcasting adds arr_1d to each row of arr_2d\n",
    "result_1 = arr_2d + arr_1d\n",
    "print(\"Broadcasted addition (2D + 1D):\\n\", result_1)"
   ]
  },
  {
   "cell_type": "code",
   "execution_count": 146,
   "metadata": {},
   "outputs": [
    {
     "name": "stdout",
     "output_type": "stream",
     "text": [
      "[[[1]\n",
      "  [2]\n",
      "  [3]]\n",
      "\n",
      " [[4]\n",
      "  [5]\n",
      "  [6]]]\n",
      "[[10 20 30]]\n",
      "\n",
      "Broadcasted addition (3D + 2D):\n",
      " [[[11 21 31]\n",
      "  [12 22 32]\n",
      "  [13 23 33]]\n",
      "\n",
      " [[14 24 34]\n",
      "  [15 25 35]\n",
      "  [16 26 36]]]\n"
     ]
    }
   ],
   "source": [
    "arr_3d = np.array([[[1], [2], [3]], [[4], [5], [6]]])  # Shape (2, 3, 1)\n",
    "print(arr_3d)\n",
    "arr_2d_b = np.array([[10, 20, 30]])  # Shape (1, 3)\n",
    "print(arr_2d_b)\n",
    "result_3 = arr_3d + arr_2d_b  # Broadcast to shape (2, 3, 3)\n",
    "print(\"\\nBroadcasted addition (3D + 2D):\\n\", result_3)"
   ]
  },
  {
   "cell_type": "code",
   "execution_count": null,
   "metadata": {},
   "outputs": [],
   "source": []
  }
 ],
 "metadata": {
  "kernelspec": {
   "display_name": "base",
   "language": "python",
   "name": "python3"
  },
  "language_info": {
   "codemirror_mode": {
    "name": "ipython",
    "version": 3
   },
   "file_extension": ".py",
   "mimetype": "text/x-python",
   "name": "python",
   "nbconvert_exporter": "python",
   "pygments_lexer": "ipython3",
   "version": "3.11.7"
  }
 },
 "nbformat": 4,
 "nbformat_minor": 2
}
