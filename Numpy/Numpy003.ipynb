{
 "cells": [
  {
   "cell_type": "code",
   "execution_count": 1,
   "metadata": {},
   "outputs": [],
   "source": [
    "import numpy as np"
   ]
  },
  {
   "cell_type": "code",
   "execution_count": 10,
   "metadata": {},
   "outputs": [],
   "source": [
    "np1 = np.array([1,2,3,4,5],dtype = \"i4\",)"
   ]
  },
  {
   "cell_type": "code",
   "execution_count": 13,
   "metadata": {},
   "outputs": [
    {
     "data": {
      "text/plain": [
       "array([1, 2, 3, 4, 5])"
      ]
     },
     "execution_count": 13,
     "metadata": {},
     "output_type": "execute_result"
    }
   ],
   "source": [
    "np2 = np.array(np1,copy=False)\n",
    "np2"
   ]
  },
  {
   "cell_type": "code",
   "execution_count": 18,
   "metadata": {},
   "outputs": [
    {
     "name": "stdout",
     "output_type": "stream",
     "text": [
      "Array in C-order (row-major):\n",
      "[[1 2 3]\n",
      " [4 5 6]]\n",
      "Flattened C-order: [1 2 3 4 5 6]\n",
      "Flattened F-order: [1 4 2 5 3 6]\n",
      "\n",
      "Array in F-order (column-major):\n",
      "[[1 2 3]\n",
      " [4 5 6]]\n",
      "Flattened C-order: [1 2 3 4 5 6]\n",
      "Flattened F-order: [1 4 2 5 3 6]\n"
     ]
    }
   ],
   "source": [
    "# Create a 2x3 array with C-order (row-major)\n",
    "arr_c = np.array([[1, 2, 3], [4, 5, 6]], order='C')\n",
    "print(\"Array in C-order (row-major):\")\n",
    "print(arr_c)\n",
    "\n",
    "# Flatten the array to see how data is laid out in memory\n",
    "print(\"Flattened C-order:\", arr_c.flatten(order='C'))\n",
    "print(\"Flattened F-order:\", arr_c.flatten(order='F'))\n",
    "\n",
    "# Create a 2x3 array with F-order (column-major)\n",
    "arr_f = np.array([[1, 2, 3], [4, 5, 6]], order='F')\n",
    "print(\"\\nArray in F-order (column-major):\")\n",
    "print(arr_f)\n",
    "# Flatten the array to see how data is laid out in memory\n",
    "print(\"Flattened C-order:\", arr_f.flatten(order='C'))\n",
    "print(\"Flattened F-order:\", arr_f.flatten(order='F'))"
   ]
  },
  {
   "cell_type": "code",
   "execution_count": 19,
   "metadata": {},
   "outputs": [
    {
     "name": "stdout",
     "output_type": "stream",
     "text": [
      "Array with ndmin=1: [1 2 3]\n",
      "Shape: (3,)\n",
      "\n",
      "Array with ndmin=2: [[1 2 3]]\n",
      "Shape: (1, 3)\n",
      "\n",
      "Array with ndmin=3: [[[1 2 3]]]\n",
      "Shape: (1, 1, 3)\n"
     ]
    }
   ],
   "source": [
    "import numpy as np\n",
    "\n",
    "# Example 1: Create a 1D array with ndmin=1 (default)\n",
    "arr1 = np.array([1, 2, 3], ndmin=1)\n",
    "print(\"Array with ndmin=1:\", arr1)\n",
    "print(\"Shape:\", arr1.shape)\n",
    "\n",
    "# Example 2: Create a 1D array with ndmin=2\n",
    "arr2 = np.array([1, 2, 3], ndmin=2)\n",
    "print(\"\\nArray with ndmin=2:\", arr2)\n",
    "print(\"Shape:\", arr2.shape)\n",
    "\n",
    "# Example 3: Create a 1D array with ndmin=3\n",
    "arr3 = np.array([1, 2, 3], ndmin=3)\n",
    "print(\"\\nArray with ndmin=3:\", arr3)\n",
    "print(\"Shape:\", arr3.shape)"
   ]
  },
  {
   "cell_type": "code",
   "execution_count": 22,
   "metadata": {},
   "outputs": [],
   "source": [
    "dt = np.dtype([(\"Name\",\"S20\"),(\"Age\",\"i2\")])"
   ]
  },
  {
   "cell_type": "code",
   "execution_count": 26,
   "metadata": {},
   "outputs": [],
   "source": [
    "np2 = np.array([(\"Rahul\",20),(\"Alice\",25)],dtype=dt)"
   ]
  },
  {
   "cell_type": "code",
   "execution_count": 27,
   "metadata": {},
   "outputs": [
    {
     "data": {
      "text/plain": [
       "array([(b'Rahul', 20), (b'Alice', 25)],\n",
       "      dtype=[('Name', 'S20'), ('Age', '<i2')])"
      ]
     },
     "execution_count": 27,
     "metadata": {},
     "output_type": "execute_result"
    }
   ],
   "source": [
    "np2"
   ]
  },
  {
   "cell_type": "code",
   "execution_count": 28,
   "metadata": {},
   "outputs": [
    {
     "data": {
      "text/plain": [
       "array([20, 25], dtype=int16)"
      ]
     },
     "execution_count": 28,
     "metadata": {},
     "output_type": "execute_result"
    }
   ],
   "source": [
    "np2[\"Age\"]"
   ]
  },
  {
   "cell_type": "code",
   "execution_count": 29,
   "metadata": {},
   "outputs": [
    {
     "data": {
      "text/plain": [
       "array([b'Rahul', b'Alice'], dtype='|S20')"
      ]
     },
     "execution_count": 29,
     "metadata": {},
     "output_type": "execute_result"
    }
   ],
   "source": [
    "np2[\"Name\"]"
   ]
  },
  {
   "cell_type": "code",
   "execution_count": 40,
   "metadata": {},
   "outputs": [
    {
     "name": "stdout",
     "output_type": "stream",
     "text": [
      "[[[1 2 3]\n",
      "  [4 5 6]]\n",
      "\n",
      " [[1 2 3]\n",
      "  [4 5 6]]]\n",
      "Shape: (2, 2, 3)\n",
      "Number of dimensions: 3\n",
      "Total elements: 12\n",
      "Item size (bytes): 2\n",
      "Total bytes: 24\n",
      "Data type: int16\n",
      "\n",
      "Original Array:\n",
      " [[[1 2 3]\n",
      "  [4 5 6]]\n",
      "\n",
      " [[1 2 3]\n",
      "  [4 5 6]]]\n",
      "Transposed Array:\n",
      " [[[1 1]\n",
      "  [4 4]]\n",
      "\n",
      " [[2 2]\n",
      "  [5 5]]\n",
      "\n",
      " [[3 3]\n",
      "  [6 6]]]\n"
     ]
    }
   ],
   "source": [
    "import numpy as np\n",
    "\n",
    "# Create a 2D array for demonstration\n",
    "arr = np.array([[[1, 2, 3], [4, 5, 6]],[[1, 2, 3], [4, 5, 6]]], dtype=\"int16\")\n",
    "print(arr)\n",
    "\n",
    "# 1. Shape of the array\n",
    "print(\"Shape:\", arr.shape)  # (2, 3) because it's 2 rows and 3 columns\n",
    "\n",
    "# 2. Number of dimensions\n",
    "print(\"Number of dimensions:\", arr.ndim)  # 2 because it's a 2D array\n",
    "\n",
    "# 3. Total number of elements\n",
    "print(\"Total elements:\", arr.size)  # 6 because there are 6 elements in total\n",
    "\n",
    "# 4. Memory size of each element (itemsize)\n",
    "print(\"Item size (bytes):\", arr.itemsize)  # 4 bytes, since int32 uses 4 bytes\n",
    "\n",
    "# 5. Total memory size of the array (nbytes)\n",
    "print(\"Total bytes:\", arr.nbytes)  # 24 bytes (6 elements * 4 bytes each)\n",
    "\n",
    "# 6. Data type of elements\n",
    "print(\"Data type:\", arr.dtype)  # int32\n",
    "\n",
    "# 7. Transpose of the array\n",
    "print(\"\\nOriginal Array:\\n\", arr)\n",
    "print(\"Transposed Array:\\n\", arr.T)"
   ]
  },
  {
   "cell_type": "code",
   "execution_count": 41,
   "metadata": {},
   "outputs": [
    {
     "data": {
      "text/plain": [
       "(2, 2, 3)"
      ]
     },
     "execution_count": 41,
     "metadata": {},
     "output_type": "execute_result"
    }
   ],
   "source": [
    "arr.shape"
   ]
  },
  {
   "cell_type": "code",
   "execution_count": 42,
   "metadata": {},
   "outputs": [
    {
     "data": {
      "text/plain": [
       "array([[[1, 2, 3],\n",
       "        [4, 5, 6]],\n",
       "\n",
       "       [[1, 2, 3],\n",
       "        [4, 5, 6]]], dtype=int16)"
      ]
     },
     "execution_count": 42,
     "metadata": {},
     "output_type": "execute_result"
    }
   ],
   "source": [
    "arr"
   ]
  },
  {
   "cell_type": "code",
   "execution_count": 43,
   "metadata": {},
   "outputs": [],
   "source": [
    "arr.shape = (3,2,2)"
   ]
  },
  {
   "cell_type": "code",
   "execution_count": 44,
   "metadata": {},
   "outputs": [
    {
     "data": {
      "text/plain": [
       "array([[[1, 2],\n",
       "        [3, 4]],\n",
       "\n",
       "       [[5, 6],\n",
       "        [1, 2]],\n",
       "\n",
       "       [[3, 4],\n",
       "        [5, 6]]], dtype=int16)"
      ]
     },
     "execution_count": 44,
     "metadata": {},
     "output_type": "execute_result"
    }
   ],
   "source": [
    "arr"
   ]
  },
  {
   "cell_type": "code",
   "execution_count": 48,
   "metadata": {},
   "outputs": [
    {
     "data": {
      "text/plain": [
       "array([ 0.,  2.,  4.,  6.,  8., 10.], dtype=float16)"
      ]
     },
     "execution_count": 48,
     "metadata": {},
     "output_type": "execute_result"
    }
   ],
   "source": [
    "np1 = np.arange(0,12,2,dtype=\"f2\")\n",
    "np1"
   ]
  },
  {
   "cell_type": "code",
   "execution_count": 64,
   "metadata": {},
   "outputs": [],
   "source": [
    "np2 = np.empty((4,3,3),dtype=\"i2\")"
   ]
  },
  {
   "cell_type": "code",
   "execution_count": 65,
   "metadata": {},
   "outputs": [
    {
     "data": {
      "text/plain": [
       "array([[[0, 0, 0],\n",
       "        [0, 0, 0],\n",
       "        [0, 0, 0]],\n",
       "\n",
       "       [[0, 0, 0],\n",
       "        [0, 0, 0],\n",
       "        [0, 0, 0]],\n",
       "\n",
       "       [[0, 0, 0],\n",
       "        [0, 0, 0],\n",
       "        [0, 0, 0]],\n",
       "\n",
       "       [[0, 0, 0],\n",
       "        [0, 0, 0],\n",
       "        [0, 0, 0]]], dtype=int16)"
      ]
     },
     "execution_count": 65,
     "metadata": {},
     "output_type": "execute_result"
    }
   ],
   "source": [
    "np2"
   ]
  },
  {
   "cell_type": "code",
   "execution_count": 62,
   "metadata": {},
   "outputs": [],
   "source": [
    "np3 = np.empty([4,3,3], dtype=\"i2\")"
   ]
  },
  {
   "cell_type": "code",
   "execution_count": 63,
   "metadata": {},
   "outputs": [
    {
     "data": {
      "text/plain": [
       "array([[[0, 0, 0],\n",
       "        [0, 0, 0],\n",
       "        [0, 0, 0]],\n",
       "\n",
       "       [[0, 0, 0],\n",
       "        [0, 0, 0],\n",
       "        [0, 0, 0]],\n",
       "\n",
       "       [[0, 0, 0],\n",
       "        [0, 0, 0],\n",
       "        [0, 0, 0]],\n",
       "\n",
       "       [[0, 0, 0],\n",
       "        [0, 0, 0],\n",
       "        [0, 0, 0]]], dtype=int16)"
      ]
     },
     "execution_count": 63,
     "metadata": {},
     "output_type": "execute_result"
    }
   ],
   "source": [
    "np3"
   ]
  },
  {
   "cell_type": "code",
   "execution_count": 68,
   "metadata": {},
   "outputs": [],
   "source": [
    "np3 = np.zeros((4,3,3),dtype = \"i4\")"
   ]
  },
  {
   "cell_type": "code",
   "execution_count": 69,
   "metadata": {},
   "outputs": [
    {
     "data": {
      "text/plain": [
       "array([[[0, 0, 0],\n",
       "        [0, 0, 0],\n",
       "        [0, 0, 0]],\n",
       "\n",
       "       [[0, 0, 0],\n",
       "        [0, 0, 0],\n",
       "        [0, 0, 0]],\n",
       "\n",
       "       [[0, 0, 0],\n",
       "        [0, 0, 0],\n",
       "        [0, 0, 0]],\n",
       "\n",
       "       [[0, 0, 0],\n",
       "        [0, 0, 0],\n",
       "        [0, 0, 0]]])"
      ]
     },
     "execution_count": 69,
     "metadata": {},
     "output_type": "execute_result"
    }
   ],
   "source": [
    "np3"
   ]
  },
  {
   "cell_type": "code",
   "execution_count": 74,
   "metadata": {},
   "outputs": [
    {
     "name": "stdout",
     "output_type": "stream",
     "text": [
      "\n",
      "Array from iterable: [ 0  1  2  3  4  5  6  7  8  9 10 11 12 13 14 15 16 17 18 19 20 21 22 23\n",
      " 24 25 26 27 28 29 30 31 32 33 34 35 36 37 38 39 40 41 42 43 44 45 46 47\n",
      " 48 49]\n"
     ]
    },
    {
     "data": {
      "text/plain": [
       "50"
      ]
     },
     "execution_count": 74,
     "metadata": {},
     "output_type": "execute_result"
    }
   ],
   "source": [
    "arr_fromiter = np.fromiter(range(100),np.int32,50)\n",
    "print(\"\\nArray from iterable:\", arr_fromiter)\n",
    "arr_fromiter.size"
   ]
  },
  {
   "cell_type": "code",
   "execution_count": 87,
   "metadata": {},
   "outputs": [],
   "source": [
    "np4 = np.linspace(1,10,6,retstep=True,dtype=np.int32)"
   ]
  },
  {
   "cell_type": "code",
   "execution_count": 88,
   "metadata": {},
   "outputs": [
    {
     "data": {
      "text/plain": [
       "(array([ 1,  2,  4,  6,  8, 10]), 1.8)"
      ]
     },
     "execution_count": 88,
     "metadata": {},
     "output_type": "execute_result"
    }
   ],
   "source": [
    "np4"
   ]
  },
  {
   "cell_type": "code",
   "execution_count": 90,
   "metadata": {},
   "outputs": [],
   "source": [
    "np2= np.array([1,2,3,4,5])\n",
    "s = slice(0,1,2)"
   ]
  },
  {
   "cell_type": "code",
   "execution_count": 92,
   "metadata": {},
   "outputs": [
    {
     "name": "stdout",
     "output_type": "stream",
     "text": [
      "[2 4]\n"
     ]
    }
   ],
   "source": [
    "print(np2[1:5:2])"
   ]
  },
  {
   "cell_type": "code",
   "execution_count": 97,
   "metadata": {},
   "outputs": [],
   "source": [
    "a = np.array([[[1,2,3],[3,4,5],[4,5,6]],[[0,9,3],[8,5,1],[5,1,0]]])"
   ]
  },
  {
   "cell_type": "code",
   "execution_count": 107,
   "metadata": {},
   "outputs": [],
   "source": [
    "arr = np.array([[10, 20, 30], \n",
    "                [40, 50, 60], \n",
    "                [70, 80, 90]])"
   ]
  },
  {
   "cell_type": "code",
   "execution_count": 114,
   "metadata": {},
   "outputs": [
    {
     "data": {
      "text/plain": [
       "array([40, 60])"
      ]
     },
     "execution_count": 114,
     "metadata": {},
     "output_type": "execute_result"
    }
   ],
   "source": [
    "arr[1,[0,2]]"
   ]
  },
  {
   "cell_type": "code",
   "execution_count": 115,
   "metadata": {},
   "outputs": [
    {
     "data": {
      "text/plain": [
       "array([20, 90])"
      ]
     },
     "execution_count": 115,
     "metadata": {},
     "output_type": "execute_result"
    }
   ],
   "source": [
    "arr[[0,2],[1,2]]"
   ]
  },
  {
   "cell_type": "code",
   "execution_count": 121,
   "metadata": {},
   "outputs": [
    {
     "data": {
      "text/plain": [
       "array([[70, 80, 90]])"
      ]
     },
     "execution_count": 121,
     "metadata": {},
     "output_type": "execute_result"
    }
   ],
   "source": [
    "arr[[2]]"
   ]
  },
  {
   "cell_type": "code",
   "execution_count": 122,
   "metadata": {},
   "outputs": [],
   "source": [
    "arr = np.array([10, 20, 30, 40, 50, 60])"
   ]
  },
  {
   "cell_type": "code",
   "execution_count": 135,
   "metadata": {},
   "outputs": [],
   "source": [
    "fil = (arr > 10) & (arr < 30)"
   ]
  },
  {
   "cell_type": "code",
   "execution_count": 137,
   "metadata": {},
   "outputs": [
    {
     "name": "stdout",
     "output_type": "stream",
     "text": [
      "[20]\n"
     ]
    }
   ],
   "source": [
    "print(arr[fil])"
   ]
  },
  {
   "cell_type": "code",
   "execution_count": 130,
   "metadata": {},
   "outputs": [],
   "source": [
    "fil1 = arr>10"
   ]
  },
  {
   "cell_type": "code",
   "execution_count": 131,
   "metadata": {},
   "outputs": [
    {
     "data": {
      "text/plain": [
       "array([20, 30, 40, 50, 60])"
      ]
     },
     "execution_count": 131,
     "metadata": {},
     "output_type": "execute_result"
    }
   ],
   "source": [
    "arr[fil1]"
   ]
  },
  {
   "cell_type": "code",
   "execution_count": 141,
   "metadata": {},
   "outputs": [
    {
     "name": "stdout",
     "output_type": "stream",
     "text": [
      "[[1 2 3]\n",
      " [4 5 6]]\n",
      "[10 20 30]\n",
      "Broadcasted addition (2D + 1D):\n",
      " [[11 22 33]\n",
      " [14 25 36]]\n"
     ]
    }
   ],
   "source": [
    "# Example 1: Broadcasting a 1D array to a 2D array\n",
    "arr_2d = np.array([[1, 2, 3], [4, 5, 6]])\n",
    "arr_1d = np.array([10, 20, 30])\n",
    "\n",
    "print(arr_2d)\n",
    "print(arr_1d)\n",
    "# Broadcasting adds arr_1d to each row of arr_2d\n",
    "result_1 = arr_2d + arr_1d\n",
    "print(\"Broadcasted addition (2D + 1D):\\n\", result_1)"
   ]
  },
  {
   "cell_type": "code",
   "execution_count": 146,
   "metadata": {},
   "outputs": [
    {
     "name": "stdout",
     "output_type": "stream",
     "text": [
      "[[[1]\n",
      "  [2]\n",
      "  [3]]\n",
      "\n",
      " [[4]\n",
      "  [5]\n",
      "  [6]]]\n",
      "[[10 20 30]]\n",
      "\n",
      "Broadcasted addition (3D + 2D):\n",
      " [[[11 21 31]\n",
      "  [12 22 32]\n",
      "  [13 23 33]]\n",
      "\n",
      " [[14 24 34]\n",
      "  [15 25 35]\n",
      "  [16 26 36]]]\n"
     ]
    }
   ],
   "source": [
    "arr_3d = np.array([[[1], [2], [3]], [[4], [5], [6]]])  # Shape (2, 3, 1)\n",
    "print(arr_3d)\n",
    "arr_2d_b = np.array([[10, 20, 30]])  # Shape (1, 3)\n",
    "print(arr_2d_b)\n",
    "result_3 = arr_3d + arr_2d_b  # Broadcast to shape (2, 3, 3)\n",
    "print(\"\\nBroadcasted addition (3D + 2D):\\n\", result_3)"
   ]
  },
  {
   "cell_type": "code",
   "execution_count": 1,
   "metadata": {},
   "outputs": [],
   "source": [
    "import numpy as np"
   ]
  },
  {
   "cell_type": "code",
   "execution_count": 4,
   "metadata": {},
   "outputs": [
    {
     "name": "stdout",
     "output_type": "stream",
     "text": [
      "[[[1 2]\n",
      "  [3 4]]]\n"
     ]
    }
   ],
   "source": [
    "np2 = np.array([1,2,3,4])\n",
    "print(np.reshape(np2,(1,2,2)))"
   ]
  },
  {
   "cell_type": "code",
   "execution_count": 3,
   "metadata": {},
   "outputs": [
    {
     "data": {
      "text/plain": [
       "array([1, 2, 3, 4])"
      ]
     },
     "execution_count": 3,
     "metadata": {},
     "output_type": "execute_result"
    }
   ],
   "source": [
    "np2"
   ]
  },
  {
   "cell_type": "code",
   "execution_count": 6,
   "metadata": {},
   "outputs": [
    {
     "data": {
      "text/plain": [
       "array([[[1, 2]],\n",
       "\n",
       "       [[3, 4]]])"
      ]
     },
     "execution_count": 6,
     "metadata": {},
     "output_type": "execute_result"
    }
   ],
   "source": [
    "np2.reshape(2,1,2)"
   ]
  },
  {
   "cell_type": "code",
   "execution_count": 12,
   "metadata": {},
   "outputs": [
    {
     "name": "stdout",
     "output_type": "stream",
     "text": [
      "The original array:\n",
      "[0 1 2 3 4 5 6 7]\n",
      "The modified array:\n",
      "[[0 1]\n",
      " [2 3]\n",
      " [4 5]\n",
      " [6 7]]\n"
     ]
    }
   ],
   "source": [
    "a = np.arange(8)\n",
    "print('The original array:')\n",
    "print(a)\n",
    "b = a.reshape((4,2))\n",
    "print('The modified array:')\n",
    "print(b)\n"
   ]
  },
  {
   "cell_type": "code",
   "execution_count": 16,
   "metadata": {},
   "outputs": [
    {
     "name": "stdout",
     "output_type": "stream",
     "text": [
      "The original array:\n",
      "[[0 1 2 3]\n",
      " [4 5 6 7]]\n",
      "After applying the flat function:\n",
      "5\n",
      "[[0 1 2 3]\n",
      " [4 5 6 7]]\n",
      "0\n",
      "1\n",
      "2\n",
      "3\n",
      "4\n",
      "5\n",
      "6\n",
      "7\n"
     ]
    }
   ],
   "source": [
    "a = np.arange(8).reshape(2,4)\n",
    "print('The original array:')\n",
    "print(a)\n",
    "\n",
    "print('After applying the flat function:')\n",
    "# returns element corresponding to index in flattened array\n",
    "print(a.flat[5])\n",
    "print(a)\n",
    "\n",
    "for i in a.flat:\n",
    "    print(i)"
   ]
  },
  {
   "cell_type": "code",
   "execution_count": 17,
   "metadata": {},
   "outputs": [
    {
     "name": "stdout",
     "output_type": "stream",
     "text": [
      "Array after modifying the second element:\n",
      "[[ 1 99]\n",
      " [ 3  4]]\n"
     ]
    }
   ],
   "source": [
    "arr = np.array([[1, 2], [3, 4]])\n",
    "\n",
    "# Modify the second element in a flattened view\n",
    "arr.flat[1] = 99\n",
    "\n",
    "print(\"Array after modifying the second element:\")\n",
    "print(arr)"
   ]
  },
  {
   "cell_type": "code",
   "execution_count": 18,
   "metadata": {},
   "outputs": [
    {
     "data": {
      "text/plain": [
       "array([ 1, 99,  3,  4])"
      ]
     },
     "execution_count": 18,
     "metadata": {},
     "output_type": "execute_result"
    }
   ],
   "source": [
    "arr.flatten()"
   ]
  },
  {
   "cell_type": "code",
   "execution_count": 20,
   "metadata": {},
   "outputs": [
    {
     "name": "stdout",
     "output_type": "stream",
     "text": [
      "[[[1 2]\n",
      "  [3 4]]\n",
      "\n",
      " [[5 6]\n",
      "  [7 8]]]\n",
      "Original array shape: (2, 2, 2)\n",
      "Transposed array shape: (2, 2, 2)\n",
      "Transposed 3D array:\n",
      " [[[1 2]\n",
      "  [5 6]]\n",
      "\n",
      " [[3 4]\n",
      "  [7 8]]]\n"
     ]
    }
   ],
   "source": [
    "# Create a 3D array\n",
    "arr = np.array([[[1, 2], [3, 4]], [[5, 6], [7, 8]]])\n",
    "print(arr)\n",
    "\n",
    "# Transpose the 3D array by changing axes order\n",
    "transposed_3D = np.transpose(arr, (1, 0, 2))\n",
    "print(\"Original array shape:\", arr.shape)\n",
    "print(\"Transposed array shape:\", transposed_3D.shape)\n",
    "print(\"Transposed 3D array:\\n\", transposed_3D)"
   ]
  },
  {
   "cell_type": "code",
   "execution_count": 27,
   "metadata": {},
   "outputs": [
    {
     "name": "stdout",
     "output_type": "stream",
     "text": [
      "[[1 2]\n",
      " [3 4]]\n",
      "[[5 6]\n",
      " [7 8]]\n"
     ]
    }
   ],
   "source": [
    "arr1 = np.array([[1, 2], [3, 4]])\n",
    "arr2 = np.array([[5, 6], [7, 8]])\n",
    "print(arr1)\n",
    "print(arr2)"
   ]
  },
  {
   "cell_type": "code",
   "execution_count": 26,
   "metadata": {},
   "outputs": [
    {
     "data": {
      "text/plain": [
       "array([[1, 2],\n",
       "       [3, 4],\n",
       "       [5, 6],\n",
       "       [7, 8]])"
      ]
     },
     "execution_count": 26,
     "metadata": {},
     "output_type": "execute_result"
    }
   ],
   "source": [
    "np.concatenate((arr1,arr2),0)"
   ]
  },
  {
   "cell_type": "code",
   "execution_count": 28,
   "metadata": {},
   "outputs": [
    {
     "data": {
      "text/plain": [
       "array([[1, 2, 5, 6],\n",
       "       [3, 4, 7, 8]])"
      ]
     },
     "execution_count": 28,
     "metadata": {},
     "output_type": "execute_result"
    }
   ],
   "source": [
    "np.concatenate((arr1,arr2),1)"
   ]
  },
  {
   "cell_type": "code",
   "execution_count": 31,
   "metadata": {},
   "outputs": [
    {
     "data": {
      "text/plain": [
       "array([[[1, 2],\n",
       "        [3, 4]],\n",
       "\n",
       "       [[5, 6],\n",
       "        [7, 8]]])"
      ]
     },
     "execution_count": 31,
     "metadata": {},
     "output_type": "execute_result"
    }
   ],
   "source": [
    "np.stack((arr1,arr2),axis=0)"
   ]
  },
  {
   "cell_type": "code",
   "execution_count": 32,
   "metadata": {},
   "outputs": [
    {
     "data": {
      "text/plain": [
       "array([[[1, 2],\n",
       "        [5, 6]],\n",
       "\n",
       "       [[3, 4],\n",
       "        [7, 8]]])"
      ]
     },
     "execution_count": 32,
     "metadata": {},
     "output_type": "execute_result"
    }
   ],
   "source": [
    "np.stack((arr1,arr2), axis= 1)"
   ]
  },
  {
   "cell_type": "code",
   "execution_count": 33,
   "metadata": {},
   "outputs": [
    {
     "data": {
      "text/plain": [
       "array([[1, 2, 5, 6],\n",
       "       [3, 4, 7, 8]])"
      ]
     },
     "execution_count": 33,
     "metadata": {},
     "output_type": "execute_result"
    }
   ],
   "source": [
    "np.hstack((arr1,arr2))"
   ]
  },
  {
   "cell_type": "code",
   "execution_count": 38,
   "metadata": {},
   "outputs": [],
   "source": [
    "d2 = np.array([[1,2,3],[4,5,6]])"
   ]
  },
  {
   "cell_type": "code",
   "execution_count": 39,
   "metadata": {},
   "outputs": [
    {
     "data": {
      "text/plain": [
       "(2, 3)"
      ]
     },
     "execution_count": 39,
     "metadata": {},
     "output_type": "execute_result"
    }
   ],
   "source": [
    "d2.shape"
   ]
  },
  {
   "cell_type": "code",
   "execution_count": 2,
   "metadata": {},
   "outputs": [],
   "source": [
    "import numpy as np"
   ]
  },
  {
   "cell_type": "code",
   "execution_count": 6,
   "metadata": {},
   "outputs": [
    {
     "data": {
      "text/plain": [
       "[array([5, 4, 3]), array([2, 1, 0])]"
      ]
     },
     "execution_count": 6,
     "metadata": {},
     "output_type": "execute_result"
    }
   ],
   "source": [
    "np2 = np.array([5,4,3,2,1,0])\n",
    "\n",
    "np.hsplit(np2,2)"
   ]
  },
  {
   "cell_type": "code",
   "execution_count": 11,
   "metadata": {},
   "outputs": [
    {
     "data": {
      "text/plain": [
       "[array([5, 4, 3]), array([2, 1, 0])]"
      ]
     },
     "execution_count": 11,
     "metadata": {},
     "output_type": "execute_result"
    }
   ],
   "source": [
    "np.split(np2,2, axis=0)"
   ]
  },
  {
   "cell_type": "code",
   "execution_count": 15,
   "metadata": {},
   "outputs": [
    {
     "name": "stdout",
     "output_type": "stream",
     "text": [
      "[array([[1, 2, 3, 4]]), array([[5, 6, 7, 8]])]\n",
      "[array([[1, 2],\n",
      "       [5, 6]]), array([[3, 4],\n",
      "       [7, 8]])]\n"
     ]
    }
   ],
   "source": [
    "arr = np.array([[1, 2, 3, 4],\n",
    "                [5, 6, 7, 8]])\n",
    "\n",
    "# Vertical split (same as split along axis=0)\n",
    "vsplit_result = np.vsplit(arr, 2)  # Splits into two sub-arrays by rows\n",
    "print(vsplit_result)\n",
    "\n",
    "# Horizontal split (same as split along axis=1)\n",
    "hsplit_result = np.hsplit(arr, 2)  # Splits into two sub-arrays by columns\n",
    "print(hsplit_result)"
   ]
  },
  {
   "cell_type": "code",
   "execution_count": 18,
   "metadata": {},
   "outputs": [
    {
     "data": {
      "text/plain": [
       "[array([[1, 2],\n",
       "        [5, 6]]),\n",
       " array([[3, 4],\n",
       "        [7, 8]])]"
      ]
     },
     "execution_count": 18,
     "metadata": {},
     "output_type": "execute_result"
    }
   ],
   "source": [
    "np.split(arr,2,axis=1)"
   ]
  },
  {
   "cell_type": "code",
   "execution_count": 23,
   "metadata": {},
   "outputs": [
    {
     "name": "stdout",
     "output_type": "stream",
     "text": [
      "Original array:\n",
      " [[1 2]\n",
      " [3 4]]\n",
      "Appended along axis 0:\n",
      " [[1 2]\n",
      " [3 4]\n",
      " [5 6]]\n",
      "Appended along axis 1:\n",
      " [[1 2 5]\n",
      " [3 4 6]]\n"
     ]
    }
   ],
   "source": [
    "arr = np.array([[1, 2], [3, 4]])\n",
    "appended_axis0 = np.append(arr, [[5, 6]], axis=0)  # Adds as a new row\n",
    "appended_axis1 = np.append(arr, [[5],[6]], axis=1)  # Adds as a new column\n",
    "\n",
    "print(\"Original array:\\n\", arr)\n",
    "print(\"Appended along axis 0:\\n\", appended_axis0)\n",
    "print(\"Appended along axis 1:\\n\", appended_axis1)"
   ]
  },
  {
   "cell_type": "code",
   "execution_count": 24,
   "metadata": {},
   "outputs": [],
   "source": [
    "a=np.array([0,30,45,60,90])"
   ]
  },
  {
   "cell_type": "code",
   "execution_count": 25,
   "metadata": {},
   "outputs": [],
   "source": [
    "a = np.radians(a)"
   ]
  },
  {
   "cell_type": "code",
   "execution_count": 26,
   "metadata": {},
   "outputs": [
    {
     "data": {
      "text/plain": [
       "array([0.        , 0.5       , 0.70710678, 0.8660254 , 1.        ])"
      ]
     },
     "execution_count": 26,
     "metadata": {},
     "output_type": "execute_result"
    }
   ],
   "source": [
    "np.sin(a)"
   ]
  },
  {
   "cell_type": "code",
   "execution_count": 27,
   "metadata": {},
   "outputs": [
    {
     "name": "stdout",
     "output_type": "stream",
     "text": [
      "Original Array:\n",
      " [1 2 3 4 0]\n",
      "Reciprocal Array:\n",
      " [          1           0           0           0 -2147483648]\n"
     ]
    },
    {
     "name": "stderr",
     "output_type": "stream",
     "text": [
      "C:\\Users\\CHROMIUM\\AppData\\Local\\Temp\\ipykernel_2596\\1848087755.py:5: RuntimeWarning: divide by zero encountered in reciprocal\n",
      "  reciprocal_a = np.reciprocal(a)\n",
      "C:\\Users\\CHROMIUM\\AppData\\Local\\Temp\\ipykernel_2596\\1848087755.py:5: RuntimeWarning: invalid value encountered in reciprocal\n",
      "  reciprocal_a = np.reciprocal(a)\n"
     ]
    }
   ],
   "source": [
    "# Create an integer array\n",
    "a = np.array([1, 2, 3, 4, 0], dtype=int)\n",
    "\n",
    "# Calculate the reciprocal\n",
    "reciprocal_a = np.reciprocal(a)\n",
    "\n",
    "# Display the results\n",
    "print(\"Original Array:\\n\", a)\n",
    "print(\"Reciprocal Array:\\n\", reciprocal_a)"
   ]
  },
  {
   "cell_type": "code",
   "execution_count": 1,
   "metadata": {},
   "outputs": [
    {
     "name": "stdout",
     "output_type": "stream",
     "text": [
      "a: [-7  7]\n",
      "b: [3 3]\n",
      "np.mod(a, b): [2 1]\n",
      "np.remainder(a, b): [2 1]\n"
     ]
    }
   ],
   "source": [
    "import numpy as np\n",
    "\n",
    "# Test values for a and b\n",
    "a = np.array([-7, 7])\n",
    "b = np.array([3, 3])\n",
    "\n",
    "# Calculate modulus and remainder\n",
    "mod_result = np.mod(a, b)\n",
    "remainder_result = np.remainder(a, b)\n",
    "\n",
    "# Display results\n",
    "print(\"a:\", a)\n",
    "print(\"b:\", b)\n",
    "print(\"np.mod(a, b):\", mod_result)\n",
    "print(\"np.remainder(a, b):\", remainder_result)\n",
    "\n"
   ]
  },
  {
   "cell_type": "code",
   "execution_count": 4,
   "metadata": {},
   "outputs": [
    {
     "name": "stdout",
     "output_type": "stream",
     "text": [
      "a: [7 7]\n",
      "b: [3 3]\n",
      "np.mod(a, b): [1 1]\n",
      "np.remainder(a, b): [1 1]\n"
     ]
    }
   ],
   "source": [
    "import numpy as np\n",
    "\n",
    "# Positive and negative dividends and divisors\n",
    "a = np.array([7, 7])\n",
    "b = np.array([3, 3])\n",
    "\n",
    "# Calculate modulus and remainder\n",
    "mod_result = np.mod(a, b)\n",
    "remainder_result = np.remainder(a, b)\n",
    "\n",
    "# Display results\n",
    "print(\"a:\", a)\n",
    "print(\"b:\", b)\n",
    "print(\"np.mod(a, b):\", mod_result)\n",
    "print(\"np.remainder(a, b):\", remainder_result)\n"
   ]
  },
  {
   "cell_type": "code",
   "execution_count": 3,
   "metadata": {},
   "outputs": [
    {
     "name": "stdout",
     "output_type": "stream",
     "text": [
      "Our array is:\n",
      "[-0.-5.6j  0.+0.2j 11.+0.j   1.+1.j ]\n",
      "\n",
      "\n",
      "Applying real() function:\n",
      "[-0.  0. 11.  1.]\n",
      "\n",
      "\n",
      "Applying imag() function:\n",
      "[-5.6  0.2  0.   1. ]\n",
      "\n",
      "\n",
      "Applying conj() function:\n",
      "[-0.+5.6j  0.-0.2j 11.-0.j   1.-1.j ]\n",
      "\n",
      "\n",
      "Applying angle() function:\n",
      "[-1.57079633  1.57079633  0.          0.78539816]\n",
      "\n",
      "\n",
      "Applying angle() function again (result in degrees)\n",
      "[-90.  90.   0.  45.]\n"
     ]
    }
   ],
   "source": [
    "import numpy as np\n",
    "a = np.array([-5.6j, 0.2j, 11. , 1+1j])\n",
    "\n",
    "print('Our array is:')\n",
    "print(a)\n",
    "print('\\n')\n",
    "\n",
    "print('Applying real() function:')\n",
    "print(np.real(a))\n",
    "print('\\n')\n",
    "\n",
    "print('Applying imag() function:')\n",
    "print(np.imag(a))\n",
    "print('\\n')\n",
    "\n",
    "print('Applying conj() function:')\n",
    "print(np.conj(a))\n",
    "print('\\n')\n",
    "\n",
    "print('Applying angle() function:')\n",
    "print(np.angle(a))\n",
    "print('\\n')\n",
    "\n",
    "print('Applying angle() function again (result in degrees)')\n",
    "print(np.angle(a, deg=True))\n"
   ]
  },
  {
   "cell_type": "code",
   "execution_count": 15,
   "metadata": {},
   "outputs": [
    {
     "name": "stdout",
     "output_type": "stream",
     "text": [
      "[4 5 6]\n"
     ]
    }
   ],
   "source": [
    "import numpy as np\n",
    "\n",
    "data = np.array([[1, 2, 3], [4, 5, 6]])\n",
    "# print(data)\n",
    "\n",
    "# # Maximum and minimum values\n",
    "# max_value = np.amax(data)\n",
    "# min_value = np.amin(data)\n",
    "\n",
    "# # Along a specific axis\n",
    "# print(np.amax(data, axis=1))\n",
    "print(np.amax(data, axis=0))\n",
    "\n",
    "# print(\"Max value:\", max_value)          # 6\n",
    "# print(\"Min value:\", min_value)          # 1\n",
    "\n"
   ]
  },
  {
   "cell_type": "code",
   "execution_count": null,
   "metadata": {},
   "outputs": [
    {
     "name": "stdout",
     "output_type": "stream",
     "text": [
      "2.0\n"
     ]
    }
   ],
   "source": [
    "weights = np.array([0.1, 0.2, 0.7])\n",
    "print(np.mean([1, 2, 3]))\n",
    "\n"
   ]
  },
  {
   "cell_type": "code",
   "execution_count": 31,
   "metadata": {},
   "outputs": [
    {
     "name": "stdout",
     "output_type": "stream",
     "text": [
      "Sorted array:\n",
      " [[ 1  2  3]\n",
      " [ 4  6 11]\n",
      " [ 8  9 10]]\n"
     ]
    }
   ],
   "source": [
    "import numpy as np\n",
    "\n",
    "arr = np.array([[3, 1, 2], [6, 4, 11],[10,8,9]])\n",
    "\n",
    "# Sort along the last axis (columns)\n",
    "sorted_array = np.sort(arr, axis=1)\n",
    "\n",
    "print(\"Sorted array:\\n\", sorted_array)"
   ]
  },
  {
   "cell_type": "code",
   "execution_count": 32,
   "metadata": {},
   "outputs": [
    {
     "name": "stdout",
     "output_type": "stream",
     "text": [
      "[[ 3  1  2]\n",
      " [ 6  4 11]\n",
      " [10  8  9]]\n"
     ]
    }
   ],
   "source": [
    "print(arr)"
   ]
  },
  {
   "cell_type": "code",
   "execution_count": 33,
   "metadata": {},
   "outputs": [
    {
     "name": "stdout",
     "output_type": "stream",
     "text": [
      "[[ 1  2  3]\n",
      " [ 4  6 11]\n",
      " [ 8  9 10]]\n"
     ]
    }
   ],
   "source": [
    "print(np.sort(arr,axis=1))"
   ]
  },
  {
   "cell_type": "code",
   "execution_count": 34,
   "metadata": {},
   "outputs": [
    {
     "name": "stdout",
     "output_type": "stream",
     "text": [
      "[[ 3  1  2]\n",
      " [ 6  4  9]\n",
      " [10  8 11]]\n"
     ]
    }
   ],
   "source": [
    "print(np.sort(arr,axis=0))"
   ]
  },
  {
   "cell_type": "code",
   "execution_count": 35,
   "metadata": {},
   "outputs": [],
   "source": [
    "import numpy as np\n",
    "\n",
    "# Define a structured array with fields 'name', 'age', and 'height'\n",
    "data = np.array([\n",
    "    ('Alice', 25, 5.5),\n",
    "    ('Bob', 23, 5.8),\n",
    "    ('Charlie', 35, 5.7),\n",
    "    ('Diana', 30, 5.9)\n",
    "], dtype=[('name', 'U10'), ('age', 'i4'), ('height', 'f4')])\n"
   ]
  },
  {
   "cell_type": "code",
   "execution_count": 44,
   "metadata": {},
   "outputs": [
    {
     "name": "stdout",
     "output_type": "stream",
     "text": [
      "Sorted by age:\n",
      " [('Bob', 23, 5.8) ('Alice', 25, 5.5) ('Diana', 30, 5.9)\n",
      " ('Charlie', 35, 5.7)]\n"
     ]
    }
   ],
   "source": [
    "# Sort by age\n",
    "sorted_by_age = np.sort(data, order=['age','name'])\n",
    "print(\"Sorted by age:\\n\", sorted_by_age)\n"
   ]
  },
  {
   "cell_type": "code",
   "execution_count": 45,
   "metadata": {},
   "outputs": [
    {
     "name": "stdout",
     "output_type": "stream",
     "text": [
      "Index of max: 3\n",
      "Index of min: 0\n"
     ]
    }
   ],
   "source": [
    "arr = np.array([[1, 2, 3], [6, 5, 4]])\n",
    "\n",
    "# Find index of max and min\n",
    "max_index = np.argmax(arr)\n",
    "min_index = np.argmin(arr)\n",
    "\n",
    "print(\"Index of max:\", max_index)  # 3 (flat index in 1D)\n",
    "print(\"Index of min:\", min_index)  # 0\n"
   ]
  },
  {
   "cell_type": "code",
   "execution_count": 48,
   "metadata": {},
   "outputs": [
    {
     "name": "stdout",
     "output_type": "stream",
     "text": [
      "Array:\n",
      " [[ 5 12 15]\n",
      " [20  1 25]\n",
      " [10 30  5]]\n",
      "Max indices along axis 0: [1 2 1]\n",
      "Max indices along axis 1: [2 2 1]\n"
     ]
    }
   ],
   "source": [
    "arr = np.array([[5, 12, 15],\n",
    "                [20, 1, 25],\n",
    "                [10, 30, 5]])\n",
    "\n",
    "# Find the index of the max element along each column (axis=0)\n",
    "max_indices_axis0 = np.argmax(arr, axis=0)\n",
    "print(\"Array:\\n\", arr)\n",
    "print(\"Max indices along axis 0:\", max_indices_axis0)  # Output: [1, 2, 1]\n",
    "\n",
    "# Find the index of the max element along each row (axis=1)\n",
    "max_indices_axis1 = np.argmax(arr, axis=1)\n",
    "print(\"Max indices along axis 1:\", max_indices_axis1)  # Output: [2, 2, 1]\n"
   ]
  },
  {
   "cell_type": "code",
   "execution_count": 49,
   "metadata": {},
   "outputs": [
    {
     "name": "stdout",
     "output_type": "stream",
     "text": [
      "7\n"
     ]
    }
   ],
   "source": [
    "print(np.argmax(arr))"
   ]
  },
  {
   "cell_type": "code",
   "execution_count": 50,
   "metadata": {},
   "outputs": [
    {
     "name": "stdout",
     "output_type": "stream",
     "text": [
      "Array: [0 2 0 3 4 0]\n",
      "Indices of non-zero elements: (array([1, 3, 4], dtype=int64),)\n"
     ]
    }
   ],
   "source": [
    "import numpy as np\n",
    "\n",
    "arr = np.array([0, 2, 0, 3, 4, 0])\n",
    "non_zero_indices = np.nonzero(arr)\n",
    "\n",
    "print(\"Array:\", arr)\n",
    "print(\"Indices of non-zero elements:\", non_zero_indices)  # Output will be (array([1, 3, 4]),)\n"
   ]
  },
  {
   "cell_type": "code",
   "execution_count": 51,
   "metadata": {},
   "outputs": [
    {
     "name": "stdout",
     "output_type": "stream",
     "text": [
      "Array:\n",
      " [[0 1 0]\n",
      " [2 0 3]\n",
      " [4 0 0]]\n",
      "Indices of non-zero elements: (array([0, 1, 1, 2], dtype=int64), array([1, 0, 2, 0], dtype=int64))\n"
     ]
    }
   ],
   "source": [
    "arr = np.array([[0, 1, 0],\n",
    "                [2, 0, 3],\n",
    "                [4, 0, 0]])\n",
    "\n",
    "non_zero_indices = np.nonzero(arr)\n",
    "print(\"Array:\\n\", arr)\n",
    "print(\"Indices of non-zero elements:\", non_zero_indices)\n"
   ]
  },
  {
   "cell_type": "code",
   "execution_count": 53,
   "metadata": {},
   "outputs": [
    {
     "data": {
      "text/plain": [
       "array([1, 2, 3, 4])"
      ]
     },
     "execution_count": 53,
     "metadata": {},
     "output_type": "execute_result"
    }
   ],
   "source": [
    "arr[[0,1,1,2],[1,0,2,0]]"
   ]
  },
  {
   "cell_type": "code",
   "execution_count": 55,
   "metadata": {},
   "outputs": [
    {
     "name": "stdout",
     "output_type": "stream",
     "text": [
      "Our array is:\n",
      "[[0 1 2]\n",
      " [3 4 5]\n",
      " [6 7 8]]\n"
     ]
    }
   ],
   "source": [
    "import numpy as np\n",
    "x = np.arange(9).reshape(3, 3)\n",
    "\n",
    "print('Our array is:')\n",
    "print(x)"
   ]
  },
  {
   "cell_type": "code",
   "execution_count": 59,
   "metadata": {},
   "outputs": [],
   "source": [
    "arr = np.array([[0,1,1,6],[1,7,2,0]])"
   ]
  },
  {
   "cell_type": "code",
   "execution_count": 61,
   "metadata": {},
   "outputs": [
    {
     "name": "stdout",
     "output_type": "stream",
     "text": [
      "(array([0, 1], dtype=int64), array([3, 1], dtype=int64))\n"
     ]
    }
   ],
   "source": [
    "cond = np.where(arr>5)\n",
    "print(cond)"
   ]
  },
  {
   "cell_type": "code",
   "execution_count": 62,
   "metadata": {},
   "outputs": [
    {
     "name": "stdout",
     "output_type": "stream",
     "text": [
      "[6 7]\n"
     ]
    }
   ],
   "source": [
    "print(arr[cond])"
   ]
  },
  {
   "cell_type": "code",
   "execution_count": 63,
   "metadata": {},
   "outputs": [],
   "source": [
    "cond = np.where(arr>5,\"YES\",\"NO\")"
   ]
  },
  {
   "cell_type": "code",
   "execution_count": 65,
   "metadata": {},
   "outputs": [
    {
     "name": "stdout",
     "output_type": "stream",
     "text": [
      "[['NO' 'NO' 'NO' 'YES']\n",
      " ['NO' 'YES' 'NO' 'NO']]\n"
     ]
    }
   ],
   "source": [
    "print(cond)"
   ]
  },
  {
   "cell_type": "code",
   "execution_count": 67,
   "metadata": {},
   "outputs": [],
   "source": [
    "even = np.where(arr %2 == 0)"
   ]
  },
  {
   "cell_type": "code",
   "execution_count": 68,
   "metadata": {},
   "outputs": [
    {
     "name": "stdout",
     "output_type": "stream",
     "text": [
      "[0 6 2 0]\n"
     ]
    }
   ],
   "source": [
    "print(arr[even])"
   ]
  },
  {
   "cell_type": "code",
   "execution_count": null,
   "metadata": {},
   "outputs": [],
   "source": []
  }
 ],
 "metadata": {
  "kernelspec": {
   "display_name": "base",
   "language": "python",
   "name": "python3"
  },
  "language_info": {
   "codemirror_mode": {
    "name": "ipython",
    "version": 3
   },
   "file_extension": ".py",
   "mimetype": "text/x-python",
   "name": "python",
   "nbconvert_exporter": "python",
   "pygments_lexer": "ipython3",
   "version": "3.11.7"
  }
 },
 "nbformat": 4,
 "nbformat_minor": 2
}
