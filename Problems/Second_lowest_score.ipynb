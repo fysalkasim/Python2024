{
 "cells": [
  {
   "cell_type": "code",
   "execution_count": 4,
   "metadata": {},
   "outputs": [
    {
     "name": "stdout",
     "output_type": "stream",
     "text": [
      "rahul\n"
     ]
    }
   ],
   "source": [
    "nested_list = []\n",
    "for i in range(int(input())):\n",
    "    names = input(\"Enter the name\")\n",
    "    scores = float(input(\"Enter the scores\"))\n",
    "    nested_list.append([names, scores])\n",
    "    \n",
    "sorted_grade = sorted(set(score for name, score in nested_list))\n",
    "second_lowest = sorted_grade[1]\n",
    "    \n",
    "result = []\n",
    "for name, score in nested_list:\n",
    "    if score == second_lowest:\n",
    "        result.append(name)\n",
    "result.sort()\n",
    "for i in result:\n",
    "    print(i)\n",
    "        "
   ]
  },
  {
   "cell_type": "code",
   "execution_count": null,
   "metadata": {},
   "outputs": [],
   "source": []
  }
 ],
 "metadata": {
  "kernelspec": {
   "display_name": "base",
   "language": "python",
   "name": "python3"
  },
  "language_info": {
   "codemirror_mode": {
    "name": "ipython",
    "version": 3
   },
   "file_extension": ".py",
   "mimetype": "text/x-python",
   "name": "python",
   "nbconvert_exporter": "python",
   "pygments_lexer": "ipython3",
   "version": "3.11.7"
  }
 },
 "nbformat": 4,
 "nbformat_minor": 2
}
