{
 "cells": [
  {
   "cell_type": "code",
   "execution_count": 1,
   "metadata": {
    "_cell_guid": "b1076dfc-b9ad-4769-8c92-a6c4dae69d19",
    "_uuid": "8f2839f25d086af736a60e9eeb907d3b93b6e0e5",
    "execution": {
     "iopub.execute_input": "2024-01-04T23:04:50.122017Z",
     "iopub.status.busy": "2024-01-04T23:04:50.121646Z",
     "iopub.status.idle": "2024-01-04T23:04:50.134638Z",
     "shell.execute_reply": "2024-01-04T23:04:50.133437Z",
     "shell.execute_reply.started": "2024-01-04T23:04:50.121986Z"
    }
   },
   "outputs": [],
   "source": [
    "import numpy as np \n",
    "import pandas as pd\n",
    "import matplotlib.pyplot as plt\n",
    "import seaborn as sns"
   ]
  },
  {
   "cell_type": "code",
   "execution_count": 2,
   "metadata": {
    "execution": {
     "iopub.execute_input": "2024-01-04T23:04:53.835682Z",
     "iopub.status.busy": "2024-01-04T23:04:53.835328Z",
     "iopub.status.idle": "2024-01-04T23:05:01.571203Z",
     "shell.execute_reply": "2024-01-04T23:05:01.569885Z",
     "shell.execute_reply.started": "2024-01-04T23:04:53.835656Z"
    }
   },
   "outputs": [],
   "source": [
    "#Assigning the datset path as variables\n",
    "file_path_q1 = 'Divvy_Trips_2019_Q1.csv'\n",
    "file_path_q2 = 'Divvy_Trips_2019_Q2.csv'\n",
    "file_path_q3 = 'Divvy_Trips_2019_Q3.csv'\n",
    "file_path_q4 = 'Divvy_Trips_2019_Q4.csv'\n",
    "\n",
    "#Reading the files into dataframes\n",
    "data_q1 = pd.read_csv(file_path_q1)\n",
    "data_q2 = pd.read_csv(file_path_q2)\n",
    "data_q3 = pd.read_csv(file_path_q3)\n",
    "data_q4 = pd.read_csv(file_path_q4)"
   ]
  },
  {
   "cell_type": "markdown",
   "metadata": {},
   "source": [
    "# Data Cleaning Process. \n",
    "The files are divided into quarters, I will work on each quarter individually, starting with Q1. My goal here is:\n",
    "\n",
    "Check for duplicate entries.\n",
    "Search for and handle missing values.\n",
    "Identify outliers in columns.\n",
    "Check and, if necessary, convert data to standardized values ​​(integers, strings, dates).\n",
    "Consolidate the dataset and standardize it.\n",
    "Perform the same process for all four data sets.\n"
   ]
  },
  {
   "cell_type": "code",
   "execution_count": 3,
   "metadata": {
    "execution": {
     "iopub.execute_input": "2024-01-04T23:16:33.877682Z",
     "iopub.status.busy": "2024-01-04T23:16:33.876213Z",
     "iopub.status.idle": "2024-01-04T23:16:33.891757Z",
     "shell.execute_reply": "2024-01-04T23:16:33.890777Z",
     "shell.execute_reply.started": "2024-01-04T23:16:33.877617Z"
    }
   },
   "outputs": [
    {
     "data": {
      "text/html": [
       "<div>\n",
       "<style scoped>\n",
       "    .dataframe tbody tr th:only-of-type {\n",
       "        vertical-align: middle;\n",
       "    }\n",
       "\n",
       "    .dataframe tbody tr th {\n",
       "        vertical-align: top;\n",
       "    }\n",
       "\n",
       "    .dataframe thead th {\n",
       "        text-align: right;\n",
       "    }\n",
       "</style>\n",
       "<table border=\"1\" class=\"dataframe\">\n",
       "  <thead>\n",
       "    <tr style=\"text-align: right;\">\n",
       "      <th></th>\n",
       "      <th>trip_id</th>\n",
       "      <th>start_time</th>\n",
       "      <th>end_time</th>\n",
       "      <th>bikeid</th>\n",
       "      <th>tripduration</th>\n",
       "      <th>from_station_id</th>\n",
       "      <th>from_station_name</th>\n",
       "      <th>to_station_id</th>\n",
       "      <th>to_station_name</th>\n",
       "      <th>usertype</th>\n",
       "      <th>gender</th>\n",
       "      <th>birthyear</th>\n",
       "    </tr>\n",
       "  </thead>\n",
       "  <tbody>\n",
       "    <tr>\n",
       "      <th>0</th>\n",
       "      <td>21742443</td>\n",
       "      <td>2019-01-01 00:04:37</td>\n",
       "      <td>2019-01-01 00:11:07</td>\n",
       "      <td>2167</td>\n",
       "      <td>390.0</td>\n",
       "      <td>199</td>\n",
       "      <td>Wabash Ave &amp; Grand Ave</td>\n",
       "      <td>84</td>\n",
       "      <td>Milwaukee Ave &amp; Grand Ave</td>\n",
       "      <td>Subscriber</td>\n",
       "      <td>Male</td>\n",
       "      <td>1989.0</td>\n",
       "    </tr>\n",
       "    <tr>\n",
       "      <th>1</th>\n",
       "      <td>21742444</td>\n",
       "      <td>2019-01-01 00:08:13</td>\n",
       "      <td>2019-01-01 00:15:34</td>\n",
       "      <td>4386</td>\n",
       "      <td>441.0</td>\n",
       "      <td>44</td>\n",
       "      <td>State St &amp; Randolph St</td>\n",
       "      <td>624</td>\n",
       "      <td>Dearborn St &amp; Van Buren St (*)</td>\n",
       "      <td>Subscriber</td>\n",
       "      <td>Female</td>\n",
       "      <td>1990.0</td>\n",
       "    </tr>\n",
       "    <tr>\n",
       "      <th>2</th>\n",
       "      <td>21742445</td>\n",
       "      <td>2019-01-01 00:13:23</td>\n",
       "      <td>2019-01-01 00:27:12</td>\n",
       "      <td>1524</td>\n",
       "      <td>829.0</td>\n",
       "      <td>15</td>\n",
       "      <td>Racine Ave &amp; 18th St</td>\n",
       "      <td>644</td>\n",
       "      <td>Western Ave &amp; Fillmore St (*)</td>\n",
       "      <td>Subscriber</td>\n",
       "      <td>Female</td>\n",
       "      <td>1994.0</td>\n",
       "    </tr>\n",
       "    <tr>\n",
       "      <th>3</th>\n",
       "      <td>21742446</td>\n",
       "      <td>2019-01-01 00:13:45</td>\n",
       "      <td>2019-01-01 00:43:28</td>\n",
       "      <td>252</td>\n",
       "      <td>1,783.0</td>\n",
       "      <td>123</td>\n",
       "      <td>California Ave &amp; Milwaukee Ave</td>\n",
       "      <td>176</td>\n",
       "      <td>Clark St &amp; Elm St</td>\n",
       "      <td>Subscriber</td>\n",
       "      <td>Male</td>\n",
       "      <td>1993.0</td>\n",
       "    </tr>\n",
       "    <tr>\n",
       "      <th>4</th>\n",
       "      <td>21742447</td>\n",
       "      <td>2019-01-01 00:14:52</td>\n",
       "      <td>2019-01-01 00:20:56</td>\n",
       "      <td>1170</td>\n",
       "      <td>364.0</td>\n",
       "      <td>173</td>\n",
       "      <td>Mies van der Rohe Way &amp; Chicago Ave</td>\n",
       "      <td>35</td>\n",
       "      <td>Streeter Dr &amp; Grand Ave</td>\n",
       "      <td>Subscriber</td>\n",
       "      <td>Male</td>\n",
       "      <td>1994.0</td>\n",
       "    </tr>\n",
       "  </tbody>\n",
       "</table>\n",
       "</div>"
      ],
      "text/plain": [
       "    trip_id           start_time             end_time  bikeid tripduration  \\\n",
       "0  21742443  2019-01-01 00:04:37  2019-01-01 00:11:07    2167        390.0   \n",
       "1  21742444  2019-01-01 00:08:13  2019-01-01 00:15:34    4386        441.0   \n",
       "2  21742445  2019-01-01 00:13:23  2019-01-01 00:27:12    1524        829.0   \n",
       "3  21742446  2019-01-01 00:13:45  2019-01-01 00:43:28     252      1,783.0   \n",
       "4  21742447  2019-01-01 00:14:52  2019-01-01 00:20:56    1170        364.0   \n",
       "\n",
       "   from_station_id                    from_station_name  to_station_id  \\\n",
       "0              199               Wabash Ave & Grand Ave             84   \n",
       "1               44               State St & Randolph St            624   \n",
       "2               15                 Racine Ave & 18th St            644   \n",
       "3              123       California Ave & Milwaukee Ave            176   \n",
       "4              173  Mies van der Rohe Way & Chicago Ave             35   \n",
       "\n",
       "                  to_station_name    usertype  gender  birthyear  \n",
       "0       Milwaukee Ave & Grand Ave  Subscriber    Male     1989.0  \n",
       "1  Dearborn St & Van Buren St (*)  Subscriber  Female     1990.0  \n",
       "2   Western Ave & Fillmore St (*)  Subscriber  Female     1994.0  \n",
       "3               Clark St & Elm St  Subscriber    Male     1993.0  \n",
       "4         Streeter Dr & Grand Ave  Subscriber    Male     1994.0  "
      ]
     },
     "execution_count": 3,
     "metadata": {},
     "output_type": "execute_result"
    }
   ],
   "source": [
    "data_q1.head()"
   ]
  },
  {
   "cell_type": "code",
   "execution_count": 4,
   "metadata": {
    "execution": {
     "iopub.execute_input": "2024-01-05T00:34:29.012065Z",
     "iopub.status.busy": "2024-01-05T00:34:29.011290Z",
     "iopub.status.idle": "2024-01-05T00:34:29.027192Z",
     "shell.execute_reply": "2024-01-05T00:34:29.025434Z",
     "shell.execute_reply.started": "2024-01-05T00:34:29.012032Z"
    }
   },
   "outputs": [
    {
     "data": {
      "text/html": [
       "<div>\n",
       "<style scoped>\n",
       "    .dataframe tbody tr th:only-of-type {\n",
       "        vertical-align: middle;\n",
       "    }\n",
       "\n",
       "    .dataframe tbody tr th {\n",
       "        vertical-align: top;\n",
       "    }\n",
       "\n",
       "    .dataframe thead th {\n",
       "        text-align: right;\n",
       "    }\n",
       "</style>\n",
       "<table border=\"1\" class=\"dataframe\">\n",
       "  <thead>\n",
       "    <tr style=\"text-align: right;\">\n",
       "      <th></th>\n",
       "      <th>01 - Rental Details Rental ID</th>\n",
       "      <th>01 - Rental Details Local Start Time</th>\n",
       "      <th>01 - Rental Details Local End Time</th>\n",
       "      <th>01 - Rental Details Bike ID</th>\n",
       "      <th>01 - Rental Details Duration In Seconds Uncapped</th>\n",
       "      <th>03 - Rental Start Station ID</th>\n",
       "      <th>03 - Rental Start Station Name</th>\n",
       "      <th>02 - Rental End Station ID</th>\n",
       "      <th>02 - Rental End Station Name</th>\n",
       "      <th>User Type</th>\n",
       "      <th>Member Gender</th>\n",
       "      <th>05 - Member Details Member Birthday Year</th>\n",
       "    </tr>\n",
       "  </thead>\n",
       "  <tbody>\n",
       "    <tr>\n",
       "      <th>0</th>\n",
       "      <td>22178529</td>\n",
       "      <td>2019-04-01 00:02:22</td>\n",
       "      <td>2019-04-01 00:09:48</td>\n",
       "      <td>6251</td>\n",
       "      <td>446.0</td>\n",
       "      <td>81</td>\n",
       "      <td>Daley Center Plaza</td>\n",
       "      <td>56</td>\n",
       "      <td>Desplaines St &amp; Kinzie St</td>\n",
       "      <td>Subscriber</td>\n",
       "      <td>Male</td>\n",
       "      <td>1975.0</td>\n",
       "    </tr>\n",
       "    <tr>\n",
       "      <th>1</th>\n",
       "      <td>22178530</td>\n",
       "      <td>2019-04-01 00:03:02</td>\n",
       "      <td>2019-04-01 00:20:30</td>\n",
       "      <td>6226</td>\n",
       "      <td>1,048.0</td>\n",
       "      <td>317</td>\n",
       "      <td>Wood St &amp; Taylor St</td>\n",
       "      <td>59</td>\n",
       "      <td>Wabash Ave &amp; Roosevelt Rd</td>\n",
       "      <td>Subscriber</td>\n",
       "      <td>Female</td>\n",
       "      <td>1984.0</td>\n",
       "    </tr>\n",
       "    <tr>\n",
       "      <th>2</th>\n",
       "      <td>22178531</td>\n",
       "      <td>2019-04-01 00:11:07</td>\n",
       "      <td>2019-04-01 00:15:19</td>\n",
       "      <td>5649</td>\n",
       "      <td>252.0</td>\n",
       "      <td>283</td>\n",
       "      <td>LaSalle St &amp; Jackson Blvd</td>\n",
       "      <td>174</td>\n",
       "      <td>Canal St &amp; Madison St</td>\n",
       "      <td>Subscriber</td>\n",
       "      <td>Male</td>\n",
       "      <td>1990.0</td>\n",
       "    </tr>\n",
       "    <tr>\n",
       "      <th>3</th>\n",
       "      <td>22178532</td>\n",
       "      <td>2019-04-01 00:13:01</td>\n",
       "      <td>2019-04-01 00:18:58</td>\n",
       "      <td>4151</td>\n",
       "      <td>357.0</td>\n",
       "      <td>26</td>\n",
       "      <td>McClurg Ct &amp; Illinois St</td>\n",
       "      <td>133</td>\n",
       "      <td>Kingsbury St &amp; Kinzie St</td>\n",
       "      <td>Subscriber</td>\n",
       "      <td>Male</td>\n",
       "      <td>1993.0</td>\n",
       "    </tr>\n",
       "    <tr>\n",
       "      <th>4</th>\n",
       "      <td>22178533</td>\n",
       "      <td>2019-04-01 00:19:26</td>\n",
       "      <td>2019-04-01 00:36:13</td>\n",
       "      <td>3270</td>\n",
       "      <td>1,007.0</td>\n",
       "      <td>202</td>\n",
       "      <td>Halsted St &amp; 18th St</td>\n",
       "      <td>129</td>\n",
       "      <td>Blue Island Ave &amp; 18th St</td>\n",
       "      <td>Subscriber</td>\n",
       "      <td>Male</td>\n",
       "      <td>1992.0</td>\n",
       "    </tr>\n",
       "  </tbody>\n",
       "</table>\n",
       "</div>"
      ],
      "text/plain": [
       "   01 - Rental Details Rental ID 01 - Rental Details Local Start Time  \\\n",
       "0                       22178529                  2019-04-01 00:02:22   \n",
       "1                       22178530                  2019-04-01 00:03:02   \n",
       "2                       22178531                  2019-04-01 00:11:07   \n",
       "3                       22178532                  2019-04-01 00:13:01   \n",
       "4                       22178533                  2019-04-01 00:19:26   \n",
       "\n",
       "  01 - Rental Details Local End Time  01 - Rental Details Bike ID  \\\n",
       "0                2019-04-01 00:09:48                         6251   \n",
       "1                2019-04-01 00:20:30                         6226   \n",
       "2                2019-04-01 00:15:19                         5649   \n",
       "3                2019-04-01 00:18:58                         4151   \n",
       "4                2019-04-01 00:36:13                         3270   \n",
       "\n",
       "  01 - Rental Details Duration In Seconds Uncapped  \\\n",
       "0                                            446.0   \n",
       "1                                          1,048.0   \n",
       "2                                            252.0   \n",
       "3                                            357.0   \n",
       "4                                          1,007.0   \n",
       "\n",
       "   03 - Rental Start Station ID 03 - Rental Start Station Name  \\\n",
       "0                            81             Daley Center Plaza   \n",
       "1                           317            Wood St & Taylor St   \n",
       "2                           283      LaSalle St & Jackson Blvd   \n",
       "3                            26       McClurg Ct & Illinois St   \n",
       "4                           202           Halsted St & 18th St   \n",
       "\n",
       "   02 - Rental End Station ID 02 - Rental End Station Name   User Type  \\\n",
       "0                          56    Desplaines St & Kinzie St  Subscriber   \n",
       "1                          59    Wabash Ave & Roosevelt Rd  Subscriber   \n",
       "2                         174        Canal St & Madison St  Subscriber   \n",
       "3                         133     Kingsbury St & Kinzie St  Subscriber   \n",
       "4                         129    Blue Island Ave & 18th St  Subscriber   \n",
       "\n",
       "  Member Gender  05 - Member Details Member Birthday Year  \n",
       "0          Male                                    1975.0  \n",
       "1        Female                                    1984.0  \n",
       "2          Male                                    1990.0  \n",
       "3          Male                                    1993.0  \n",
       "4          Male                                    1992.0  "
      ]
     },
     "execution_count": 4,
     "metadata": {},
     "output_type": "execute_result"
    }
   ],
   "source": [
    "data_q2.head()"
   ]
  },
  {
   "cell_type": "code",
   "execution_count": 5,
   "metadata": {
    "execution": {
     "iopub.execute_input": "2024-01-05T00:34:32.501906Z",
     "iopub.status.busy": "2024-01-05T00:34:32.501546Z",
     "iopub.status.idle": "2024-01-05T00:34:32.519780Z",
     "shell.execute_reply": "2024-01-05T00:34:32.518421Z",
     "shell.execute_reply.started": "2024-01-05T00:34:32.501877Z"
    }
   },
   "outputs": [
    {
     "data": {
      "text/html": [
       "<div>\n",
       "<style scoped>\n",
       "    .dataframe tbody tr th:only-of-type {\n",
       "        vertical-align: middle;\n",
       "    }\n",
       "\n",
       "    .dataframe tbody tr th {\n",
       "        vertical-align: top;\n",
       "    }\n",
       "\n",
       "    .dataframe thead th {\n",
       "        text-align: right;\n",
       "    }\n",
       "</style>\n",
       "<table border=\"1\" class=\"dataframe\">\n",
       "  <thead>\n",
       "    <tr style=\"text-align: right;\">\n",
       "      <th></th>\n",
       "      <th>trip_id</th>\n",
       "      <th>start_time</th>\n",
       "      <th>end_time</th>\n",
       "      <th>bikeid</th>\n",
       "      <th>tripduration</th>\n",
       "      <th>from_station_id</th>\n",
       "      <th>from_station_name</th>\n",
       "      <th>to_station_id</th>\n",
       "      <th>to_station_name</th>\n",
       "      <th>usertype</th>\n",
       "      <th>gender</th>\n",
       "      <th>birthyear</th>\n",
       "    </tr>\n",
       "  </thead>\n",
       "  <tbody>\n",
       "    <tr>\n",
       "      <th>0</th>\n",
       "      <td>23479388</td>\n",
       "      <td>2019-07-01 00:00:27</td>\n",
       "      <td>2019-07-01 00:20:41</td>\n",
       "      <td>3591</td>\n",
       "      <td>1,214.0</td>\n",
       "      <td>117</td>\n",
       "      <td>Wilton Ave &amp; Belmont Ave</td>\n",
       "      <td>497</td>\n",
       "      <td>Kimball Ave &amp; Belmont Ave</td>\n",
       "      <td>Subscriber</td>\n",
       "      <td>Male</td>\n",
       "      <td>1992.0</td>\n",
       "    </tr>\n",
       "    <tr>\n",
       "      <th>1</th>\n",
       "      <td>23479389</td>\n",
       "      <td>2019-07-01 00:01:16</td>\n",
       "      <td>2019-07-01 00:18:44</td>\n",
       "      <td>5353</td>\n",
       "      <td>1,048.0</td>\n",
       "      <td>381</td>\n",
       "      <td>Western Ave &amp; Monroe St</td>\n",
       "      <td>203</td>\n",
       "      <td>Western Ave &amp; 21st St</td>\n",
       "      <td>Customer</td>\n",
       "      <td>NaN</td>\n",
       "      <td>NaN</td>\n",
       "    </tr>\n",
       "    <tr>\n",
       "      <th>2</th>\n",
       "      <td>23479390</td>\n",
       "      <td>2019-07-01 00:01:48</td>\n",
       "      <td>2019-07-01 00:27:42</td>\n",
       "      <td>6180</td>\n",
       "      <td>1,554.0</td>\n",
       "      <td>313</td>\n",
       "      <td>Lakeview Ave &amp; Fullerton Pkwy</td>\n",
       "      <td>144</td>\n",
       "      <td>Larrabee St &amp; Webster Ave</td>\n",
       "      <td>Customer</td>\n",
       "      <td>NaN</td>\n",
       "      <td>NaN</td>\n",
       "    </tr>\n",
       "    <tr>\n",
       "      <th>3</th>\n",
       "      <td>23479391</td>\n",
       "      <td>2019-07-01 00:02:07</td>\n",
       "      <td>2019-07-01 00:27:10</td>\n",
       "      <td>5540</td>\n",
       "      <td>1,503.0</td>\n",
       "      <td>313</td>\n",
       "      <td>Lakeview Ave &amp; Fullerton Pkwy</td>\n",
       "      <td>144</td>\n",
       "      <td>Larrabee St &amp; Webster Ave</td>\n",
       "      <td>Customer</td>\n",
       "      <td>NaN</td>\n",
       "      <td>NaN</td>\n",
       "    </tr>\n",
       "    <tr>\n",
       "      <th>4</th>\n",
       "      <td>23479392</td>\n",
       "      <td>2019-07-01 00:02:13</td>\n",
       "      <td>2019-07-01 00:22:26</td>\n",
       "      <td>6014</td>\n",
       "      <td>1,213.0</td>\n",
       "      <td>168</td>\n",
       "      <td>Michigan Ave &amp; 14th St</td>\n",
       "      <td>62</td>\n",
       "      <td>McCormick Place</td>\n",
       "      <td>Customer</td>\n",
       "      <td>NaN</td>\n",
       "      <td>NaN</td>\n",
       "    </tr>\n",
       "  </tbody>\n",
       "</table>\n",
       "</div>"
      ],
      "text/plain": [
       "    trip_id           start_time             end_time  bikeid tripduration  \\\n",
       "0  23479388  2019-07-01 00:00:27  2019-07-01 00:20:41    3591      1,214.0   \n",
       "1  23479389  2019-07-01 00:01:16  2019-07-01 00:18:44    5353      1,048.0   \n",
       "2  23479390  2019-07-01 00:01:48  2019-07-01 00:27:42    6180      1,554.0   \n",
       "3  23479391  2019-07-01 00:02:07  2019-07-01 00:27:10    5540      1,503.0   \n",
       "4  23479392  2019-07-01 00:02:13  2019-07-01 00:22:26    6014      1,213.0   \n",
       "\n",
       "   from_station_id              from_station_name  to_station_id  \\\n",
       "0              117       Wilton Ave & Belmont Ave            497   \n",
       "1              381        Western Ave & Monroe St            203   \n",
       "2              313  Lakeview Ave & Fullerton Pkwy            144   \n",
       "3              313  Lakeview Ave & Fullerton Pkwy            144   \n",
       "4              168         Michigan Ave & 14th St             62   \n",
       "\n",
       "             to_station_name    usertype gender  birthyear  \n",
       "0  Kimball Ave & Belmont Ave  Subscriber   Male     1992.0  \n",
       "1      Western Ave & 21st St    Customer    NaN        NaN  \n",
       "2  Larrabee St & Webster Ave    Customer    NaN        NaN  \n",
       "3  Larrabee St & Webster Ave    Customer    NaN        NaN  \n",
       "4            McCormick Place    Customer    NaN        NaN  "
      ]
     },
     "execution_count": 5,
     "metadata": {},
     "output_type": "execute_result"
    }
   ],
   "source": [
    "data_q3.head()"
   ]
  },
  {
   "cell_type": "code",
   "execution_count": 6,
   "metadata": {
    "execution": {
     "iopub.execute_input": "2024-01-05T00:34:35.697717Z",
     "iopub.status.busy": "2024-01-05T00:34:35.697373Z",
     "iopub.status.idle": "2024-01-05T00:34:35.713768Z",
     "shell.execute_reply": "2024-01-05T00:34:35.712914Z",
     "shell.execute_reply.started": "2024-01-05T00:34:35.697688Z"
    }
   },
   "outputs": [
    {
     "data": {
      "text/html": [
       "<div>\n",
       "<style scoped>\n",
       "    .dataframe tbody tr th:only-of-type {\n",
       "        vertical-align: middle;\n",
       "    }\n",
       "\n",
       "    .dataframe tbody tr th {\n",
       "        vertical-align: top;\n",
       "    }\n",
       "\n",
       "    .dataframe thead th {\n",
       "        text-align: right;\n",
       "    }\n",
       "</style>\n",
       "<table border=\"1\" class=\"dataframe\">\n",
       "  <thead>\n",
       "    <tr style=\"text-align: right;\">\n",
       "      <th></th>\n",
       "      <th>trip_id</th>\n",
       "      <th>start_time</th>\n",
       "      <th>end_time</th>\n",
       "      <th>bikeid</th>\n",
       "      <th>tripduration</th>\n",
       "      <th>from_station_id</th>\n",
       "      <th>from_station_name</th>\n",
       "      <th>to_station_id</th>\n",
       "      <th>to_station_name</th>\n",
       "      <th>usertype</th>\n",
       "      <th>gender</th>\n",
       "      <th>birthyear</th>\n",
       "    </tr>\n",
       "  </thead>\n",
       "  <tbody>\n",
       "    <tr>\n",
       "      <th>0</th>\n",
       "      <td>25223640</td>\n",
       "      <td>2019-10-01 00:01:39</td>\n",
       "      <td>2019-10-01 00:17:20</td>\n",
       "      <td>2215</td>\n",
       "      <td>940.0</td>\n",
       "      <td>20</td>\n",
       "      <td>Sheffield Ave &amp; Kingsbury St</td>\n",
       "      <td>309</td>\n",
       "      <td>Leavitt St &amp; Armitage Ave</td>\n",
       "      <td>Subscriber</td>\n",
       "      <td>Male</td>\n",
       "      <td>1987.0</td>\n",
       "    </tr>\n",
       "    <tr>\n",
       "      <th>1</th>\n",
       "      <td>25223641</td>\n",
       "      <td>2019-10-01 00:02:16</td>\n",
       "      <td>2019-10-01 00:06:34</td>\n",
       "      <td>6328</td>\n",
       "      <td>258.0</td>\n",
       "      <td>19</td>\n",
       "      <td>Throop (Loomis) St &amp; Taylor St</td>\n",
       "      <td>241</td>\n",
       "      <td>Morgan St &amp; Polk St</td>\n",
       "      <td>Subscriber</td>\n",
       "      <td>Male</td>\n",
       "      <td>1998.0</td>\n",
       "    </tr>\n",
       "    <tr>\n",
       "      <th>2</th>\n",
       "      <td>25223642</td>\n",
       "      <td>2019-10-01 00:04:32</td>\n",
       "      <td>2019-10-01 00:18:43</td>\n",
       "      <td>3003</td>\n",
       "      <td>850.0</td>\n",
       "      <td>84</td>\n",
       "      <td>Milwaukee Ave &amp; Grand Ave</td>\n",
       "      <td>199</td>\n",
       "      <td>Wabash Ave &amp; Grand Ave</td>\n",
       "      <td>Subscriber</td>\n",
       "      <td>Female</td>\n",
       "      <td>1991.0</td>\n",
       "    </tr>\n",
       "    <tr>\n",
       "      <th>3</th>\n",
       "      <td>25223643</td>\n",
       "      <td>2019-10-01 00:04:32</td>\n",
       "      <td>2019-10-01 00:43:43</td>\n",
       "      <td>3275</td>\n",
       "      <td>2,350.0</td>\n",
       "      <td>313</td>\n",
       "      <td>Lakeview Ave &amp; Fullerton Pkwy</td>\n",
       "      <td>290</td>\n",
       "      <td>Kedzie Ave &amp; Palmer Ct</td>\n",
       "      <td>Subscriber</td>\n",
       "      <td>Male</td>\n",
       "      <td>1990.0</td>\n",
       "    </tr>\n",
       "    <tr>\n",
       "      <th>4</th>\n",
       "      <td>25223644</td>\n",
       "      <td>2019-10-01 00:04:34</td>\n",
       "      <td>2019-10-01 00:35:42</td>\n",
       "      <td>5294</td>\n",
       "      <td>1,867.0</td>\n",
       "      <td>210</td>\n",
       "      <td>Ashland Ave &amp; Division St</td>\n",
       "      <td>382</td>\n",
       "      <td>Western Ave &amp; Congress Pkwy</td>\n",
       "      <td>Subscriber</td>\n",
       "      <td>Male</td>\n",
       "      <td>1987.0</td>\n",
       "    </tr>\n",
       "  </tbody>\n",
       "</table>\n",
       "</div>"
      ],
      "text/plain": [
       "    trip_id           start_time             end_time  bikeid tripduration  \\\n",
       "0  25223640  2019-10-01 00:01:39  2019-10-01 00:17:20    2215        940.0   \n",
       "1  25223641  2019-10-01 00:02:16  2019-10-01 00:06:34    6328        258.0   \n",
       "2  25223642  2019-10-01 00:04:32  2019-10-01 00:18:43    3003        850.0   \n",
       "3  25223643  2019-10-01 00:04:32  2019-10-01 00:43:43    3275      2,350.0   \n",
       "4  25223644  2019-10-01 00:04:34  2019-10-01 00:35:42    5294      1,867.0   \n",
       "\n",
       "   from_station_id               from_station_name  to_station_id  \\\n",
       "0               20    Sheffield Ave & Kingsbury St            309   \n",
       "1               19  Throop (Loomis) St & Taylor St            241   \n",
       "2               84       Milwaukee Ave & Grand Ave            199   \n",
       "3              313   Lakeview Ave & Fullerton Pkwy            290   \n",
       "4              210       Ashland Ave & Division St            382   \n",
       "\n",
       "               to_station_name    usertype  gender  birthyear  \n",
       "0    Leavitt St & Armitage Ave  Subscriber    Male     1987.0  \n",
       "1          Morgan St & Polk St  Subscriber    Male     1998.0  \n",
       "2       Wabash Ave & Grand Ave  Subscriber  Female     1991.0  \n",
       "3       Kedzie Ave & Palmer Ct  Subscriber    Male     1990.0  \n",
       "4  Western Ave & Congress Pkwy  Subscriber    Male     1987.0  "
      ]
     },
     "execution_count": 6,
     "metadata": {},
     "output_type": "execute_result"
    }
   ],
   "source": [
    "data_q4.head()"
   ]
  },
  {
   "cell_type": "code",
   "execution_count": 7,
   "metadata": {
    "execution": {
     "iopub.execute_input": "2024-01-04T23:31:25.026468Z",
     "iopub.status.busy": "2024-01-04T23:31:25.026114Z",
     "iopub.status.idle": "2024-01-04T23:31:25.031062Z",
     "shell.execute_reply": "2024-01-04T23:31:25.030270Z",
     "shell.execute_reply.started": "2024-01-04T23:31:25.026437Z"
    }
   },
   "outputs": [
    {
     "data": {
      "text/plain": [
       "(365069, 12)"
      ]
     },
     "execution_count": 7,
     "metadata": {},
     "output_type": "execute_result"
    }
   ],
   "source": [
    "data_q1.shape"
   ]
  },
  {
   "cell_type": "code",
   "execution_count": 8,
   "metadata": {},
   "outputs": [
    {
     "name": "stdout",
     "output_type": "stream",
     "text": [
      "<class 'pandas.core.frame.DataFrame'>\n",
      "RangeIndex: 365069 entries, 0 to 365068\n",
      "Data columns (total 12 columns):\n",
      " #   Column             Non-Null Count   Dtype  \n",
      "---  ------             --------------   -----  \n",
      " 0   trip_id            365069 non-null  int64  \n",
      " 1   start_time         365069 non-null  object \n",
      " 2   end_time           365069 non-null  object \n",
      " 3   bikeid             365069 non-null  int64  \n",
      " 4   tripduration       365069 non-null  object \n",
      " 5   from_station_id    365069 non-null  int64  \n",
      " 6   from_station_name  365069 non-null  object \n",
      " 7   to_station_id      365069 non-null  int64  \n",
      " 8   to_station_name    365069 non-null  object \n",
      " 9   usertype           365069 non-null  object \n",
      " 10  gender             345358 non-null  object \n",
      " 11  birthyear          347046 non-null  float64\n",
      "dtypes: float64(1), int64(4), object(7)\n",
      "memory usage: 33.4+ MB\n"
     ]
    }
   ],
   "source": [
    "data_q1.info()"
   ]
  },
  {
   "cell_type": "code",
   "execution_count": 9,
   "metadata": {
    "execution": {
     "iopub.execute_input": "2024-01-04T23:22:29.815222Z",
     "iopub.status.busy": "2024-01-04T23:22:29.814385Z",
     "iopub.status.idle": "2024-01-04T23:22:29.897661Z",
     "shell.execute_reply": "2024-01-04T23:22:29.896324Z",
     "shell.execute_reply.started": "2024-01-04T23:22:29.815190Z"
    }
   },
   "outputs": [
    {
     "data": {
      "text/plain": [
       "trip_id                  0\n",
       "start_time               0\n",
       "end_time                 0\n",
       "bikeid                   0\n",
       "tripduration             0\n",
       "from_station_id          0\n",
       "from_station_name        0\n",
       "to_station_id            0\n",
       "to_station_name          0\n",
       "usertype                 0\n",
       "gender               19711\n",
       "birthyear            18023\n",
       "dtype: int64"
      ]
     },
     "execution_count": 9,
     "metadata": {},
     "output_type": "execute_result"
    }
   ],
   "source": [
    "data_q1.isnull().sum()"
   ]
  },
  {
   "cell_type": "code",
   "execution_count": 10,
   "metadata": {
    "execution": {
     "iopub.execute_input": "2024-01-04T23:33:43.139013Z",
     "iopub.status.busy": "2024-01-04T23:33:43.138685Z",
     "iopub.status.idle": "2024-01-04T23:33:43.164483Z",
     "shell.execute_reply": "2024-01-04T23:33:43.162749Z",
     "shell.execute_reply.started": "2024-01-04T23:33:43.138987Z"
    }
   },
   "outputs": [],
   "source": [
    "data_q1['gender'].value_counts()\n",
    "data_q1['gender'].fillna('Male', inplace=True)\n",
    "data_q1['birthyear'].fillna(data_q1['birthyear'].mean(), inplace=True)"
   ]
  },
  {
   "cell_type": "code",
   "execution_count": 11,
   "metadata": {
    "scrolled": true
   },
   "outputs": [
    {
     "data": {
      "text/plain": [
       "trip_id              0\n",
       "start_time           0\n",
       "end_time             0\n",
       "bikeid               0\n",
       "tripduration         0\n",
       "from_station_id      0\n",
       "from_station_name    0\n",
       "to_station_id        0\n",
       "to_station_name      0\n",
       "usertype             0\n",
       "gender               0\n",
       "birthyear            0\n",
       "dtype: int64"
      ]
     },
     "execution_count": 11,
     "metadata": {},
     "output_type": "execute_result"
    }
   ],
   "source": [
    "data_q1.isnull().sum()"
   ]
  },
  {
   "cell_type": "code",
   "execution_count": 12,
   "metadata": {
    "execution": {
     "iopub.execute_input": "2024-01-04T23:23:07.168607Z",
     "iopub.status.busy": "2024-01-04T23:23:07.167768Z",
     "iopub.status.idle": "2024-01-04T23:23:07.565270Z",
     "shell.execute_reply": "2024-01-04T23:23:07.564412Z",
     "shell.execute_reply.started": "2024-01-04T23:23:07.168572Z"
    }
   },
   "outputs": [
    {
     "data": {
      "text/plain": [
       "0"
      ]
     },
     "execution_count": 12,
     "metadata": {},
     "output_type": "execute_result"
    }
   ],
   "source": [
    "data_q1.duplicated().sum()"
   ]
  },
  {
   "cell_type": "code",
   "execution_count": 13,
   "metadata": {
    "execution": {
     "iopub.execute_input": "2024-01-04T23:34:31.766606Z",
     "iopub.status.busy": "2024-01-04T23:34:31.765993Z",
     "iopub.status.idle": "2024-01-04T23:34:31.836300Z",
     "shell.execute_reply": "2024-01-04T23:34:31.835631Z",
     "shell.execute_reply.started": "2024-01-04T23:34:31.766575Z"
    }
   },
   "outputs": [
    {
     "data": {
      "text/html": [
       "<div>\n",
       "<style scoped>\n",
       "    .dataframe tbody tr th:only-of-type {\n",
       "        vertical-align: middle;\n",
       "    }\n",
       "\n",
       "    .dataframe tbody tr th {\n",
       "        vertical-align: top;\n",
       "    }\n",
       "\n",
       "    .dataframe thead th {\n",
       "        text-align: right;\n",
       "    }\n",
       "</style>\n",
       "<table border=\"1\" class=\"dataframe\">\n",
       "  <thead>\n",
       "    <tr style=\"text-align: right;\">\n",
       "      <th></th>\n",
       "      <th>trip_id</th>\n",
       "      <th>bikeid</th>\n",
       "      <th>from_station_id</th>\n",
       "      <th>to_station_id</th>\n",
       "      <th>birthyear</th>\n",
       "    </tr>\n",
       "  </thead>\n",
       "  <tbody>\n",
       "    <tr>\n",
       "      <th>count</th>\n",
       "      <td>3.650690e+05</td>\n",
       "      <td>365069.000000</td>\n",
       "      <td>365069.000000</td>\n",
       "      <td>365069.000000</td>\n",
       "      <td>365069.000000</td>\n",
       "    </tr>\n",
       "    <tr>\n",
       "      <th>mean</th>\n",
       "      <td>2.196087e+07</td>\n",
       "      <td>3429.484607</td>\n",
       "      <td>198.088816</td>\n",
       "      <td>198.581123</td>\n",
       "      <td>1981.674297</td>\n",
       "    </tr>\n",
       "    <tr>\n",
       "      <th>std</th>\n",
       "      <td>1.271750e+05</td>\n",
       "      <td>1923.321025</td>\n",
       "      <td>153.493553</td>\n",
       "      <td>154.468304</td>\n",
       "      <td>10.964576</td>\n",
       "    </tr>\n",
       "    <tr>\n",
       "      <th>min</th>\n",
       "      <td>2.174244e+07</td>\n",
       "      <td>1.000000</td>\n",
       "      <td>2.000000</td>\n",
       "      <td>2.000000</td>\n",
       "      <td>1900.000000</td>\n",
       "    </tr>\n",
       "    <tr>\n",
       "      <th>25%</th>\n",
       "      <td>2.184876e+07</td>\n",
       "      <td>1777.000000</td>\n",
       "      <td>76.000000</td>\n",
       "      <td>76.000000</td>\n",
       "      <td>1976.000000</td>\n",
       "    </tr>\n",
       "    <tr>\n",
       "      <th>50%</th>\n",
       "      <td>2.196183e+07</td>\n",
       "      <td>3489.000000</td>\n",
       "      <td>170.000000</td>\n",
       "      <td>168.000000</td>\n",
       "      <td>1984.000000</td>\n",
       "    </tr>\n",
       "    <tr>\n",
       "      <th>75%</th>\n",
       "      <td>2.207182e+07</td>\n",
       "      <td>5157.000000</td>\n",
       "      <td>287.000000</td>\n",
       "      <td>287.000000</td>\n",
       "      <td>1990.000000</td>\n",
       "    </tr>\n",
       "    <tr>\n",
       "      <th>max</th>\n",
       "      <td>2.217853e+07</td>\n",
       "      <td>6471.000000</td>\n",
       "      <td>665.000000</td>\n",
       "      <td>665.000000</td>\n",
       "      <td>2003.000000</td>\n",
       "    </tr>\n",
       "  </tbody>\n",
       "</table>\n",
       "</div>"
      ],
      "text/plain": [
       "            trip_id         bikeid  from_station_id  to_station_id  \\\n",
       "count  3.650690e+05  365069.000000    365069.000000  365069.000000   \n",
       "mean   2.196087e+07    3429.484607       198.088816     198.581123   \n",
       "std    1.271750e+05    1923.321025       153.493553     154.468304   \n",
       "min    2.174244e+07       1.000000         2.000000       2.000000   \n",
       "25%    2.184876e+07    1777.000000        76.000000      76.000000   \n",
       "50%    2.196183e+07    3489.000000       170.000000     168.000000   \n",
       "75%    2.207182e+07    5157.000000       287.000000     287.000000   \n",
       "max    2.217853e+07    6471.000000       665.000000     665.000000   \n",
       "\n",
       "           birthyear  \n",
       "count  365069.000000  \n",
       "mean     1981.674297  \n",
       "std        10.964576  \n",
       "min      1900.000000  \n",
       "25%      1976.000000  \n",
       "50%      1984.000000  \n",
       "75%      1990.000000  \n",
       "max      2003.000000  "
      ]
     },
     "execution_count": 13,
     "metadata": {},
     "output_type": "execute_result"
    }
   ],
   "source": [
    "data_q1.describe()"
   ]
  },
  {
   "cell_type": "code",
   "execution_count": 14,
   "metadata": {
    "execution": {
     "iopub.execute_input": "2024-01-04T23:39:34.017002Z",
     "iopub.status.busy": "2024-01-04T23:39:34.016608Z",
     "iopub.status.idle": "2024-01-04T23:39:34.210455Z",
     "shell.execute_reply": "2024-01-04T23:39:34.208815Z",
     "shell.execute_reply.started": "2024-01-04T23:39:34.016973Z"
    }
   },
   "outputs": [
    {
     "data": {
      "image/png": "[encoded data removed]",
      "text/plain": [
       "<Figure size 432x288 with 1 Axes>"
      ]
     },
     "metadata": {
      "needs_background": "light"
     },
     "output_type": "display_data"
    }
   ],
   "source": [
    "sns.boxplot(x=data_q1['birthyear'])\n",
    "plt.title('Boxplot of Birth Years')\n",
    "plt.show()\n"
   ]
  },
  {
   "cell_type": "code",
   "execution_count": 15,
   "metadata": {
    "execution": {
     "iopub.execute_input": "2024-01-04T23:50:27.559555Z",
     "iopub.status.busy": "2024-01-04T23:50:27.558981Z",
     "iopub.status.idle": "2024-01-04T23:50:27.597566Z",
     "shell.execute_reply": "2024-01-04T23:50:27.596092Z",
     "shell.execute_reply.started": "2024-01-04T23:50:27.559502Z"
    }
   },
   "outputs": [
    {
     "data": {
      "text/plain": [
       "(6434, 12)"
      ]
     },
     "execution_count": 15,
     "metadata": {},
     "output_type": "execute_result"
    }
   ],
   "source": [
    "Q1 = data_q1['birthyear'].quantile(0.25)\n",
    "Q3 = data_q1['birthyear'].quantile(0.75)\n",
    "IQR = Q3 - Q1\n",
    "IQR\n",
    "\n",
    "outliers_birthyear = data_q1[(data_q1['birthyear'] < Q1 - (IQR*1.5)) | (data_q1['birthyear'] > Q3 + (IQR*1.5))]\n",
    "outliers_birthyear.shape\n",
    "\n",
    "# keeping the outliers"
   ]
  },
  {
   "cell_type": "code",
   "execution_count": 16,
   "metadata": {
    "execution": {
     "iopub.execute_input": "2024-01-05T00:27:35.023863Z",
     "iopub.status.busy": "2024-01-05T00:27:35.023516Z",
     "iopub.status.idle": "2024-01-05T00:27:35.129834Z",
     "shell.execute_reply": "2024-01-05T00:27:35.128273Z",
     "shell.execute_reply.started": "2024-01-05T00:27:35.023837Z"
    }
   },
   "outputs": [
    {
     "name": "stdout",
     "output_type": "stream",
     "text": [
      "The unique values in the usertype ['Subscriber' 'Customer']\n",
      "\n",
      "The number of usertypes\n",
      " Subscriber    341906\n",
      "Customer       23163\n",
      "Name: usertype, dtype: int64\n",
      "\n",
      "The number of unique values in gender\n",
      " ['Male' 'Female']\n",
      "\n",
      "The frequency of genders\n",
      " Male      298151\n",
      "Female     66918\n",
      "Name: gender, dtype: int64\n",
      "\n",
      "Number of uniques bikes id is\n",
      " 4769\n",
      "\n",
      " The bikeId and the frequency\n",
      " 3457    235\n",
      "6407    229\n",
      "5983    224\n",
      "6074    222\n",
      "3494    221\n",
      "       ... \n",
      "1706      1\n",
      "2481      1\n",
      "4071      1\n",
      "2231      1\n",
      "1404      1\n",
      "Name: bikeid, Length: 4769, dtype: int64\n"
     ]
    }
   ],
   "source": [
    "print(\"The unique values in the usertype\",data_q1['usertype'].unique())\n",
    "print(\"\\nThe number of usertypes\\n\",data_q1['usertype'].value_counts())\n",
    "print(\"\\nThe number of unique values in gender\\n\",data_q1['gender'].unique())\n",
    "print(\"\\nThe frequency of genders\\n\",data_q1['gender'].value_counts())\n",
    "print(\"\\nNumber of uniques bikes id is\\n\",data_q1['bikeid'].nunique())\n",
    "print(\"\\n The bikeId and the frequency\\n\",data_q1['bikeid'].value_counts())"
   ]
  },
  {
   "cell_type": "code",
   "execution_count": 17,
   "metadata": {},
   "outputs": [
    {
     "name": "stdout",
     "output_type": "stream",
     "text": [
      "\n",
      "Number of uniques from station id is\n",
      " 594\n",
      "\n",
      " The satation and the frequency\n",
      " Clinton St & Washington Blvd      7699\n",
      "Clinton St & Madison St           6565\n",
      "Canal St & Adams St               6342\n",
      "Columbus Dr & Randolph St         4655\n",
      "Canal St & Madison St             4571\n",
      "                                  ... \n",
      "Racine Ave & 61st St                 1\n",
      "State St & 76th St                   1\n",
      "South Chicago Ave & Elliot Ave       1\n",
      "Halsted St & 69th St                 1\n",
      "Carpenter St & 63rd St               1\n",
      "Name: from_station_name, Length: 594, dtype: int64\n"
     ]
    }
   ],
   "source": [
    "print(\"\\nNumber of uniques from station id is\\n\",data_q1['from_station_id'].nunique())\n",
    "print(\"\\n The satation and the frequency\\n\",data_q1['from_station_name'].value_counts())"
   ]
  },
  {
   "cell_type": "code",
   "execution_count": 18,
   "metadata": {},
   "outputs": [
    {
     "name": "stdout",
     "output_type": "stream",
     "text": [
      "\n",
      "Number of uniques Destination station id is\n",
      " 600\n",
      "\n",
      " The Destination satation and the frequency\n",
      " Clinton St & Washington Blvd    7699\n",
      "Clinton St & Madison St         6859\n",
      "Canal St & Adams St             6744\n",
      "Canal St & Madison St           4875\n",
      "Michigan Ave & Washington St    4412\n",
      "                                ... \n",
      "State St & 54th St                 1\n",
      "Racine Ave & 61st St               1\n",
      "Halsted St & 59th St               1\n",
      "Halsted St & 51st St               1\n",
      "Phillips Ave & 79th St             1\n",
      "Name: to_station_name, Length: 600, dtype: int64\n"
     ]
    }
   ],
   "source": [
    "print(\"\\nNumber of uniques Destination station id is\\n\",data_q1['to_station_id'].nunique())\n",
    "print(\"\\n The Destination satation and the frequency\\n\",data_q1['to_station_name'].value_counts())"
   ]
  },
  {
   "cell_type": "code",
   "execution_count": 19,
   "metadata": {
    "execution": {
     "iopub.execute_input": "2024-01-05T00:23:06.952947Z",
     "iopub.status.busy": "2024-01-05T00:23:06.952560Z",
     "iopub.status.idle": "2024-01-05T00:23:07.224542Z",
     "shell.execute_reply": "2024-01-05T00:23:07.223787Z",
     "shell.execute_reply.started": "2024-01-05T00:23:06.952917Z"
    }
   },
   "outputs": [
    {
     "name": "stdout",
     "output_type": "stream",
     "text": [
      "<class 'pandas.core.frame.DataFrame'>\n",
      "RangeIndex: 365069 entries, 0 to 365068\n",
      "Data columns (total 12 columns):\n",
      " #   Column             Non-Null Count   Dtype         \n",
      "---  ------             --------------   -----         \n",
      " 0   trip_id            365069 non-null  int64         \n",
      " 1   start_time         365069 non-null  datetime64[ns]\n",
      " 2   end_time           365069 non-null  datetime64[ns]\n",
      " 3   bikeid             365069 non-null  int64         \n",
      " 4   tripduration       365069 non-null  object        \n",
      " 5   from_station_id    365069 non-null  int64         \n",
      " 6   from_station_name  365069 non-null  object        \n",
      " 7   to_station_id      365069 non-null  int64         \n",
      " 8   to_station_name    365069 non-null  object        \n",
      " 9   usertype           365069 non-null  object        \n",
      " 10  gender             365069 non-null  object        \n",
      " 11  birthyear          365069 non-null  float64       \n",
      "dtypes: datetime64[ns](2), float64(1), int64(4), object(5)\n",
      "memory usage: 33.4+ MB\n"
     ]
    }
   ],
   "source": [
    "# CNVERTING FROM OBJECT TO DATE TIME\n",
    "data_q1['start_time'] = pd.to_datetime(data_q1['start_time'])\n",
    "data_q1['end_time'] = pd.to_datetime(data_q1['end_time'])\n",
    "data_q1.info()"
   ]
  },
  {
   "cell_type": "code",
   "execution_count": 20,
   "metadata": {},
   "outputs": [],
   "source": [
    "data_q1['ride_length'] = data_q1['end_time'] - data_q1['start_time'] #Creating a new field named ride_length"
   ]
  },
  {
   "cell_type": "code",
   "execution_count": 21,
   "metadata": {},
   "outputs": [],
   "source": [
    "#creating column named day of the week extracted from the start_time column adding +1 for monday = 1\n",
    "data_q1['day_of_week'] = data_q1['start_time'].dt.dayofweek + 1"
   ]
  },
  {
   "cell_type": "code",
   "execution_count": 22,
   "metadata": {},
   "outputs": [
    {
     "name": "stdout",
     "output_type": "stream",
     "text": [
      "           start_time            end_time     ride_length  day_of_week\n",
      "0 2019-01-01 00:04:37 2019-01-01 00:11:07 0 days 00:06:30            2\n",
      "1 2019-01-01 00:08:13 2019-01-01 00:15:34 0 days 00:07:21            2\n",
      "2 2019-01-01 00:13:23 2019-01-01 00:27:12 0 days 00:13:49            2\n",
      "3 2019-01-01 00:13:45 2019-01-01 00:43:28 0 days 00:29:43            2\n",
      "4 2019-01-01 00:14:52 2019-01-01 00:20:56 0 days 00:06:04            2\n"
     ]
    }
   ],
   "source": [
    "# Exibir as primeiras linhas do DataFrame com as novas colunas\n",
    "print(data_q1[['start_time', 'end_time', 'ride_length', 'day_of_week']].head())"
   ]
  },
  {
   "cell_type": "code",
   "execution_count": 23,
   "metadata": {
    "execution": {
     "iopub.execute_input": "2024-01-05T00:27:53.719544Z",
     "iopub.status.busy": "2024-01-05T00:27:53.719153Z",
     "iopub.status.idle": "2024-01-05T00:27:53.736981Z",
     "shell.execute_reply": "2024-01-05T00:27:53.735685Z",
     "shell.execute_reply.started": "2024-01-05T00:27:53.719512Z"
    }
   },
   "outputs": [
    {
     "data": {
      "text/html": [
       "<div>\n",
       "<style scoped>\n",
       "    .dataframe tbody tr th:only-of-type {\n",
       "        vertical-align: middle;\n",
       "    }\n",
       "\n",
       "    .dataframe tbody tr th {\n",
       "        vertical-align: top;\n",
       "    }\n",
       "\n",
       "    .dataframe thead th {\n",
       "        text-align: right;\n",
       "    }\n",
       "</style>\n",
       "<table border=\"1\" class=\"dataframe\">\n",
       "  <thead>\n",
       "    <tr style=\"text-align: right;\">\n",
       "      <th></th>\n",
       "      <th>trip_id</th>\n",
       "      <th>start_time</th>\n",
       "      <th>end_time</th>\n",
       "      <th>bikeid</th>\n",
       "      <th>tripduration</th>\n",
       "      <th>from_station_id</th>\n",
       "      <th>from_station_name</th>\n",
       "      <th>to_station_id</th>\n",
       "      <th>to_station_name</th>\n",
       "      <th>usertype</th>\n",
       "      <th>gender</th>\n",
       "      <th>birthyear</th>\n",
       "      <th>ride_length</th>\n",
       "      <th>day_of_week</th>\n",
       "    </tr>\n",
       "  </thead>\n",
       "  <tbody>\n",
       "    <tr>\n",
       "      <th>0</th>\n",
       "      <td>21742443</td>\n",
       "      <td>2019-01-01 00:04:37</td>\n",
       "      <td>2019-01-01 00:11:07</td>\n",
       "      <td>2167</td>\n",
       "      <td>390.0</td>\n",
       "      <td>199</td>\n",
       "      <td>Wabash Ave &amp; Grand Ave</td>\n",
       "      <td>84</td>\n",
       "      <td>Milwaukee Ave &amp; Grand Ave</td>\n",
       "      <td>Subscriber</td>\n",
       "      <td>Male</td>\n",
       "      <td>1989.0</td>\n",
       "      <td>0 days 00:06:30</td>\n",
       "      <td>2</td>\n",
       "    </tr>\n",
       "    <tr>\n",
       "      <th>1</th>\n",
       "      <td>21742444</td>\n",
       "      <td>2019-01-01 00:08:13</td>\n",
       "      <td>2019-01-01 00:15:34</td>\n",
       "      <td>4386</td>\n",
       "      <td>441.0</td>\n",
       "      <td>44</td>\n",
       "      <td>State St &amp; Randolph St</td>\n",
       "      <td>624</td>\n",
       "      <td>Dearborn St &amp; Van Buren St (*)</td>\n",
       "      <td>Subscriber</td>\n",
       "      <td>Female</td>\n",
       "      <td>1990.0</td>\n",
       "      <td>0 days 00:07:21</td>\n",
       "      <td>2</td>\n",
       "    </tr>\n",
       "    <tr>\n",
       "      <th>2</th>\n",
       "      <td>21742445</td>\n",
       "      <td>2019-01-01 00:13:23</td>\n",
       "      <td>2019-01-01 00:27:12</td>\n",
       "      <td>1524</td>\n",
       "      <td>829.0</td>\n",
       "      <td>15</td>\n",
       "      <td>Racine Ave &amp; 18th St</td>\n",
       "      <td>644</td>\n",
       "      <td>Western Ave &amp; Fillmore St (*)</td>\n",
       "      <td>Subscriber</td>\n",
       "      <td>Female</td>\n",
       "      <td>1994.0</td>\n",
       "      <td>0 days 00:13:49</td>\n",
       "      <td>2</td>\n",
       "    </tr>\n",
       "    <tr>\n",
       "      <th>3</th>\n",
       "      <td>21742446</td>\n",
       "      <td>2019-01-01 00:13:45</td>\n",
       "      <td>2019-01-01 00:43:28</td>\n",
       "      <td>252</td>\n",
       "      <td>1,783.0</td>\n",
       "      <td>123</td>\n",
       "      <td>California Ave &amp; Milwaukee Ave</td>\n",
       "      <td>176</td>\n",
       "      <td>Clark St &amp; Elm St</td>\n",
       "      <td>Subscriber</td>\n",
       "      <td>Male</td>\n",
       "      <td>1993.0</td>\n",
       "      <td>0 days 00:29:43</td>\n",
       "      <td>2</td>\n",
       "    </tr>\n",
       "    <tr>\n",
       "      <th>4</th>\n",
       "      <td>21742447</td>\n",
       "      <td>2019-01-01 00:14:52</td>\n",
       "      <td>2019-01-01 00:20:56</td>\n",
       "      <td>1170</td>\n",
       "      <td>364.0</td>\n",
       "      <td>173</td>\n",
       "      <td>Mies van der Rohe Way &amp; Chicago Ave</td>\n",
       "      <td>35</td>\n",
       "      <td>Streeter Dr &amp; Grand Ave</td>\n",
       "      <td>Subscriber</td>\n",
       "      <td>Male</td>\n",
       "      <td>1994.0</td>\n",
       "      <td>0 days 00:06:04</td>\n",
       "      <td>2</td>\n",
       "    </tr>\n",
       "  </tbody>\n",
       "</table>\n",
       "</div>"
      ],
      "text/plain": [
       "    trip_id          start_time            end_time  bikeid tripduration  \\\n",
       "0  21742443 2019-01-01 00:04:37 2019-01-01 00:11:07    2167        390.0   \n",
       "1  21742444 2019-01-01 00:08:13 2019-01-01 00:15:34    4386        441.0   \n",
       "2  21742445 2019-01-01 00:13:23 2019-01-01 00:27:12    1524        829.0   \n",
       "3  21742446 2019-01-01 00:13:45 2019-01-01 00:43:28     252      1,783.0   \n",
       "4  21742447 2019-01-01 00:14:52 2019-01-01 00:20:56    1170        364.0   \n",
       "\n",
       "   from_station_id                    from_station_name  to_station_id  \\\n",
       "0              199               Wabash Ave & Grand Ave             84   \n",
       "1               44               State St & Randolph St            624   \n",
       "2               15                 Racine Ave & 18th St            644   \n",
       "3              123       California Ave & Milwaukee Ave            176   \n",
       "4              173  Mies van der Rohe Way & Chicago Ave             35   \n",
       "\n",
       "                  to_station_name    usertype  gender  birthyear  \\\n",
       "0       Milwaukee Ave & Grand Ave  Subscriber    Male     1989.0   \n",
       "1  Dearborn St & Van Buren St (*)  Subscriber  Female     1990.0   \n",
       "2   Western Ave & Fillmore St (*)  Subscriber  Female     1994.0   \n",
       "3               Clark St & Elm St  Subscriber    Male     1993.0   \n",
       "4         Streeter Dr & Grand Ave  Subscriber    Male     1994.0   \n",
       "\n",
       "      ride_length  day_of_week  \n",
       "0 0 days 00:06:30            2  \n",
       "1 0 days 00:07:21            2  \n",
       "2 0 days 00:13:49            2  \n",
       "3 0 days 00:29:43            2  \n",
       "4 0 days 00:06:04            2  "
      ]
     },
     "execution_count": 23,
     "metadata": {},
     "output_type": "execute_result"
    }
   ],
   "source": [
    "data_q1.head()"
   ]
  },
  {
   "cell_type": "code",
   "execution_count": 24,
   "metadata": {
    "execution": {
     "iopub.execute_input": "2024-01-05T00:28:02.112545Z",
     "iopub.status.busy": "2024-01-05T00:28:02.111958Z",
     "iopub.status.idle": "2024-01-05T00:28:02.124144Z",
     "shell.execute_reply": "2024-01-05T00:28:02.123008Z",
     "shell.execute_reply.started": "2024-01-05T00:28:02.112510Z"
    }
   },
   "outputs": [
    {
     "name": "stdout",
     "output_type": "stream",
     "text": [
      "The total week days\n",
      " [2 3 4 5 6 7 1]\n",
      "\n",
      "The frequency of days\n",
      " 4    66903\n",
      "5    63047\n",
      "2    61005\n",
      "3    60414\n",
      "1    50399\n",
      "6    35302\n",
      "7    27999\n",
      "Name: day_of_week, dtype: int64\n"
     ]
    }
   ],
   "source": [
    "print(\"The total week days\\n\",data_q1['day_of_week'].unique())\n",
    "print(\"\\nThe frequency of days\\n\",data_q1['day_of_week'].value_counts())"
   ]
  },
  {
   "cell_type": "code",
   "execution_count": 25,
   "metadata": {},
   "outputs": [],
   "source": [
    "#from this we can clearly understand the saturday and sundays are the less busier days compraed to other days"
   ]
  },
  {
   "cell_type": "code",
   "execution_count": 26,
   "metadata": {},
   "outputs": [
    {
     "data": {
      "text/plain": [
       "Index(['01 - Rental Details Rental ID', '01 - Rental Details Local Start Time',\n",
       "       '01 - Rental Details Local End Time', '01 - Rental Details Bike ID',\n",
       "       '01 - Rental Details Duration In Seconds Uncapped',\n",
       "       '03 - Rental Start Station ID', '03 - Rental Start Station Name',\n",
       "       '02 - Rental End Station ID', '02 - Rental End Station Name',\n",
       "       'User Type', 'Member Gender',\n",
       "       '05 - Member Details Member Birthday Year'],\n",
       "      dtype='object')"
      ]
     },
     "execution_count": 26,
     "metadata": {},
     "output_type": "execute_result"
    }
   ],
   "source": [
    "data_q2.columns"
   ]
  },
  {
   "cell_type": "code",
   "execution_count": 27,
   "metadata": {
    "execution": {
     "iopub.execute_input": "2024-01-05T00:44:23.322292Z",
     "iopub.status.busy": "2024-01-05T00:44:23.321914Z",
     "iopub.status.idle": "2024-01-05T00:44:23.339083Z",
     "shell.execute_reply": "2024-01-05T00:44:23.337678Z",
     "shell.execute_reply.started": "2024-01-05T00:44:23.322259Z"
    },
    "scrolled": true
   },
   "outputs": [
    {
     "data": {
      "text/html": [
       "<div>\n",
       "<style scoped>\n",
       "    .dataframe tbody tr th:only-of-type {\n",
       "        vertical-align: middle;\n",
       "    }\n",
       "\n",
       "    .dataframe tbody tr th {\n",
       "        vertical-align: top;\n",
       "    }\n",
       "\n",
       "    .dataframe thead th {\n",
       "        text-align: right;\n",
       "    }\n",
       "</style>\n",
       "<table border=\"1\" class=\"dataframe\">\n",
       "  <thead>\n",
       "    <tr style=\"text-align: right;\">\n",
       "      <th></th>\n",
       "      <th>trip_id</th>\n",
       "      <th>start_time</th>\n",
       "      <th>end_time</th>\n",
       "      <th>bikeid</th>\n",
       "      <th>tripduration</th>\n",
       "      <th>from_station_id</th>\n",
       "      <th>from_station_name</th>\n",
       "      <th>to_station_id</th>\n",
       "      <th>to_station_name</th>\n",
       "      <th>usertype</th>\n",
       "      <th>gender</th>\n",
       "      <th>birthyear</th>\n",
       "    </tr>\n",
       "  </thead>\n",
       "  <tbody>\n",
       "    <tr>\n",
       "      <th>0</th>\n",
       "      <td>22178529</td>\n",
       "      <td>2019-04-01 00:02:22</td>\n",
       "      <td>2019-04-01 00:09:48</td>\n",
       "      <td>6251</td>\n",
       "      <td>446.0</td>\n",
       "      <td>81</td>\n",
       "      <td>Daley Center Plaza</td>\n",
       "      <td>56</td>\n",
       "      <td>Desplaines St &amp; Kinzie St</td>\n",
       "      <td>Subscriber</td>\n",
       "      <td>Male</td>\n",
       "      <td>1975.0</td>\n",
       "    </tr>\n",
       "    <tr>\n",
       "      <th>1</th>\n",
       "      <td>22178530</td>\n",
       "      <td>2019-04-01 00:03:02</td>\n",
       "      <td>2019-04-01 00:20:30</td>\n",
       "      <td>6226</td>\n",
       "      <td>1,048.0</td>\n",
       "      <td>317</td>\n",
       "      <td>Wood St &amp; Taylor St</td>\n",
       "      <td>59</td>\n",
       "      <td>Wabash Ave &amp; Roosevelt Rd</td>\n",
       "      <td>Subscriber</td>\n",
       "      <td>Female</td>\n",
       "      <td>1984.0</td>\n",
       "    </tr>\n",
       "    <tr>\n",
       "      <th>2</th>\n",
       "      <td>22178531</td>\n",
       "      <td>2019-04-01 00:11:07</td>\n",
       "      <td>2019-04-01 00:15:19</td>\n",
       "      <td>5649</td>\n",
       "      <td>252.0</td>\n",
       "      <td>283</td>\n",
       "      <td>LaSalle St &amp; Jackson Blvd</td>\n",
       "      <td>174</td>\n",
       "      <td>Canal St &amp; Madison St</td>\n",
       "      <td>Subscriber</td>\n",
       "      <td>Male</td>\n",
       "      <td>1990.0</td>\n",
       "    </tr>\n",
       "  </tbody>\n",
       "</table>\n",
       "</div>"
      ],
      "text/plain": [
       "    trip_id           start_time             end_time  bikeid tripduration  \\\n",
       "0  22178529  2019-04-01 00:02:22  2019-04-01 00:09:48    6251        446.0   \n",
       "1  22178530  2019-04-01 00:03:02  2019-04-01 00:20:30    6226      1,048.0   \n",
       "2  22178531  2019-04-01 00:11:07  2019-04-01 00:15:19    5649        252.0   \n",
       "\n",
       "   from_station_id          from_station_name  to_station_id  \\\n",
       "0               81         Daley Center Plaza             56   \n",
       "1              317        Wood St & Taylor St             59   \n",
       "2              283  LaSalle St & Jackson Blvd            174   \n",
       "\n",
       "             to_station_name    usertype  gender  birthyear  \n",
       "0  Desplaines St & Kinzie St  Subscriber    Male     1975.0  \n",
       "1  Wabash Ave & Roosevelt Rd  Subscriber  Female     1984.0  \n",
       "2      Canal St & Madison St  Subscriber    Male     1990.0  "
      ]
     },
     "execution_count": 27,
     "metadata": {},
     "output_type": "execute_result"
    }
   ],
   "source": [
    "old_to_new_mapping = {\n",
    "    '01 - Rental Details Rental ID': 'trip_id',\n",
    "    '01 - Rental Details Local Start Time': 'start_time',\n",
    "    '01 - Rental Details Local End Time': 'end_time',\n",
    "    '01 - Rental Details Bike ID': 'bikeid',\n",
    "    '01 - Rental Details Duration In Seconds Uncapped': 'tripduration',\n",
    "    '03 - Rental Start Station ID': 'from_station_id',\n",
    "    '03 - Rental Start Station Name': 'from_station_name',\n",
    "    '02 - Rental End Station ID': 'to_station_id',\n",
    "    '02 - Rental End Station Name': 'to_station_name',\n",
    "    'User Type': 'usertype',\n",
    "    'Member Gender': 'gender',\n",
    "    '05 - Member Details Member Birthday Year': 'birthyear'\n",
    "}\n",
    "\n",
    "data_q2.rename(columns=old_to_new_mapping, inplace=True)\n",
    "\n",
    "data_q2.head(3)"
   ]
  },
  {
   "cell_type": "code",
   "execution_count": 36,
   "metadata": {
    "scrolled": true
   },
   "outputs": [
    {
     "data": {
      "text/plain": [
       "trip_id              0\n",
       "start_time           0\n",
       "end_time             0\n",
       "bikeid               0\n",
       "tripduration         0\n",
       "from_station_id      0\n",
       "from_station_name    0\n",
       "to_station_id        0\n",
       "to_station_name      0\n",
       "usertype             0\n",
       "gender               0\n",
       "birthyear            0\n",
       "ride_length          0\n",
       "day_of_week          0\n",
       "dtype: int64"
      ]
     },
     "execution_count": 36,
     "metadata": {},
     "output_type": "execute_result"
    }
   ],
   "source": [
    "data_q2.isnull().sum()"
   ]
  },
  {
   "cell_type": "code",
   "execution_count": 37,
   "metadata": {},
   "outputs": [
    {
     "data": {
      "text/plain": [
       "0"
      ]
     },
     "execution_count": 37,
     "metadata": {},
     "output_type": "execute_result"
    }
   ],
   "source": [
    "data_q2.duplicated().sum()"
   ]
  },
  {
   "cell_type": "code",
   "execution_count": 38,
   "metadata": {},
   "outputs": [
    {
     "name": "stdout",
     "output_type": "stream",
     "text": [
      "<class 'pandas.core.frame.DataFrame'>\n",
      "RangeIndex: 1108163 entries, 0 to 1108162\n",
      "Data columns (total 14 columns):\n",
      " #   Column             Non-Null Count    Dtype          \n",
      "---  ------             --------------    -----          \n",
      " 0   trip_id            1108163 non-null  int64          \n",
      " 1   start_time         1108163 non-null  datetime64[ns] \n",
      " 2   end_time           1108163 non-null  datetime64[ns] \n",
      " 3   bikeid             1108163 non-null  int64          \n",
      " 4   tripduration       1108163 non-null  object         \n",
      " 5   from_station_id    1108163 non-null  int64          \n",
      " 6   from_station_name  1108163 non-null  object         \n",
      " 7   to_station_id      1108163 non-null  int64          \n",
      " 8   to_station_name    1108163 non-null  object         \n",
      " 9   usertype           1108163 non-null  object         \n",
      " 10  gender             1108163 non-null  object         \n",
      " 11  birthyear          1108163 non-null  float64        \n",
      " 12  ride_length        1108163 non-null  timedelta64[ns]\n",
      " 13  day_of_week        1108163 non-null  int64          \n",
      "dtypes: datetime64[ns](2), float64(1), int64(5), object(5), timedelta64[ns](1)\n",
      "memory usage: 118.4+ MB\n"
     ]
    }
   ],
   "source": [
    "data_q2.info()"
   ]
  },
  {
   "cell_type": "code",
   "execution_count": 28,
   "metadata": {},
   "outputs": [
    {
     "data": {
      "text/plain": [
       "Male      678568\n",
       "Female    244041\n",
       "Name: gender, dtype: int64"
      ]
     },
     "execution_count": 28,
     "metadata": {},
     "output_type": "execute_result"
    }
   ],
   "source": [
    "data_q2['gender'].value_counts()"
   ]
  },
  {
   "cell_type": "code",
   "execution_count": 29,
   "metadata": {
    "execution": {
     "iopub.execute_input": "2024-01-05T00:45:10.790268Z",
     "iopub.status.busy": "2024-01-05T00:45:10.789906Z",
     "iopub.status.idle": "2024-01-05T00:45:12.844616Z",
     "shell.execute_reply": "2024-01-05T00:45:12.843925Z",
     "shell.execute_reply.started": "2024-01-05T00:45:10.790239Z"
    },
    "scrolled": true
   },
   "outputs": [
    {
     "data": {
      "text/html": [
       "<div>\n",
       "<style scoped>\n",
       "    .dataframe tbody tr th:only-of-type {\n",
       "        vertical-align: middle;\n",
       "    }\n",
       "\n",
       "    .dataframe tbody tr th {\n",
       "        vertical-align: top;\n",
       "    }\n",
       "\n",
       "    .dataframe thead th {\n",
       "        text-align: right;\n",
       "    }\n",
       "</style>\n",
       "<table border=\"1\" class=\"dataframe\">\n",
       "  <thead>\n",
       "    <tr style=\"text-align: right;\">\n",
       "      <th></th>\n",
       "      <th>trip_id</th>\n",
       "      <th>start_time</th>\n",
       "      <th>end_time</th>\n",
       "      <th>bikeid</th>\n",
       "      <th>tripduration</th>\n",
       "      <th>from_station_id</th>\n",
       "      <th>from_station_name</th>\n",
       "      <th>to_station_id</th>\n",
       "      <th>to_station_name</th>\n",
       "      <th>usertype</th>\n",
       "      <th>gender</th>\n",
       "      <th>birthyear</th>\n",
       "      <th>ride_length</th>\n",
       "      <th>day_of_week</th>\n",
       "    </tr>\n",
       "  </thead>\n",
       "  <tbody>\n",
       "    <tr>\n",
       "      <th>0</th>\n",
       "      <td>22178529</td>\n",
       "      <td>2019-04-01 00:02:22</td>\n",
       "      <td>2019-04-01 00:09:48</td>\n",
       "      <td>6251</td>\n",
       "      <td>446.0</td>\n",
       "      <td>81</td>\n",
       "      <td>Daley Center Plaza</td>\n",
       "      <td>56</td>\n",
       "      <td>Desplaines St &amp; Kinzie St</td>\n",
       "      <td>Subscriber</td>\n",
       "      <td>Male</td>\n",
       "      <td>1975.0</td>\n",
       "      <td>0 days 00:07:26</td>\n",
       "      <td>1</td>\n",
       "    </tr>\n",
       "    <tr>\n",
       "      <th>1</th>\n",
       "      <td>22178530</td>\n",
       "      <td>2019-04-01 00:03:02</td>\n",
       "      <td>2019-04-01 00:20:30</td>\n",
       "      <td>6226</td>\n",
       "      <td>1,048.0</td>\n",
       "      <td>317</td>\n",
       "      <td>Wood St &amp; Taylor St</td>\n",
       "      <td>59</td>\n",
       "      <td>Wabash Ave &amp; Roosevelt Rd</td>\n",
       "      <td>Subscriber</td>\n",
       "      <td>Female</td>\n",
       "      <td>1984.0</td>\n",
       "      <td>0 days 00:17:28</td>\n",
       "      <td>1</td>\n",
       "    </tr>\n",
       "    <tr>\n",
       "      <th>2</th>\n",
       "      <td>22178531</td>\n",
       "      <td>2019-04-01 00:11:07</td>\n",
       "      <td>2019-04-01 00:15:19</td>\n",
       "      <td>5649</td>\n",
       "      <td>252.0</td>\n",
       "      <td>283</td>\n",
       "      <td>LaSalle St &amp; Jackson Blvd</td>\n",
       "      <td>174</td>\n",
       "      <td>Canal St &amp; Madison St</td>\n",
       "      <td>Subscriber</td>\n",
       "      <td>Male</td>\n",
       "      <td>1990.0</td>\n",
       "      <td>0 days 00:04:12</td>\n",
       "      <td>1</td>\n",
       "    </tr>\n",
       "    <tr>\n",
       "      <th>3</th>\n",
       "      <td>22178532</td>\n",
       "      <td>2019-04-01 00:13:01</td>\n",
       "      <td>2019-04-01 00:18:58</td>\n",
       "      <td>4151</td>\n",
       "      <td>357.0</td>\n",
       "      <td>26</td>\n",
       "      <td>McClurg Ct &amp; Illinois St</td>\n",
       "      <td>133</td>\n",
       "      <td>Kingsbury St &amp; Kinzie St</td>\n",
       "      <td>Subscriber</td>\n",
       "      <td>Male</td>\n",
       "      <td>1993.0</td>\n",
       "      <td>0 days 00:05:57</td>\n",
       "      <td>1</td>\n",
       "    </tr>\n",
       "    <tr>\n",
       "      <th>4</th>\n",
       "      <td>22178533</td>\n",
       "      <td>2019-04-01 00:19:26</td>\n",
       "      <td>2019-04-01 00:36:13</td>\n",
       "      <td>3270</td>\n",
       "      <td>1,007.0</td>\n",
       "      <td>202</td>\n",
       "      <td>Halsted St &amp; 18th St</td>\n",
       "      <td>129</td>\n",
       "      <td>Blue Island Ave &amp; 18th St</td>\n",
       "      <td>Subscriber</td>\n",
       "      <td>Male</td>\n",
       "      <td>1992.0</td>\n",
       "      <td>0 days 00:16:47</td>\n",
       "      <td>1</td>\n",
       "    </tr>\n",
       "  </tbody>\n",
       "</table>\n",
       "</div>"
      ],
      "text/plain": [
       "    trip_id          start_time            end_time  bikeid tripduration  \\\n",
       "0  22178529 2019-04-01 00:02:22 2019-04-01 00:09:48    6251        446.0   \n",
       "1  22178530 2019-04-01 00:03:02 2019-04-01 00:20:30    6226      1,048.0   \n",
       "2  22178531 2019-04-01 00:11:07 2019-04-01 00:15:19    5649        252.0   \n",
       "3  22178532 2019-04-01 00:13:01 2019-04-01 00:18:58    4151        357.0   \n",
       "4  22178533 2019-04-01 00:19:26 2019-04-01 00:36:13    3270      1,007.0   \n",
       "\n",
       "   from_station_id          from_station_name  to_station_id  \\\n",
       "0               81         Daley Center Plaza             56   \n",
       "1              317        Wood St & Taylor St             59   \n",
       "2              283  LaSalle St & Jackson Blvd            174   \n",
       "3               26   McClurg Ct & Illinois St            133   \n",
       "4              202       Halsted St & 18th St            129   \n",
       "\n",
       "             to_station_name    usertype  gender  birthyear     ride_length  \\\n",
       "0  Desplaines St & Kinzie St  Subscriber    Male     1975.0 0 days 00:07:26   \n",
       "1  Wabash Ave & Roosevelt Rd  Subscriber  Female     1984.0 0 days 00:17:28   \n",
       "2      Canal St & Madison St  Subscriber    Male     1990.0 0 days 00:04:12   \n",
       "3   Kingsbury St & Kinzie St  Subscriber    Male     1993.0 0 days 00:05:57   \n",
       "4  Blue Island Ave & 18th St  Subscriber    Male     1992.0 0 days 00:16:47   \n",
       "\n",
       "   day_of_week  \n",
       "0            1  \n",
       "1            1  \n",
       "2            1  \n",
       "3            1  \n",
       "4            1  "
      ]
     },
     "execution_count": 29,
     "metadata": {},
     "output_type": "execute_result"
    }
   ],
   "source": [
    "data_q2['gender'].fillna('Male', inplace=True)\n",
    "data_q2['birthyear'].fillna(data_q2['birthyear'].mean(), inplace=True)\n",
    "data_q2['start_time'] = pd.to_datetime(data_q2['start_time'])\n",
    "data_q2['end_time'] = pd.to_datetime(data_q2['end_time'])\n",
    "data_q2['ride_length'] = data_q2['end_time'] - data_q2['start_time']\n",
    "data_q2['day_of_week'] = data_q2['start_time'].dt.dayofweek + 1\n",
    "data_q2.head()"
   ]
  },
  {
   "cell_type": "code",
   "execution_count": 40,
   "metadata": {},
   "outputs": [
    {
     "data": {
      "text/plain": [
       "trip_id              0\n",
       "start_time           0\n",
       "end_time             0\n",
       "bikeid               0\n",
       "tripduration         0\n",
       "from_station_id      0\n",
       "from_station_name    0\n",
       "to_station_id        0\n",
       "to_station_name      0\n",
       "usertype             0\n",
       "gender               0\n",
       "birthyear            0\n",
       "ride_length          0\n",
       "day_of_week          0\n",
       "dtype: int64"
      ]
     },
     "execution_count": 40,
     "metadata": {},
     "output_type": "execute_result"
    }
   ],
   "source": [
    "data_q3.isnull().sum()"
   ]
  },
  {
   "cell_type": "code",
   "execution_count": 31,
   "metadata": {},
   "outputs": [
    {
     "data": {
      "text/plain": [
       "Male      957353\n",
       "Female    396015\n",
       "Name: gender, dtype: int64"
      ]
     },
     "execution_count": 31,
     "metadata": {},
     "output_type": "execute_result"
    }
   ],
   "source": [
    "data_q3[\"gender\"].value_counts()"
   ]
  },
  {
   "cell_type": "code",
   "execution_count": 32,
   "metadata": {
    "execution": {
     "iopub.execute_input": "2024-01-05T00:37:10.882397Z",
     "iopub.status.busy": "2024-01-05T00:37:10.882043Z",
     "iopub.status.idle": "2024-01-05T00:37:13.205380Z",
     "shell.execute_reply": "2024-01-05T00:37:13.204539Z",
     "shell.execute_reply.started": "2024-01-05T00:37:10.882367Z"
    }
   },
   "outputs": [
    {
     "data": {
      "text/html": [
       "<div>\n",
       "<style scoped>\n",
       "    .dataframe tbody tr th:only-of-type {\n",
       "        vertical-align: middle;\n",
       "    }\n",
       "\n",
       "    .dataframe tbody tr th {\n",
       "        vertical-align: top;\n",
       "    }\n",
       "\n",
       "    .dataframe thead th {\n",
       "        text-align: right;\n",
       "    }\n",
       "</style>\n",
       "<table border=\"1\" class=\"dataframe\">\n",
       "  <thead>\n",
       "    <tr style=\"text-align: right;\">\n",
       "      <th></th>\n",
       "      <th>trip_id</th>\n",
       "      <th>start_time</th>\n",
       "      <th>end_time</th>\n",
       "      <th>bikeid</th>\n",
       "      <th>tripduration</th>\n",
       "      <th>from_station_id</th>\n",
       "      <th>from_station_name</th>\n",
       "      <th>to_station_id</th>\n",
       "      <th>to_station_name</th>\n",
       "      <th>usertype</th>\n",
       "      <th>gender</th>\n",
       "      <th>birthyear</th>\n",
       "      <th>ride_length</th>\n",
       "      <th>day_of_week</th>\n",
       "    </tr>\n",
       "  </thead>\n",
       "  <tbody>\n",
       "    <tr>\n",
       "      <th>0</th>\n",
       "      <td>23479388</td>\n",
       "      <td>2019-07-01 00:00:27</td>\n",
       "      <td>2019-07-01 00:20:41</td>\n",
       "      <td>3591</td>\n",
       "      <td>1,214.0</td>\n",
       "      <td>117</td>\n",
       "      <td>Wilton Ave &amp; Belmont Ave</td>\n",
       "      <td>497</td>\n",
       "      <td>Kimball Ave &amp; Belmont Ave</td>\n",
       "      <td>Subscriber</td>\n",
       "      <td>Male</td>\n",
       "      <td>1992.000000</td>\n",
       "      <td>0 days 00:20:14</td>\n",
       "      <td>1</td>\n",
       "    </tr>\n",
       "    <tr>\n",
       "      <th>1</th>\n",
       "      <td>23479389</td>\n",
       "      <td>2019-07-01 00:01:16</td>\n",
       "      <td>2019-07-01 00:18:44</td>\n",
       "      <td>5353</td>\n",
       "      <td>1,048.0</td>\n",
       "      <td>381</td>\n",
       "      <td>Western Ave &amp; Monroe St</td>\n",
       "      <td>203</td>\n",
       "      <td>Western Ave &amp; 21st St</td>\n",
       "      <td>Customer</td>\n",
       "      <td>Male</td>\n",
       "      <td>1984.902996</td>\n",
       "      <td>0 days 00:17:28</td>\n",
       "      <td>1</td>\n",
       "    </tr>\n",
       "    <tr>\n",
       "      <th>2</th>\n",
       "      <td>23479390</td>\n",
       "      <td>2019-07-01 00:01:48</td>\n",
       "      <td>2019-07-01 00:27:42</td>\n",
       "      <td>6180</td>\n",
       "      <td>1,554.0</td>\n",
       "      <td>313</td>\n",
       "      <td>Lakeview Ave &amp; Fullerton Pkwy</td>\n",
       "      <td>144</td>\n",
       "      <td>Larrabee St &amp; Webster Ave</td>\n",
       "      <td>Customer</td>\n",
       "      <td>Male</td>\n",
       "      <td>1984.902996</td>\n",
       "      <td>0 days 00:25:54</td>\n",
       "      <td>1</td>\n",
       "    </tr>\n",
       "    <tr>\n",
       "      <th>3</th>\n",
       "      <td>23479391</td>\n",
       "      <td>2019-07-01 00:02:07</td>\n",
       "      <td>2019-07-01 00:27:10</td>\n",
       "      <td>5540</td>\n",
       "      <td>1,503.0</td>\n",
       "      <td>313</td>\n",
       "      <td>Lakeview Ave &amp; Fullerton Pkwy</td>\n",
       "      <td>144</td>\n",
       "      <td>Larrabee St &amp; Webster Ave</td>\n",
       "      <td>Customer</td>\n",
       "      <td>Male</td>\n",
       "      <td>1984.902996</td>\n",
       "      <td>0 days 00:25:03</td>\n",
       "      <td>1</td>\n",
       "    </tr>\n",
       "    <tr>\n",
       "      <th>4</th>\n",
       "      <td>23479392</td>\n",
       "      <td>2019-07-01 00:02:13</td>\n",
       "      <td>2019-07-01 00:22:26</td>\n",
       "      <td>6014</td>\n",
       "      <td>1,213.0</td>\n",
       "      <td>168</td>\n",
       "      <td>Michigan Ave &amp; 14th St</td>\n",
       "      <td>62</td>\n",
       "      <td>McCormick Place</td>\n",
       "      <td>Customer</td>\n",
       "      <td>Male</td>\n",
       "      <td>1984.902996</td>\n",
       "      <td>0 days 00:20:13</td>\n",
       "      <td>1</td>\n",
       "    </tr>\n",
       "  </tbody>\n",
       "</table>\n",
       "</div>"
      ],
      "text/plain": [
       "    trip_id          start_time            end_time  bikeid tripduration  \\\n",
       "0  23479388 2019-07-01 00:00:27 2019-07-01 00:20:41    3591      1,214.0   \n",
       "1  23479389 2019-07-01 00:01:16 2019-07-01 00:18:44    5353      1,048.0   \n",
       "2  23479390 2019-07-01 00:01:48 2019-07-01 00:27:42    6180      1,554.0   \n",
       "3  23479391 2019-07-01 00:02:07 2019-07-01 00:27:10    5540      1,503.0   \n",
       "4  23479392 2019-07-01 00:02:13 2019-07-01 00:22:26    6014      1,213.0   \n",
       "\n",
       "   from_station_id              from_station_name  to_station_id  \\\n",
       "0              117       Wilton Ave & Belmont Ave            497   \n",
       "1              381        Western Ave & Monroe St            203   \n",
       "2              313  Lakeview Ave & Fullerton Pkwy            144   \n",
       "3              313  Lakeview Ave & Fullerton Pkwy            144   \n",
       "4              168         Michigan Ave & 14th St             62   \n",
       "\n",
       "             to_station_name    usertype gender    birthyear     ride_length  \\\n",
       "0  Kimball Ave & Belmont Ave  Subscriber   Male  1992.000000 0 days 00:20:14   \n",
       "1      Western Ave & 21st St    Customer   Male  1984.902996 0 days 00:17:28   \n",
       "2  Larrabee St & Webster Ave    Customer   Male  1984.902996 0 days 00:25:54   \n",
       "3  Larrabee St & Webster Ave    Customer   Male  1984.902996 0 days 00:25:03   \n",
       "4            McCormick Place    Customer   Male  1984.902996 0 days 00:20:13   \n",
       "\n",
       "   day_of_week  \n",
       "0            1  \n",
       "1            1  \n",
       "2            1  \n",
       "3            1  \n",
       "4            1  "
      ]
     },
     "execution_count": 32,
     "metadata": {},
     "output_type": "execute_result"
    }
   ],
   "source": [
    "data_q3['gender'].fillna('Male', inplace=True)\n",
    "data_q3['birthyear'].fillna(data_q3['birthyear'].mean(), inplace=True)\n",
    "data_q3['start_time'] = pd.to_datetime(data_q3['start_time'])\n",
    "data_q3['end_time'] = pd.to_datetime(data_q3['end_time'])\n",
    "data_q3['ride_length'] = data_q3['end_time'] - data_q3['start_time']\n",
    "data_q3['day_of_week'] = data_q3['start_time'].dt.dayofweek + 1\n",
    "data_q3.head()"
   ]
  },
  {
   "cell_type": "code",
   "execution_count": 33,
   "metadata": {},
   "outputs": [
    {
     "data": {
      "text/plain": [
       "0"
      ]
     },
     "execution_count": 33,
     "metadata": {},
     "output_type": "execute_result"
    }
   ],
   "source": [
    "data_q3.duplicated().sum()"
   ]
  },
  {
   "cell_type": "code",
   "execution_count": 34,
   "metadata": {},
   "outputs": [
    {
     "data": {
      "text/plain": [
       "Male      486459\n",
       "Female    151004\n",
       "Name: gender, dtype: int64"
      ]
     },
     "execution_count": 34,
     "metadata": {},
     "output_type": "execute_result"
    }
   ],
   "source": [
    "data_q4[\"gender\"].value_counts()"
   ]
  },
  {
   "cell_type": "code",
   "execution_count": 41,
   "metadata": {},
   "outputs": [
    {
     "data": {
      "text/plain": [
       "trip_id              0\n",
       "start_time           0\n",
       "end_time             0\n",
       "bikeid               0\n",
       "tripduration         0\n",
       "from_station_id      0\n",
       "from_station_name    0\n",
       "to_station_id        0\n",
       "to_station_name      0\n",
       "usertype             0\n",
       "gender               0\n",
       "birthyear            0\n",
       "ride_length          0\n",
       "day_of_week          0\n",
       "dtype: int64"
      ]
     },
     "execution_count": 41,
     "metadata": {},
     "output_type": "execute_result"
    }
   ],
   "source": [
    "data_q4.isnull().sum()"
   ]
  },
  {
   "cell_type": "code",
   "execution_count": 35,
   "metadata": {
    "execution": {
     "iopub.execute_input": "2024-01-05T00:38:03.618260Z",
     "iopub.status.busy": "2024-01-05T00:38:03.617246Z",
     "iopub.status.idle": "2024-01-05T00:38:04.946610Z",
     "shell.execute_reply": "2024-01-05T00:38:04.945202Z",
     "shell.execute_reply.started": "2024-01-05T00:38:03.618219Z"
    }
   },
   "outputs": [
    {
     "data": {
      "text/html": [
       "<div>\n",
       "<style scoped>\n",
       "    .dataframe tbody tr th:only-of-type {\n",
       "        vertical-align: middle;\n",
       "    }\n",
       "\n",
       "    .dataframe tbody tr th {\n",
       "        vertical-align: top;\n",
       "    }\n",
       "\n",
       "    .dataframe thead th {\n",
       "        text-align: right;\n",
       "    }\n",
       "</style>\n",
       "<table border=\"1\" class=\"dataframe\">\n",
       "  <thead>\n",
       "    <tr style=\"text-align: right;\">\n",
       "      <th></th>\n",
       "      <th>trip_id</th>\n",
       "      <th>start_time</th>\n",
       "      <th>end_time</th>\n",
       "      <th>bikeid</th>\n",
       "      <th>tripduration</th>\n",
       "      <th>from_station_id</th>\n",
       "      <th>from_station_name</th>\n",
       "      <th>to_station_id</th>\n",
       "      <th>to_station_name</th>\n",
       "      <th>usertype</th>\n",
       "      <th>gender</th>\n",
       "      <th>birthyear</th>\n",
       "      <th>ride_length</th>\n",
       "      <th>day_of_week</th>\n",
       "    </tr>\n",
       "  </thead>\n",
       "  <tbody>\n",
       "    <tr>\n",
       "      <th>0</th>\n",
       "      <td>25223640</td>\n",
       "      <td>2019-10-01 00:01:39</td>\n",
       "      <td>2019-10-01 00:17:20</td>\n",
       "      <td>2215</td>\n",
       "      <td>940.0</td>\n",
       "      <td>20</td>\n",
       "      <td>Sheffield Ave &amp; Kingsbury St</td>\n",
       "      <td>309</td>\n",
       "      <td>Leavitt St &amp; Armitage Ave</td>\n",
       "      <td>Subscriber</td>\n",
       "      <td>Male</td>\n",
       "      <td>1987.0</td>\n",
       "      <td>0 days 00:15:41</td>\n",
       "      <td>2</td>\n",
       "    </tr>\n",
       "    <tr>\n",
       "      <th>1</th>\n",
       "      <td>25223641</td>\n",
       "      <td>2019-10-01 00:02:16</td>\n",
       "      <td>2019-10-01 00:06:34</td>\n",
       "      <td>6328</td>\n",
       "      <td>258.0</td>\n",
       "      <td>19</td>\n",
       "      <td>Throop (Loomis) St &amp; Taylor St</td>\n",
       "      <td>241</td>\n",
       "      <td>Morgan St &amp; Polk St</td>\n",
       "      <td>Subscriber</td>\n",
       "      <td>Male</td>\n",
       "      <td>1998.0</td>\n",
       "      <td>0 days 00:04:18</td>\n",
       "      <td>2</td>\n",
       "    </tr>\n",
       "    <tr>\n",
       "      <th>2</th>\n",
       "      <td>25223642</td>\n",
       "      <td>2019-10-01 00:04:32</td>\n",
       "      <td>2019-10-01 00:18:43</td>\n",
       "      <td>3003</td>\n",
       "      <td>850.0</td>\n",
       "      <td>84</td>\n",
       "      <td>Milwaukee Ave &amp; Grand Ave</td>\n",
       "      <td>199</td>\n",
       "      <td>Wabash Ave &amp; Grand Ave</td>\n",
       "      <td>Subscriber</td>\n",
       "      <td>Female</td>\n",
       "      <td>1991.0</td>\n",
       "      <td>0 days 00:14:11</td>\n",
       "      <td>2</td>\n",
       "    </tr>\n",
       "    <tr>\n",
       "      <th>3</th>\n",
       "      <td>25223643</td>\n",
       "      <td>2019-10-01 00:04:32</td>\n",
       "      <td>2019-10-01 00:43:43</td>\n",
       "      <td>3275</td>\n",
       "      <td>2,350.0</td>\n",
       "      <td>313</td>\n",
       "      <td>Lakeview Ave &amp; Fullerton Pkwy</td>\n",
       "      <td>290</td>\n",
       "      <td>Kedzie Ave &amp; Palmer Ct</td>\n",
       "      <td>Subscriber</td>\n",
       "      <td>Male</td>\n",
       "      <td>1990.0</td>\n",
       "      <td>0 days 00:39:11</td>\n",
       "      <td>2</td>\n",
       "    </tr>\n",
       "    <tr>\n",
       "      <th>4</th>\n",
       "      <td>25223644</td>\n",
       "      <td>2019-10-01 00:04:34</td>\n",
       "      <td>2019-10-01 00:35:42</td>\n",
       "      <td>5294</td>\n",
       "      <td>1,867.0</td>\n",
       "      <td>210</td>\n",
       "      <td>Ashland Ave &amp; Division St</td>\n",
       "      <td>382</td>\n",
       "      <td>Western Ave &amp; Congress Pkwy</td>\n",
       "      <td>Subscriber</td>\n",
       "      <td>Male</td>\n",
       "      <td>1987.0</td>\n",
       "      <td>0 days 00:31:08</td>\n",
       "      <td>2</td>\n",
       "    </tr>\n",
       "  </tbody>\n",
       "</table>\n",
       "</div>"
      ],
      "text/plain": [
       "    trip_id          start_time            end_time  bikeid tripduration  \\\n",
       "0  25223640 2019-10-01 00:01:39 2019-10-01 00:17:20    2215        940.0   \n",
       "1  25223641 2019-10-01 00:02:16 2019-10-01 00:06:34    6328        258.0   \n",
       "2  25223642 2019-10-01 00:04:32 2019-10-01 00:18:43    3003        850.0   \n",
       "3  25223643 2019-10-01 00:04:32 2019-10-01 00:43:43    3275      2,350.0   \n",
       "4  25223644 2019-10-01 00:04:34 2019-10-01 00:35:42    5294      1,867.0   \n",
       "\n",
       "   from_station_id               from_station_name  to_station_id  \\\n",
       "0               20    Sheffield Ave & Kingsbury St            309   \n",
       "1               19  Throop (Loomis) St & Taylor St            241   \n",
       "2               84       Milwaukee Ave & Grand Ave            199   \n",
       "3              313   Lakeview Ave & Fullerton Pkwy            290   \n",
       "4              210       Ashland Ave & Division St            382   \n",
       "\n",
       "               to_station_name    usertype  gender  birthyear     ride_length  \\\n",
       "0    Leavitt St & Armitage Ave  Subscriber    Male     1987.0 0 days 00:15:41   \n",
       "1          Morgan St & Polk St  Subscriber    Male     1998.0 0 days 00:04:18   \n",
       "2       Wabash Ave & Grand Ave  Subscriber  Female     1991.0 0 days 00:14:11   \n",
       "3       Kedzie Ave & Palmer Ct  Subscriber    Male     1990.0 0 days 00:39:11   \n",
       "4  Western Ave & Congress Pkwy  Subscriber    Male     1987.0 0 days 00:31:08   \n",
       "\n",
       "   day_of_week  \n",
       "0            2  \n",
       "1            2  \n",
       "2            2  \n",
       "3            2  \n",
       "4            2  "
      ]
     },
     "execution_count": 35,
     "metadata": {},
     "output_type": "execute_result"
    }
   ],
   "source": [
    "data_q4['gender'].fillna('Male', inplace=True)\n",
    "data_q4['birthyear'].fillna(data_q4['birthyear'].mean(), inplace=True)\n",
    "data_q4.duplicated().sum()\n",
    "data_q4['start_time'] = pd.to_datetime(data_q4['start_time'])\n",
    "data_q4['end_time'] = pd.to_datetime(data_q4['end_time'])\n",
    "data_q4['ride_length'] = data_q4['end_time'] - data_q4['start_time']\n",
    "data_q4['day_of_week'] = data_q4['start_time'].dt.dayofweek + 1\n",
    "data_q4.head()"
   ]
  },
  {
   "cell_type": "code",
   "execution_count": 42,
   "metadata": {},
   "outputs": [
    {
     "name": "stdout",
     "output_type": "stream",
     "text": [
      "<class 'pandas.core.frame.DataFrame'>\n",
      "RangeIndex: 704054 entries, 0 to 704053\n",
      "Data columns (total 14 columns):\n",
      " #   Column             Non-Null Count   Dtype          \n",
      "---  ------             --------------   -----          \n",
      " 0   trip_id            704054 non-null  int64          \n",
      " 1   start_time         704054 non-null  datetime64[ns] \n",
      " 2   end_time           704054 non-null  datetime64[ns] \n",
      " 3   bikeid             704054 non-null  int64          \n",
      " 4   tripduration       704054 non-null  object         \n",
      " 5   from_station_id    704054 non-null  int64          \n",
      " 6   from_station_name  704054 non-null  object         \n",
      " 7   to_station_id      704054 non-null  int64          \n",
      " 8   to_station_name    704054 non-null  object         \n",
      " 9   usertype           704054 non-null  object         \n",
      " 10  gender             704054 non-null  object         \n",
      " 11  birthyear          704054 non-null  float64        \n",
      " 12  ride_length        704054 non-null  timedelta64[ns]\n",
      " 13  day_of_week        704054 non-null  int64          \n",
      "dtypes: datetime64[ns](2), float64(1), int64(5), object(5), timedelta64[ns](1)\n",
      "memory usage: 75.2+ MB\n"
     ]
    }
   ],
   "source": [
    "data_q4.info()"
   ]
  },
  {
   "cell_type": "code",
   "execution_count": 47,
   "metadata": {
    "execution": {
     "iopub.execute_input": "2024-01-05T00:50:22.936251Z",
     "iopub.status.busy": "2024-01-05T00:50:22.935905Z",
     "iopub.status.idle": "2024-01-05T00:51:24.335162Z",
     "shell.execute_reply": "2024-01-05T00:51:24.333866Z",
     "shell.execute_reply.started": "2024-01-05T00:50:22.936223Z"
    }
   },
   "outputs": [],
   "source": [
    "data_q1.to_csv('data_q1_editado.csv', index=False)\n",
    "data_q2.to_csv('data_q2_editado.csv', index=False)\n",
    "data_q3.to_csv('data_q3_editado.csv', index=False)\n",
    "data_q4.to_csv('data_q4_editado.csv', index=False)"
   ]
  }
 ],
 "metadata": {
  "kaggle": {
   "accelerator": "none",
   "dataSources": [
    {
     "datasetId": 4261708,
     "sourceId": 7340211,
     "sourceType": "datasetVersion"
    }
   ],
   "dockerImageVersionId": 30626,
   "isGpuEnabled": false,
   "isInternetEnabled": true,
   "language": "python",
   "sourceType": "notebook"
  },
  "kernelspec": {
   "display_name": "Python 3",
   "language": "python",
   "name": "python3"
  },
  "language_info": {
   "codemirror_mode": {
    "name": "ipython",
    "version": 3
   },
   "file_extension": ".py",
   "mimetype": "text/x-python",
   "name": "python",
   "nbconvert_exporter": "python",
   "pygments_lexer": "ipython3",
   "version": "3.8.8"
  }
 },
 "nbformat": 4,
 "nbformat_minor": 4
}
