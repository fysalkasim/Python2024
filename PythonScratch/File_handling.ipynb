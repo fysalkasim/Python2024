{
 "cells": [
  {
   "cell_type": "code",
   "execution_count": 36,
   "metadata": {},
   "outputs": [],
   "source": [
    "thisfile = open(\"C:/Users/CHROMIUM/Desktop/DATA SCIENCE/Python2024/PythonScratch/Python.txt\",\"rb\")"
   ]
  },
  {
   "cell_type": "code",
   "execution_count": 37,
   "metadata": {},
   "outputs": [
    {
     "name": "stdout",
     "output_type": "stream",
     "text": [
      "Python is powerfull language\n",
      "\n",
      "Python have string,integers,boolean,float and more\n"
     ]
    }
   ],
   "source": [
    "for i in thisfile:\n",
    "    print(i)"
   ]
  },
  {
   "cell_type": "code",
   "execution_count": 38,
   "metadata": {},
   "outputs": [],
   "source": [
    "thisfile.close()"
   ]
  },
  {
   "cell_type": "code",
   "execution_count": 41,
   "metadata": {},
   "outputs": [
    {
     "name": "stdout",
     "output_type": "stream",
     "text": [
      "Python is powerfull language\n",
      "Python have string,integers,boolean,float and\n"
     ]
    }
   ],
   "source": [
    "with open(r\"C:\\Users\\CHROMIUM\\Desktop\\DATA SCIENCE\\Python2024\\PythonScratch\\Python.txt\",\"r\") as f:\n",
    "    content = f.read()\n",
    "    print(content)\n"
   ]
  },
  {
   "cell_type": "code",
   "execution_count": 46,
   "metadata": {},
   "outputs": [
    {
     "name": "stdout",
     "output_type": "stream",
     "text": [
      "Python is the modern day language. It makes things so simple.\n",
      "It is the fastest-growing programing languagePython is the modern day language. It makes things so simple.\n",
      "It is the fastest-growing programing language\n"
     ]
    }
   ],
   "source": [
    "f=open(r\"C:\\Users\\CHROMIUM\\Desktop\\DATA SCIENCE\\Python2024\\PythonScratch\\Python.txt\",\"r\")  \n",
    "content = f.read()\n",
    "print(content)"
   ]
  },
  {
   "cell_type": "code",
   "execution_count": 55,
   "metadata": {},
   "outputs": [
    {
     "ename": "FileExistsError",
     "evalue": "[Errno 17] File exists: 'C:\\\\Users\\\\CHROMIUM\\\\Desktop\\\\DATA SCIENCE\\\\Python2024\\\\PythonScratch\\\\Pytho1n.txt'",
     "output_type": "error",
     "traceback": [
      "\u001b[1;31m---------------------------------------------------------------------------\u001b[0m",
      "\u001b[1;31mFileExistsError\u001b[0m                           Traceback (most recent call last)",
      "Cell \u001b[1;32mIn[55], line 1\u001b[0m\n\u001b[1;32m----> 1\u001b[0m fileptr \u001b[38;5;241m=\u001b[39m \u001b[38;5;28;43mopen\u001b[39;49m\u001b[43m(\u001b[49m\u001b[38;5;124;43mr\u001b[39;49m\u001b[38;5;124;43m\"\u001b[39;49m\u001b[38;5;124;43mC:\u001b[39;49m\u001b[38;5;124;43m\\\u001b[39;49m\u001b[38;5;124;43mUsers\u001b[39;49m\u001b[38;5;124;43m\\\u001b[39;49m\u001b[38;5;124;43mCHROMIUM\u001b[39;49m\u001b[38;5;124;43m\\\u001b[39;49m\u001b[38;5;124;43mDesktop\u001b[39;49m\u001b[38;5;124;43m\\\u001b[39;49m\u001b[38;5;124;43mDATA SCIENCE\u001b[39;49m\u001b[38;5;124;43m\\\u001b[39;49m\u001b[38;5;124;43mPython2024\u001b[39;49m\u001b[38;5;124;43m\\\u001b[39;49m\u001b[38;5;124;43mPythonScratch\u001b[39;49m\u001b[38;5;124;43m\\\u001b[39;49m\u001b[38;5;124;43mPytho1n.txt\u001b[39;49m\u001b[38;5;124;43m\"\u001b[39;49m\u001b[43m,\u001b[49m\u001b[38;5;124;43m\"\u001b[39;49m\u001b[38;5;124;43mx\u001b[39;49m\u001b[38;5;124;43m\"\u001b[39;49m\u001b[43m)\u001b[49m\n\u001b[0;32m      2\u001b[0m \u001b[38;5;28mprint\u001b[39m(fileptr)\n\u001b[0;32m      3\u001b[0m \u001b[38;5;28;01mif\u001b[39;00m fileptr:\n",
      "File \u001b[1;32m~\\AppData\\Roaming\\Python\\Python311\\site-packages\\IPython\\core\\interactiveshell.py:310\u001b[0m, in \u001b[0;36m_modified_open\u001b[1;34m(file, *args, **kwargs)\u001b[0m\n\u001b[0;32m    303\u001b[0m \u001b[38;5;28;01mif\u001b[39;00m file \u001b[38;5;129;01min\u001b[39;00m {\u001b[38;5;241m0\u001b[39m, \u001b[38;5;241m1\u001b[39m, \u001b[38;5;241m2\u001b[39m}:\n\u001b[0;32m    304\u001b[0m     \u001b[38;5;28;01mraise\u001b[39;00m \u001b[38;5;167;01mValueError\u001b[39;00m(\n\u001b[0;32m    305\u001b[0m         \u001b[38;5;124mf\u001b[39m\u001b[38;5;124m\"\u001b[39m\u001b[38;5;124mIPython won\u001b[39m\u001b[38;5;124m'\u001b[39m\u001b[38;5;124mt let you open fd=\u001b[39m\u001b[38;5;132;01m{\u001b[39;00mfile\u001b[38;5;132;01m}\u001b[39;00m\u001b[38;5;124m by default \u001b[39m\u001b[38;5;124m\"\u001b[39m\n\u001b[0;32m    306\u001b[0m         \u001b[38;5;124m\"\u001b[39m\u001b[38;5;124mas it is likely to crash IPython. If you know what you are doing, \u001b[39m\u001b[38;5;124m\"\u001b[39m\n\u001b[0;32m    307\u001b[0m         \u001b[38;5;124m\"\u001b[39m\u001b[38;5;124myou can use builtins\u001b[39m\u001b[38;5;124m'\u001b[39m\u001b[38;5;124m open.\u001b[39m\u001b[38;5;124m\"\u001b[39m\n\u001b[0;32m    308\u001b[0m     )\n\u001b[1;32m--> 310\u001b[0m \u001b[38;5;28;01mreturn\u001b[39;00m \u001b[43mio_open\u001b[49m\u001b[43m(\u001b[49m\u001b[43mfile\u001b[49m\u001b[43m,\u001b[49m\u001b[43m \u001b[49m\u001b[38;5;241;43m*\u001b[39;49m\u001b[43margs\u001b[49m\u001b[43m,\u001b[49m\u001b[43m \u001b[49m\u001b[38;5;241;43m*\u001b[39;49m\u001b[38;5;241;43m*\u001b[39;49m\u001b[43mkwargs\u001b[49m\u001b[43m)\u001b[49m\n",
      "\u001b[1;31mFileExistsError\u001b[0m: [Errno 17] File exists: 'C:\\\\Users\\\\CHROMIUM\\\\Desktop\\\\DATA SCIENCE\\\\Python2024\\\\PythonScratch\\\\Pytho1n.txt'"
     ]
    }
   ],
   "source": [
    "fileptr = open(r\"C:\\Users\\CHROMIUM\\Desktop\\DATA SCIENCE\\Python2024\\PythonScratch\\Pytho1n.txt\",\"x\")\n",
    "print(fileptr)\n",
    "if fileptr:\n",
    "    print(\"File created successfully\")"
   ]
  },
  {
   "cell_type": "code",
   "execution_count": 56,
   "metadata": {},
   "outputs": [
    {
     "name": "stdout",
     "output_type": "stream",
     "text": [
      "The filepointer is at byte : 0\n",
      "After reading, the filepointer is at: 216\n"
     ]
    }
   ],
   "source": [
    "fileptr = open(r\"C:\\Users\\CHROMIUM\\Desktop\\DATA SCIENCE\\Python2024\\PythonScratch\\Python.txt\",\"r\")\n",
    "#initially the filepointer is at 0\n",
    "print(\"The filepointer is at byte :\",fileptr.tell())\n",
    "#reading the content of the file\n",
    "content = fileptr.read()\n",
    "#after the read operation file pointer modifies. tell() returns the\n",
    " \n",
    "print(\"After reading, the filepointer is at:\",fileptr.tell())\n"
   ]
  },
  {
   "cell_type": "code",
   "execution_count": 45,
   "metadata": {},
   "outputs": [],
   "source": [
    "fileptr = open(r\"C:\\Users\\CHROMIUM\\Desktop\\DATA SCIENCE\\Python2024\\PythonScratch\\Python.txt\", \"a\")\n",
    "# overwriting the content to the file\n",
    "fileptr.write('''Python is the modern day language. It makes things so simple.\n",
    "It is the fastest-growing programing language''')\n",
    "# closing the opened the file\n",
    "fileptr.close()"
   ]
  }
 ],
 "metadata": {
  "kernelspec": {
   "display_name": "base",
   "language": "python",
   "name": "python3"
  },
  "language_info": {
   "codemirror_mode": {
    "name": "ipython",
    "version": 3
   },
   "file_extension": ".py",
   "mimetype": "text/x-python",
   "name": "python",
   "nbconvert_exporter": "python",
   "pygments_lexer": "ipython3",
   "version": "3.11.7"
  }
 },
 "nbformat": 4,
 "nbformat_minor": 2
}
