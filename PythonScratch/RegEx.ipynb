{
 "cells": [
  {
   "cell_type": "code",
   "execution_count": 1,
   "metadata": {},
   "outputs": [],
   "source": [
    "import re"
   ]
  },
  {
   "cell_type": "code",
   "execution_count": 7,
   "metadata": {},
   "outputs": [
    {
     "name": "stdout",
     "output_type": "stream",
     "text": [
      "['i', 'i', 'i']\n"
     ]
    },
    {
     "data": {
      "text/plain": [
       "3"
      ]
     },
     "execution_count": 7,
     "metadata": {},
     "output_type": "execute_result"
    }
   ],
   "source": [
    "txt = \"The rain in Spain\"\n",
    "x = re.findall(\"i\",txt)\n",
    "print(x)\n",
    "len(x)"
   ]
  },
  {
   "cell_type": "code",
   "execution_count": 22,
   "metadata": {},
   "outputs": [
    {
     "name": "stdout",
     "output_type": "stream",
     "text": [
      "3\n",
      "4\n"
     ]
    }
   ],
   "source": [
    "txt = \"The rain in Spain\"\n",
    "x= re.search(\"\\s\",txt)\n",
    "print(x.start())\n",
    "print(x.end())"
   ]
  },
  {
   "cell_type": "code",
   "execution_count": 28,
   "metadata": {},
   "outputs": [
    {
     "name": "stdout",
     "output_type": "stream",
     "text": [
      "['The', 'rain', 'in', 'Spain']\n"
     ]
    }
   ],
   "source": [
    "x = re.split(\"\\s\", txt)\n",
    "print(x)"
   ]
  },
  {
   "cell_type": "code",
   "execution_count": 29,
   "metadata": {},
   "outputs": [
    {
     "name": "stdout",
     "output_type": "stream",
     "text": [
      "The_rain_in_Spain\n"
     ]
    }
   ],
   "source": [
    "x = re.sub(\"\\s\",\"_\",txt)\n",
    "print(x)"
   ]
  },
  {
   "cell_type": "code",
   "execution_count": 30,
   "metadata": {},
   "outputs": [
    {
     "name": "stdout",
     "output_type": "stream",
     "text": [
      "['e', 'a', 'a']\n"
     ]
    }
   ],
   "source": [
    "x = re.findall(\"[a-g]\",txt)\n",
    "print(x)"
   ]
  },
  {
   "cell_type": "code",
   "execution_count": 50,
   "metadata": {},
   "outputs": [
    {
     "name": "stdout",
     "output_type": "stream",
     "text": [
      "['h', 'e', 'r', 'a', 'i', 'n', 'i', 'n', 'p', 'a', 'i', 'n', 'r', 'a', 'n', 'n']\n"
     ]
    }
   ],
   "source": [
    "txt = \"The rain in Spain,rann\"\n",
    "x =re.findall(\"[a-z]\",txt)\n",
    "print(x)"
   ]
  },
  {
   "cell_type": "code",
   "execution_count": 51,
   "metadata": {},
   "outputs": [],
   "source": [
    "x = re.findall(\"r...\",txt)"
   ]
  },
  {
   "cell_type": "code",
   "execution_count": 52,
   "metadata": {},
   "outputs": [
    {
     "name": "stdout",
     "output_type": "stream",
     "text": [
      "['rain', 'rann']\n"
     ]
    }
   ],
   "source": [
    "print(x)"
   ]
  },
  {
   "cell_type": "code",
   "execution_count": 69,
   "metadata": {},
   "outputs": [
    {
     "name": "stdout",
     "output_type": "stream",
     "text": [
      "['Spai']\n"
     ]
    }
   ],
   "source": [
    "txt = \"The rain in Spain,rann\"\n",
    "x =re.findall(\"Sp..\",txt)\n",
    "print(x)"
   ]
  },
  {
   "cell_type": "code",
   "execution_count": 71,
   "metadata": {},
   "outputs": [
    {
     "name": "stdout",
     "output_type": "stream",
     "text": [
      "['Th']\n"
     ]
    }
   ],
   "source": [
    "txt = \"The rain in Spain,rann\"\n",
    "x =re.findall(\"^Th\",txt)\n",
    "print(x)"
   ]
  },
  {
   "cell_type": "code",
   "execution_count": 74,
   "metadata": {},
   "outputs": [
    {
     "name": "stdout",
     "output_type": "stream",
     "text": [
      "['rann']\n"
     ]
    }
   ],
   "source": [
    "txt = \"The rain in Spain,rann\"\n",
    "x =re.findall(\"rann$\",txt)\n",
    "print(x)"
   ]
  },
  {
   "cell_type": "code",
   "execution_count": 2,
   "metadata": {},
   "outputs": [],
   "source": [
    "import re"
   ]
  },
  {
   "cell_type": "code",
   "execution_count": 7,
   "metadata": {},
   "outputs": [
    {
     "name": "stdout",
     "output_type": "stream",
     "text": [
      "['qcedfdf']\n"
     ]
    }
   ],
   "source": [
    "txt = \"The rain inj qcedfdf\"\n",
    "x =re.findall(\"q.*\",txt)\n",
    "print(x)"
   ]
  },
  {
   "cell_type": "code",
   "execution_count": 12,
   "metadata": {},
   "outputs": [
    {
     "name": "stdout",
     "output_type": "stream",
     "text": [
      "['qcedfdf']\n"
     ]
    }
   ],
   "source": [
    "txt = \"The rain inj qcedfdf\"\n",
    "x =re.findall(\"q.{6}\",txt)\n",
    "print(x)"
   ]
  },
  {
   "cell_type": "code",
   "execution_count": 13,
   "metadata": {},
   "outputs": [
    {
     "name": "stdout",
     "output_type": "stream",
     "text": [
      "['falls']\n"
     ]
    }
   ],
   "source": [
    "txt = \"The rain in Spain falls mainly in the plain!\"\n",
    "#Check if the string contains either \"falls\" or \"stays\":\n",
    "x = re.findall(\"falls|stays\", txt)\n",
    "print(x)"
   ]
  },
  {
   "cell_type": "code",
   "execution_count": 15,
   "metadata": {},
   "outputs": [
    {
     "name": "stdout",
     "output_type": "stream",
     "text": [
      "['r', 'n', 'n', 'n']\n"
     ]
    }
   ],
   "source": [
    "txt = \"The rain in Spain\"\n",
    "#Check if the string has any a, r, or n characters:\n",
    "x = re.findall(\"[rn]\", txt)\n",
    "print(x)"
   ]
  },
  {
   "cell_type": "code",
   "execution_count": 17,
   "metadata": {},
   "outputs": [
    {
     "name": "stdout",
     "output_type": "stream",
     "text": [
      "['T', 'h', 'e', ' ', 'a', 'i', ' ', 'i', ' ', 'S', 'p', 'a', 'i']\n"
     ]
    }
   ],
   "source": [
    "txt = \"The rain in Spain\"\n",
    "#Check if the string has other characters than a, r, or n:\n",
    "x = re.findall(\"[^rn]\", txt)\n",
    "print(x)"
   ]
  },
  {
   "cell_type": "code",
   "execution_count": 18,
   "metadata": {},
   "outputs": [
    {
     "name": "stdout",
     "output_type": "stream",
     "text": [
      "[]\n",
      "No match\n"
     ]
    }
   ],
   "source": [
    "x = re.findall(\"[0123]\", txt)\n",
    "print(x)\n",
    "if x:\n",
    "  print(\"Yes, there is at least one match!\")\n",
    "else:\n",
    "  print(\"No match\")"
   ]
  },
  {
   "cell_type": "code",
   "execution_count": 25,
   "metadata": {},
   "outputs": [
    {
     "name": "stdout",
     "output_type": "stream",
     "text": [
      "['8']\n"
     ]
    }
   ],
   "source": [
    "txt = \"8 times before 11:45 AM\"\n",
    "#Check if the string has any digits:\n",
    "x = re.findall(\"[8-9]\", txt)\n",
    "print(x)"
   ]
  },
  {
   "cell_type": "code",
   "execution_count": 26,
   "metadata": {},
   "outputs": [
    {
     "name": "stdout",
     "output_type": "stream",
     "text": [
      "['11', '45']\n"
     ]
    }
   ],
   "source": [
    "txt = \"8 times before 11:45 AM\"\n",
    "#Check if the string has any digits:\n",
    "x = re.findall(\"[0-9][0-9]\", txt)\n",
    "print(x)"
   ]
  },
  {
   "cell_type": "code",
   "execution_count": 27,
   "metadata": {},
   "outputs": [
    {
     "name": "stdout",
     "output_type": "stream",
     "text": [
      "['t', 'i', 'm', 'e', 's', 'b', 'e', 'f', 'o', 'r', 'e', 'A', 'M']\n"
     ]
    }
   ],
   "source": [
    "txt = \"8 times before 11:45 AM\"\n",
    "#Check if the string has any digits:\n",
    "x = re.findall(\"[a-zA-Z]\", txt)\n",
    "print(x)"
   ]
  },
  {
   "cell_type": "code",
   "execution_count": null,
   "metadata": {},
   "outputs": [],
   "source": []
  }
 ],
 "metadata": {
  "kernelspec": {
   "display_name": "base",
   "language": "python",
   "name": "python3"
  },
  "language_info": {
   "codemirror_mode": {
    "name": "ipython",
    "version": 3
   },
   "file_extension": ".py",
   "mimetype": "text/x-python",
   "name": "python",
   "nbconvert_exporter": "python",
   "pygments_lexer": "ipython3",
   "version": "3.11.7"
  }
 },
 "nbformat": 4,
 "nbformat_minor": 2
}
