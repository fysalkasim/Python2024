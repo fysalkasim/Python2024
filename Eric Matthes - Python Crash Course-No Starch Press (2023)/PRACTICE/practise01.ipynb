{
 "cells": [
  {
   "cell_type": "code",
   "execution_count": 5,
   "metadata": {},
   "outputs": [],
   "source": [
    "current_users = [\"Fysal\",\"Abin\",\"Mubashira\",\"Gokul\",\"Admin\"]\n",
    "current_users_lower = [user.lower() for user in current_users]"
   ]
  },
  {
   "cell_type": "code",
   "execution_count": 6,
   "metadata": {},
   "outputs": [
    {
     "ename": "IndentationError",
     "evalue": "expected an indented block after 'while' statement on line 2 (1639930913.py, line 3)",
     "output_type": "error",
     "traceback": [
      "\u001b[1;36m  Cell \u001b[1;32mIn[6], line 3\u001b[1;36m\u001b[0m\n\u001b[1;33m    new = input(\"Enter the user name\")\u001b[0m\n\u001b[1;37m    ^\u001b[0m\n\u001b[1;31mIndentationError\u001b[0m\u001b[1;31m:\u001b[0m expected an indented block after 'while' statement on line 2\n"
     ]
    }
   ],
   "source": [
    "new_users = []\n",
    "while True:\n",
    "    id = str(input(\"Enter the user name\"))\n",
    "    if id.lower() in current_users_lower:\n",
    "        str(input(\"Enter the password\"))\n",
    "        print(\"thank you for login\")\n",
    "        break\n",
    "    elif print(\"You have to sign up\")\n",
    "        new_users.append(id)\n",
    "        break\n",
    "    else:\n",
    "        \n",
    "\n",
    "\n",
    "\n",
    "    "
   ]
  },
  {
   "cell_type": "code",
   "execution_count": null,
   "metadata": {},
   "outputs": [],
   "source": [
    "i = 0\n",
    "while True:\n",
    "    int(input(\"Enter the num\"))\n",
    "    "
   ]
  }
 ],
 "metadata": {
  "kernelspec": {
   "display_name": "base",
   "language": "python",
   "name": "python3"
  },
  "language_info": {
   "codemirror_mode": {
    "name": "ipython",
    "version": 3
   },
   "file_extension": ".py",
   "mimetype": "text/x-python",
   "name": "python",
   "nbconvert_exporter": "python",
   "pygments_lexer": "ipython3",
   "version": "3.11.7"
  }
 },
 "nbformat": 4,
 "nbformat_minor": 2
}
