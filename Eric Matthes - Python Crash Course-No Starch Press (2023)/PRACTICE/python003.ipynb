{
 "cells": [
  {
   "cell_type": "code",
   "execution_count": 15,
   "metadata": {},
   "outputs": [
    {
     "name": "stdout",
     "output_type": "stream",
     "text": [
      "The even numbers are:\n",
      "2,4,6,8,10,\n",
      "The odd numbers are\n",
      "1,3,5,7,9,"
     ]
    }
   ],
   "source": [
    "numbers = [1,2,3,4,5,6,7,8,9,10]\n",
    "even = []\n",
    "odd = []\n",
    "for i in numbers:\n",
    "    if i % 2 == 0:\n",
    "        even.append(i)\n",
    "    else:\n",
    "        odd.append(i)\n",
    "print(\"The even numbers are:\")\n",
    "for i in even:\n",
    "    print(i,end=',')\n",
    "print(\"\\nThe odd numbers are\")\n",
    "for i in odd:\n",
    "    print(i,end=',')"
   ]
  },
  {
   "cell_type": "code",
   "execution_count": 9,
   "metadata": {},
   "outputs": [
    {
     "name": "stdout",
     "output_type": "stream",
     "text": [
      "5 even numbers and 5 odd numbers\n"
     ]
    }
   ],
   "source": [
    "thislist = [1,2,3,4,5,6,7,8,9,10]\n",
    "count_of_odd = 0\n",
    "count_of_even = 0\n",
    "for i in thislist:\n",
    "    if i % 2 == 0:\n",
    "        count_of_even += 1\n",
    "    else:\n",
    "        count_of_odd += 1\n",
    "print(count_of_even,\"even numbers\",\"and\",count_of_odd,\"odd numbers\")\n"
   ]
  },
  {
   "cell_type": "code",
   "execution_count": 21,
   "metadata": {},
   "outputs": [],
   "source": [
    "register = [\"Antony\",\"Abhijith\",\"Alan\",\"Suhail\",\"Amal\",\"Sara\",\"Sachin\",\"Krishna\"]\n",
    "present = [\"Antony\",\"alan\",\"amal\",\"sachin\",\"Krishna\"]"
   ]
  },
  {
   "cell_type": "code",
   "execution_count": 22,
   "metadata": {},
   "outputs": [
    {
     "data": {
      "text/plain": [
       "['antony', 'abhijith', 'alan', 'suhail', 'amal', 'sara', 'sachin', 'krishna']"
      ]
     },
     "execution_count": 22,
     "metadata": {},
     "output_type": "execute_result"
    }
   ],
   "source": [
    "register2 = [i.lower() for i in register]\n",
    "register2"
   ]
  },
  {
   "cell_type": "code",
   "execution_count": 23,
   "metadata": {},
   "outputs": [
    {
     "name": "stdout",
     "output_type": "stream",
     "text": [
      "Antony is present in the class\n",
      "alan is present in the class\n",
      "amal is present in the class\n",
      "sachin is present in the class\n",
      "Krishna is present in the class\n",
      "abhijith is abscent today\n",
      "suhail is abscent today\n",
      "sara is abscent today\n",
      "Out of the 8 students 5 students are present today\n"
     ]
    }
   ],
   "source": [
    "for i in present:\n",
    "    if i.lower() in register2:\n",
    "        register2.remove(i.lower())\n",
    "        print(f\"{i} is present in the class\")\n",
    "for i in register2:\n",
    "    print(f\"{i} is abscent today\")\n",
    "\n",
    "print(f\"Out of the {len(register)} students {len(present)} students are present today\")\n",
    "        "
   ]
  },
  {
   "cell_type": "code",
   "execution_count": 52,
   "metadata": {},
   "outputs": [
    {
     "name": "stdout",
     "output_type": "stream",
     "text": [
      "0\n",
      "1 4 9 16 25 "
     ]
    }
   ],
   "source": [
    "thislist = [1,2,3,4,5]\n",
    "squares = []\n",
    "print(len(squares))\n",
    "for i in thislist:\n",
    "        squares.append(i**2)\n",
    "for i in squares:\n",
    "        print(i, end=' ')"
   ]
  },
  {
   "cell_type": "code",
   "execution_count": 57,
   "metadata": {},
   "outputs": [
    {
     "name": "stdout",
     "output_type": "stream",
     "text": [
      "1\n",
      "2\n",
      "3\n",
      "4\n",
      "5\n",
      "6\n",
      "7\n",
      "8\n",
      "9\n",
      "10\n",
      "11\n",
      "12\n",
      "13\n",
      "14\n",
      "15\n",
      "16\n",
      "17\n",
      "18\n",
      "19\n",
      "20\n",
      "21\n",
      "22\n",
      "23\n",
      "24\n",
      "25\n",
      "26\n",
      "27\n",
      "28\n",
      "29\n",
      "30\n",
      "31\n",
      "32\n",
      "33\n",
      "34\n",
      "35\n",
      "36\n",
      "37\n",
      "38\n",
      "39\n",
      "40\n",
      "41\n",
      "42\n",
      "43\n",
      "44\n",
      "45\n",
      "46\n",
      "47\n",
      "48\n",
      "49\n"
     ]
    }
   ],
   "source": [
    "thislist = range(1,50)\n",
    "for i in thislist:\n",
    "    print(i)"
   ]
  },
  {
   "cell_type": "code",
   "execution_count": 61,
   "metadata": {},
   "outputs": [
    {
     "data": {
      "text/plain": [
       "list"
      ]
     },
     "execution_count": 61,
     "metadata": {},
     "output_type": "execute_result"
    }
   ],
   "source": [
    "thislist = list(range(1,50))\n",
    "type(thislist)"
   ]
  },
  {
   "cell_type": "code",
   "execution_count": 64,
   "metadata": {},
   "outputs": [],
   "source": [
    "squares_50 = [i**2 for i in range(1,51)]"
   ]
  },
  {
   "cell_type": "code",
   "execution_count": 63,
   "metadata": {},
   "outputs": [
    {
     "name": "stdout",
     "output_type": "stream",
     "text": [
      "[1, 4, 9, 16, 25, 36, 49, 64, 81, 100, 121, 144, 169, 196, 225, 256, 289, 324, 361, 400, 441, 484, 529, 576, 625, 676, 729, 784, 841, 900, 961, 1024, 1089, 1156, 1225, 1296, 1369, 1444, 1521, 1600, 1681, 1764, 1849, 1936, 2025, 2116, 2209, 2304, 2401]\n"
     ]
    }
   ],
   "source": [
    "print(squares_50)"
   ]
  },
  {
   "cell_type": "code",
   "execution_count": 1,
   "metadata": {},
   "outputs": [
    {
     "name": "stdout",
     "output_type": "stream",
     "text": [
      "Cold climate\n"
     ]
    }
   ],
   "source": [
    "temperature = int(input(\"Enter the temperature:\"))\n",
    "\n",
    "if temperature >= 30:\n",
    "    print(\"Hot climate\")\n",
    "elif 15 < temperature < 30:\n",
    "    print(\"Moderate climate\")\n",
    "elif temperature <= 15:\n",
    "    print(\"Cold climate\")\n",
    "else:\n",
    "    print(\"\")"
   ]
  },
  {
   "cell_type": "code",
   "execution_count": 10,
   "metadata": {},
   "outputs": [
    {
     "name": "stdout",
     "output_type": "stream",
     "text": [
      "the even numbers are [6, 68, 8, 2]\n",
      " the multiple of threes' are [6, 3, 9, 33]\n",
      " multiple of fours' are[68, 8]\n",
      " multiple of sixs' are[6]\n"
     ]
    }
   ],
   "source": [
    "thatlist = [1,5,6,3,85,9,35,33,68,25,8,2,7]\n",
    "even_numbers = []\n",
    "multiple_of_3 = []\n",
    "multiple_of_4 = []\n",
    "multiple_of_6 = []\n",
    "for i in thatlist:\n",
    "    if i % 2 == 0:\n",
    "       even_numbers.append(i)\n",
    "    if i % 6 == 0:\n",
    "        multiple_of_6.append(i)\n",
    "    if i % 4 == 0:\n",
    "        multiple_of_4.append(i) \n",
    "    if i % 3 == 0:\n",
    "        multiple_of_3.append(i)\n",
    "       \n",
    "print(f\"the even numbers are {even_numbers}\\n the multiple of threes' are {multiple_of_3}\\n multiple of fours' are{multiple_of_4}\\n multiple of sixs' are{multiple_of_6}\")"
   ]
  },
  {
   "cell_type": "code",
   "execution_count": 35,
   "metadata": {},
   "outputs": [],
   "source": [
    "name = input(\"Enter the name: \")"
   ]
  },
  {
   "cell_type": "code",
   "execution_count": 41,
   "metadata": {},
   "outputs": [
    {
     "data": {
      "text/plain": [
       "str"
      ]
     },
     "execution_count": 41,
     "metadata": {},
     "output_type": "execute_result"
    }
   ],
   "source": [
    "name\n",
    "type(name)"
   ]
  },
  {
   "cell_type": "code",
   "execution_count": 50,
   "metadata": {},
   "outputs": [],
   "source": [
    "age = bool(int(input(\"Enter the age: \")))"
   ]
  },
  {
   "cell_type": "code",
   "execution_count": 51,
   "metadata": {},
   "outputs": [
    {
     "data": {
      "text/plain": [
       "False"
      ]
     },
     "execution_count": 51,
     "metadata": {},
     "output_type": "execute_result"
    }
   ],
   "source": [
    "age"
   ]
  },
  {
   "cell_type": "code",
   "execution_count": 52,
   "metadata": {},
   "outputs": [
    {
     "data": {
      "text/plain": [
       "bool"
      ]
     },
     "execution_count": 52,
     "metadata": {},
     "output_type": "execute_result"
    }
   ],
   "source": [
    "type(age)"
   ]
  },
  {
   "cell_type": "code",
   "execution_count": 53,
   "metadata": {},
   "outputs": [
    {
     "data": {
      "text/plain": [
       "False"
      ]
     },
     "execution_count": 53,
     "metadata": {},
     "output_type": "execute_result"
    }
   ],
   "source": [
    "bool(0)"
   ]
  },
  {
   "cell_type": "code",
   "execution_count": 54,
   "metadata": {},
   "outputs": [
    {
     "data": {
      "text/plain": [
       "True"
      ]
     },
     "execution_count": 54,
     "metadata": {},
     "output_type": "execute_result"
    }
   ],
   "source": [
    "bool(\"0\")"
   ]
  },
  {
   "cell_type": "code",
   "execution_count": 55,
   "metadata": {},
   "outputs": [
    {
     "data": {
      "text/plain": [
       "False"
      ]
     },
     "execution_count": 55,
     "metadata": {},
     "output_type": "execute_result"
    }
   ],
   "source": [
    "bool(0)"
   ]
  },
  {
   "cell_type": "code",
   "execution_count": 56,
   "metadata": {},
   "outputs": [
    {
     "data": {
      "text/plain": [
       "False"
      ]
     },
     "execution_count": 56,
     "metadata": {},
     "output_type": "execute_result"
    }
   ],
   "source": [
    "bool(0.00)"
   ]
  },
  {
   "cell_type": "code",
   "execution_count": 57,
   "metadata": {},
   "outputs": [
    {
     "data": {
      "text/plain": [
       "False"
      ]
     },
     "execution_count": 57,
     "metadata": {},
     "output_type": "execute_result"
    }
   ],
   "source": [
    "bool(int(\"0\"))"
   ]
  },
  {
   "cell_type": "code",
   "execution_count": 58,
   "metadata": {},
   "outputs": [
    {
     "data": {
      "text/plain": [
       "1"
      ]
     },
     "execution_count": 58,
     "metadata": {},
     "output_type": "execute_result"
    }
   ],
   "source": [
    "int(bool(\"0\"))"
   ]
  },
  {
   "cell_type": "code",
   "execution_count": 59,
   "metadata": {},
   "outputs": [
    {
     "data": {
      "text/plain": [
       "1"
      ]
     },
     "execution_count": 59,
     "metadata": {},
     "output_type": "execute_result"
    }
   ],
   "source": [
    "int(bool(\"1\"))"
   ]
  },
  {
   "cell_type": "code",
   "execution_count": 60,
   "metadata": {},
   "outputs": [
    {
     "data": {
      "text/plain": [
       "0"
      ]
     },
     "execution_count": 60,
     "metadata": {},
     "output_type": "execute_result"
    }
   ],
   "source": [
    "int(False)"
   ]
  },
  {
   "cell_type": "code",
   "execution_count": 61,
   "metadata": {},
   "outputs": [
    {
     "data": {
      "text/plain": [
       "1"
      ]
     },
     "execution_count": 61,
     "metadata": {},
     "output_type": "execute_result"
    }
   ],
   "source": [
    "int(True)"
   ]
  },
  {
   "cell_type": "code",
   "execution_count": 63,
   "metadata": {},
   "outputs": [
    {
     "data": {
      "text/plain": [
       "0"
      ]
     },
     "execution_count": 63,
     "metadata": {},
     "output_type": "execute_result"
    }
   ],
   "source": [
    "int(bool(0))"
   ]
  },
  {
   "cell_type": "code",
   "execution_count": null,
   "metadata": {},
   "outputs": [],
   "source": [
    "# input\n",
    "conditions:\n",
    "# atleast 8 character\n",
    "contains atleast one digit\n",
    "contains both lower and upper case\n",
    "special charecters"
   ]
  },
  {
   "cell_type": "code",
   "execution_count": 126,
   "metadata": {},
   "outputs": [
    {
     "name": "stdout",
     "output_type": "stream",
     "text": [
      "Password must contain 8 characters\n"
     ]
    }
   ],
   "source": [
    "password = input(\"Enter the password: \")\n",
    "length = len(password)\n",
    "upper = 0\n",
    "lower = 0\n",
    "digit = 0\n",
    "alpha = 0\n",
    "special = 0\n",
    "for i in password:\n",
    "    if i.isupper():\n",
    "        upper = 1\n",
    "    if i.isdigit():\n",
    "        digit = 1\n",
    "    if i.isalpha():\n",
    "        alpha = 1\n",
    "    if i.lower():\n",
    "        lower = 1\n",
    "    if not i.isalnum():\n",
    "        special = 1\n",
    "sum = upper+lower+digit+alpha+special\n",
    "if upper == 0:\n",
    "    print(\"There is no uppercase charecters\")\n",
    "if lower == 0:\n",
    "    print(\"There is no lower characters\")\n",
    "if digit == 0:\n",
    "    print(\"There is no numbers included in the password\")\n",
    "if alpha == 0:\n",
    "    print(\"There is no alphabets included in the password\")\n",
    "if special == 0:\n",
    "    print(\"There is no specail characters included in the password\")\n",
    "if length <8:\n",
    "    print(\"Password must contain 8 characters\")\n",
    "if len(password) >= 8 and sum ==5:\n",
    "    print(\"Strong Password\")"
   ]
  },
  {
   "cell_type": "code",
   "execution_count": 120,
   "metadata": {},
   "outputs": [
    {
     "ename": "NameError",
     "evalue": "name 'isdigit' is not defined",
     "output_type": "error",
     "traceback": [
      "\u001b[1;31m---------------------------------------------------------------------------\u001b[0m",
      "\u001b[1;31mNameError\u001b[0m                                 Traceback (most recent call last)",
      "Cell \u001b[1;32mIn[120], line 1\u001b[0m\n\u001b[1;32m----> 1\u001b[0m \u001b[43misdigit\u001b[49m()\n",
      "\u001b[1;31mNameError\u001b[0m: name 'isdigit' is not defined"
     ]
    }
   ],
   "source": [
    "isdigit()\n"
   ]
  },
  {
   "cell_type": "code",
   "execution_count": 110,
   "metadata": {},
   "outputs": [
    {
     "data": {
      "text/plain": [
       "True"
      ]
     },
     "execution_count": 110,
     "metadata": {},
     "output_type": "execute_result"
    }
   ],
   "source": [
    "name = \"Shail12\"\n",
    "name.isalnum()"
   ]
  },
  {
   "cell_type": "code",
   "execution_count": 102,
   "metadata": {},
   "outputs": [
    {
     "data": {
      "text/plain": [
       "False"
      ]
     },
     "execution_count": 102,
     "metadata": {},
     "output_type": "execute_result"
    }
   ],
   "source": [
    "name = \"suhail12\"\n",
    "name.isdigit()"
   ]
  },
  {
   "cell_type": "code",
   "execution_count": 83,
   "metadata": {},
   "outputs": [
    {
     "data": {
      "text/plain": [
       "True"
      ]
     },
     "execution_count": 83,
     "metadata": {},
     "output_type": "execute_result"
    }
   ],
   "source": [
    "name = \"123454\"\n",
    "name.isdigit()"
   ]
  },
  {
   "cell_type": "code",
   "execution_count": null,
   "metadata": {},
   "outputs": [],
   "source": [
    "# BMI Calculator:\n",
    "# Create a python programme that calculates the Body Mass Index (BMI) given weigh and height. Based on the BMI, classify the person as:\n",
    "# \n",
    "#       ()\n",
    "# Normal\n",
    "#       weight (18.5 <= BMI < 24.9)\n",
    "# Overweight\n",
    "#       (25 <= BMI < 29.9)\n",
    "# Obese\n",
    "#       (BMI >= 30)"
   ]
  },
  {
   "cell_type": "code",
   "execution_count": 133,
   "metadata": {},
   "outputs": [
    {
     "name": "stdout",
     "output_type": "stream",
     "text": [
      "You are normal\n"
     ]
    }
   ],
   "source": [
    "weight = float(input(\"Enter your weight\"))\n",
    "height = float(input(\"Enter you height in meter\"))\n",
    "BMI = weight/(height**2)\n",
    "if BMI < 18.5:\n",
    "    print(\"Your are Underweight\")\n",
    "elif 18.5 <= BMI < 24.9:\n",
    "    print(\"You are normal\")\n",
    "elif 25 <= BMI < 29.9:\n",
    "    print(\"You are Overweight\")\n",
    "else:\n",
    "    print(\"You are Obese\")"
   ]
  },
  {
   "cell_type": "code",
   "execution_count": null,
   "metadata": {},
   "outputs": [],
   "source": [
    "list\n",
    "tuple\n",
    "string \n",
    "seris of elements\n",
    "\n"
   ]
  },
  {
   "cell_type": "code",
   "execution_count": 141,
   "metadata": {},
   "outputs": [
    {
     "name": "stdout",
     "output_type": "stream",
     "text": [
      "0\n",
      "1\n",
      "2\n",
      "3\n",
      "4\n",
      "5\n",
      "6\n",
      "7\n",
      "8\n",
      "9\n"
     ]
    }
   ],
   "source": [
    "number = 0\n",
    "while number<10:\n",
    "    print(number)\n",
    "    number =number + 1"
   ]
  },
  {
   "cell_type": "code",
   "execution_count": 145,
   "metadata": {},
   "outputs": [
    {
     "name": "stdout",
     "output_type": "stream",
     "text": [
      "0\n",
      "1\n",
      "2\n",
      "3\n",
      "4\n",
      "5\n",
      "6\n",
      "7\n",
      " The number is eqaul to 8\n",
      "outside loop\n"
     ]
    }
   ],
   "source": [
    "i=0\n",
    "while i<8:\n",
    "    print(i)\n",
    "    i=i+1\n",
    "else:\n",
    "    print(\" The number is eqaul to 8\")\n",
    "print(\"outside loop\")"
   ]
  },
  {
   "cell_type": "code",
   "execution_count": 150,
   "metadata": {},
   "outputs": [
    {
     "name": "stdout",
     "output_type": "stream",
     "text": [
      "2 1\n",
      "4 3\n",
      "6 5\n",
      "8 7\n",
      "10 9\n",
      "12 11\n",
      "14 13\n",
      "16 15\n",
      "18 17\n",
      "20 19\n",
      "22 21\n",
      "24 23\n",
      "26 25\n",
      "28 27\n",
      "30 29\n",
      "32 31\n",
      "34 33\n",
      "36 35\n",
      "38 37\n",
      "40 39\n",
      "42 41\n",
      "44 43\n",
      "46 45\n",
      "48 47\n",
      "50 49\n"
     ]
    }
   ],
   "source": [
    "number = 2\n",
    "number2 = 1\n",
    "while number<51:\n",
    "    print(number,number2)\n",
    "    number = number+2\n",
    "    number2 =number2+2\n"
   ]
  },
  {
   "cell_type": "code",
   "execution_count": 163,
   "metadata": {},
   "outputs": [
    {
     "name": "stdout",
     "output_type": "stream",
     "text": [
      "6\n"
     ]
    }
   ],
   "source": [
    "number =  int(input(\"Enter the number to get the sum\"))\n",
    "#3+2+1\n",
    "total = 0\n",
    "while number>0:\n",
    "    total +=  number\n",
    "    number = number - 1\n",
    "print(total)\n"
   ]
  },
  {
   "cell_type": "code",
   "execution_count": 178,
   "metadata": {},
   "outputs": [
    {
     "name": "stdout",
     "output_type": "stream",
     "text": [
      "1\n",
      "2\n",
      "3\n",
      "4\n",
      "5\n",
      "6\n",
      "8\n",
      "9\n",
      "10\n",
      "11\n",
      "12\n",
      "13\n",
      "14\n",
      "15\n",
      "16\n",
      "17\n",
      "18\n",
      "19\n",
      "20\n",
      "21\n",
      "22\n",
      "23\n",
      "24\n",
      "25\n",
      "26\n",
      "27\n",
      "28\n",
      "29\n",
      "30\n",
      "31\n",
      "32\n",
      "33\n",
      "34\n",
      "35\n",
      "36\n",
      "37\n",
      "38\n",
      "39\n",
      "40\n",
      "41\n",
      "42\n",
      "43\n",
      "44\n",
      "45\n",
      "46\n",
      "47\n",
      "48\n",
      "49\n",
      "50\n",
      "51\n",
      "52\n",
      "53\n",
      "54\n",
      "55\n",
      "56\n",
      "57\n",
      "58\n",
      "59\n",
      "60\n",
      "61\n",
      "62\n",
      "63\n",
      "64\n",
      "65\n",
      "66\n",
      "67\n",
      "68\n",
      "69\n",
      "70\n",
      "71\n",
      "72\n",
      "73\n",
      "74\n",
      "75\n",
      "76\n",
      "77\n",
      "78\n",
      "79\n",
      "80\n",
      "81\n",
      "82\n",
      "83\n",
      "84\n",
      "85\n",
      "86\n",
      "87\n",
      "88\n",
      "89\n",
      "90\n",
      "91\n",
      "92\n",
      "93\n",
      "94\n",
      "95\n",
      "96\n",
      "97\n",
      "98\n",
      "99\n",
      "100\n",
      "101\n"
     ]
    }
   ],
   "source": [
    "number = 0\n",
    "while number<=100:\n",
    "    # print(number)\n",
    "    number += 1\n",
    "    if number == 7:\n",
    "        continue\n",
    "    print(number)\n",
    "    \n",
    "    \n"
   ]
  },
  {
   "cell_type": "code",
   "execution_count": 179,
   "metadata": {},
   "outputs": [
    {
     "name": "stdout",
     "output_type": "stream",
     "text": [
      "1 2 3 4 5 7 8 9 10 "
     ]
    }
   ],
   "source": [
    "while i:\n",
    "    if i == 6:\n",
    "        continue\n",
    "    else:\n",
    "        print(i, end = \" \")"
   ]
  },
  {
   "cell_type": "code",
   "execution_count": 182,
   "metadata": {},
   "outputs": [
    {
     "name": "stdout",
     "output_type": "stream",
     "text": [
      "1\n",
      "2\n",
      "4\n",
      "5\n",
      "6\n"
     ]
    }
   ],
   "source": [
    "i = 0\n",
    "while i < 6:\n",
    "  i += 1\n",
    "  if i == 3:\n",
    "    continue\n",
    "  print(i)"
   ]
  },
  {
   "cell_type": "code",
   "execution_count": null,
   "metadata": {},
   "outputs": [],
   "source": [
    "conditions\n",
    "password input\n",
    "password = \"password\"\n",
    "if password is right then login"
   ]
  },
  {
   "cell_type": "code",
   "execution_count": null,
   "metadata": {},
   "outputs": [],
   "source": [
    "conditions\n",
    "password input\n",
    "password = \"password\"\n",
    "if password is right then login\n",
    "after 3 wrong attempt \n",
    "block"
   ]
  },
  {
   "cell_type": "code",
   "execution_count": 183,
   "metadata": {},
   "outputs": [
    {
     "name": "stdout",
     "output_type": "stream",
     "text": [
      "try again\n",
      "try again\n",
      "try again\n",
      "try again\n",
      "try again\n",
      "you are logged in\n"
     ]
    }
   ],
   "source": [
    "while True:\n",
    "    password =input(\"enter the passoword\")\n",
    "    if password != \"password\":\n",
    "        print(\"try again\")\n",
    "    else:\n",
    "        print(\"you are logged in\")\n",
    "        break"
   ]
  },
  {
   "cell_type": "code",
   "execution_count": 186,
   "metadata": {},
   "outputs": [
    {
     "name": "stdout",
     "output_type": "stream",
     "text": [
      "try again\n",
      "you are logged in\n"
     ]
    }
   ],
   "source": [
    "i = 0\n",
    "while True:\n",
    "    password =input(\"enter the passoword\")\n",
    "    if password != \"password\":\n",
    "        i += 1\n",
    "        print(\"try again\")\n",
    "    if i == 3:\n",
    "        print(\"You have been blocked\")\n",
    "    else:\n",
    "        print(\"you are logged in\")\n",
    "        break"
   ]
  },
  {
   "cell_type": "code",
   "execution_count": 1,
   "metadata": {},
   "outputs": [
    {
     "name": "stdout",
     "output_type": "stream",
     "text": [
      "MAIN COURSE:\n",
      "alfaham\n",
      "shawayi\n",
      "biriyani\n",
      "mandhi\n",
      "\n",
      "\n",
      "BREADS:\n",
      "porata\n",
      "kuboos\n",
      "rotti\n",
      "\n",
      "\n",
      "ADD ONS:\n",
      "mayonaise\n",
      "hummus\n",
      "salad\n",
      "\n",
      "\n",
      "DRINKS:\n",
      "pepsi\n",
      "7up\n",
      "dew\n",
      "\n",
      "\n",
      "your order is= ['salad', 'pepsi']\n"
     ]
    }
   ],
   "source": [
    "main_courses = [\"alfaham\",\"shawayi\",\"biriyani\",\"mandhi\",]\n",
    "breads = [\"porata\",\"kuboos\",\"rotti\"]\n",
    "add_ons = [\"mayonaise\",\"hummus\",\"salad\"]\n",
    "drinks = [\"pepsi\",\"7up\",\"dew\"]\n",
    "order = []\n",
    "print(\"MAIN COURSE:\")\n",
    "for food in main_courses:\n",
    "    print(food)\n",
    "print(\"\\n\")\n",
    "print(\"BREADS:\")\n",
    "for bread in breads:\n",
    "    print(bread)\n",
    "print(\"\\n\")\n",
    "print(\"ADD ONS:\")\n",
    "for adds in add_ons:\n",
    "    print(adds)\n",
    "print(\"\\n\")\n",
    "print(\"DRINKS:\")\n",
    "for drink in drinks:\n",
    "    print(drink)\n",
    "print(\"\\n\")\n",
    "main_course = input(\"enter the main course\")\n",
    "bread = input(\"enter bread\")\n",
    "add_on = input(\"enter your add ons\")\n",
    "drink = input(\"enter drinks\")\n",
    "if main_course in main_courses:\n",
    "    order.append(main_course)\n",
    "if bread in breads:\n",
    "    order.append(bread)\n",
    "if add_on in add_ons:\n",
    "    order.append(add_on)\n",
    "if drink in drinks:\n",
    "    order.append(drink)\n",
    "else:\n",
    "    print(\"sorry, the item is not in the menu\")\n",
    "print(\"your order is=\",order)"
   ]
  },
  {
   "cell_type": "code",
   "execution_count": 4,
   "metadata": {},
   "outputs": [
    {
     "name": "stdout",
     "output_type": "stream",
     "text": [
      "Thank you for odering \"biriyani\"\n",
      "Thank you for odering \"alfam mandi\"\n",
      "The biriyani is being prepared\n",
      "Sorry alfam mandi is sold out\n"
     ]
    }
   ],
   "source": [
    "main_courses = [\"Alfaham\",\"Shawayi\",\"biriyani\",\"Mandhi\"]\n",
    "orders = []\n",
    "while True:\n",
    "    item = input(\"Enter the food you wish to have?\")\n",
    "    orders.append(item)\n",
    "    print(f\"Thank you for odering \\\"{item}\\\"\")\n",
    "    repeat = input('Anythig else? \\n \"YES\" to oder again \\n\"OK\" to finish the order')\n",
    "    if repeat.lower() == \"ok\":\n",
    "        break\n",
    "for order in orders:\n",
    "    if order.lower() in main_courses:\n",
    "        print(f\"The {order} is being prepared\")\n",
    "    else:\n",
    "        print(f\"Sorry {order} is sold out\")"
   ]
  },
  {
   "cell_type": "code",
   "execution_count": null,
   "metadata": {},
   "outputs": [],
   "source": []
  }
 ],
 "metadata": {
  "kernelspec": {
   "display_name": "base",
   "language": "python",
   "name": "python3"
  },
  "language_info": {
   "codemirror_mode": {
    "name": "ipython",
    "version": 3
   },
   "file_extension": ".py",
   "mimetype": "text/x-python",
   "name": "python",
   "nbconvert_exporter": "python",
   "pygments_lexer": "ipython3",
   "version": "3.11.7"
  }
 },
 "nbformat": 4,
 "nbformat_minor": 2
}
