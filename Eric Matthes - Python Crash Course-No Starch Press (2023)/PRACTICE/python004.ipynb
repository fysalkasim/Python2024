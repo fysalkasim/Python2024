{
 "cells": [
  {
   "cell_type": "code",
   "execution_count": 2,
   "metadata": {},
   "outputs": [
    {
     "name": "stdout",
     "output_type": "stream",
     "text": [
      "The sum is: 30\n"
     ]
    }
   ],
   "source": [
    "def sum():\n",
    "    a = 10\n",
    "    b = 20\n",
    "    c = a+b\n",
    "    return c\n",
    "# calling sum() function in print statement\n",
    "print(\"The sum is:\",sum())\n"
   ]
  },
  {
   "cell_type": "code",
   "execution_count": 3,
   "metadata": {},
   "outputs": [
    {
     "data": {
      "text/plain": [
       "30"
      ]
     },
     "execution_count": 3,
     "metadata": {},
     "output_type": "execute_result"
    }
   ],
   "source": [
    "sum()"
   ]
  },
  {
   "cell_type": "code",
   "execution_count": 2,
   "metadata": {},
   "outputs": [],
   "source": [
    "def addition(a,b):\n",
    "    return a+b\n",
    "\n",
    "    \n"
   ]
  },
  {
   "cell_type": "code",
   "execution_count": 3,
   "metadata": {},
   "outputs": [
    {
     "name": "stdout",
     "output_type": "stream",
     "text": [
      "3\n"
     ]
    }
   ],
   "source": [
    "print(addition(1,2))"
   ]
  },
  {
   "cell_type": "code",
   "execution_count": 33,
   "metadata": {},
   "outputs": [],
   "source": [
    "def welcome():\n",
    "    '''Simply print a message to welcome the user'''\n",
    "    print(\"Hello user\")\n"
   ]
  },
  {
   "cell_type": "code",
   "execution_count": 34,
   "metadata": {},
   "outputs": [
    {
     "name": "stdout",
     "output_type": "stream",
     "text": [
      "Hello user\n"
     ]
    }
   ],
   "source": [
    "welcome()"
   ]
  },
  {
   "cell_type": "code",
   "execution_count": 8,
   "metadata": {},
   "outputs": [],
   "source": [
    "def data(column,datatype):\n",
    "    \"\"\"Print the data types\"\"\"\n",
    "    print(f\"The {column} is of {datatype} data type\")\n",
    "\n",
    "    "
   ]
  },
  {
   "cell_type": "code",
   "execution_count": 9,
   "metadata": {},
   "outputs": [
    {
     "name": "stdout",
     "output_type": "stream",
     "text": [
      "The Age is of integer data type\n"
     ]
    }
   ],
   "source": [
    "data(\"Age\",\"integer\")"
   ]
  },
  {
   "cell_type": "code",
   "execution_count": 14,
   "metadata": {},
   "outputs": [
    {
     "name": "stdout",
     "output_type": "stream",
     "text": [
      "The string is of name data type\n"
     ]
    }
   ],
   "source": [
    "data(\"string\",\"name\")"
   ]
  },
  {
   "cell_type": "code",
   "execution_count": 16,
   "metadata": {},
   "outputs": [
    {
     "name": "stdout",
     "output_type": "stream",
     "text": [
      "Hi fysal, welcome back\n"
     ]
    }
   ],
   "source": [
    "def welcome_user(name):\n",
    "    '''Print a personalized message'''\n",
    "    print(f\"Hi {name}, welcome back\")\n",
    "welcome_user(\"fysal\")"
   ]
  },
  {
   "cell_type": "code",
   "execution_count": 18,
   "metadata": {},
   "outputs": [
    {
     "name": "stdout",
     "output_type": "stream",
     "text": [
      "interstellar is one of my favorite movie \n"
     ]
    }
   ],
   "source": [
    "def favourit_movie(movie):\n",
    "    '''Printing the favorite movie name'''\n",
    "    print(f\"{movie} is one of my favorite movie \")\n",
    "favourit_movie(\"interstellar\")"
   ]
  },
  {
   "cell_type": "code",
   "execution_count": 19,
   "metadata": {},
   "outputs": [],
   "source": [
    "def describe_vehicle(vehicle_type,vehicle_name):\n",
    "    \"\"\"Describing about the vehicle\"\"\"\n",
    "    print(f\"I have {vehicle_type}\")\n",
    "    print(F\"my {vehicle_type}'s name is {vehicle_name}\")"
   ]
  },
  {
   "cell_type": "code",
   "execution_count": 23,
   "metadata": {},
   "outputs": [
    {
     "name": "stdout",
     "output_type": "stream",
     "text": [
      "I have Car\n",
      "my Car's name is BMW\n"
     ]
    }
   ],
   "source": [
    "describe_vehicle(\"Car\",\"BMW\")"
   ]
  },
  {
   "cell_type": "code",
   "execution_count": 24,
   "metadata": {},
   "outputs": [
    {
     "name": "stdout",
     "output_type": "stream",
     "text": [
      "I have Nano\n",
      "my Nano's name is Car\n"
     ]
    }
   ],
   "source": [
    "describe_vehicle(\"Nano\",\"Car\")"
   ]
  },
  {
   "cell_type": "code",
   "execution_count": null,
   "metadata": {},
   "outputs": [],
   "source": [
    "vehicle_type:sedan\n",
    "vehicle_name:bmw"
   ]
  },
  {
   "cell_type": "code",
   "execution_count": 27,
   "metadata": {},
   "outputs": [
    {
     "name": "stdout",
     "output_type": "stream",
     "text": [
      "I have sedan\n",
      "my sedan's name is bmw\n"
     ]
    }
   ],
   "source": [
    "describe_vehicle(vehicle_type=\"sedan\",vehicle_name=\"bmw\")\n"
   ]
  },
  {
   "cell_type": "code",
   "execution_count": 28,
   "metadata": {},
   "outputs": [
    {
     "name": "stdout",
     "output_type": "stream",
     "text": [
      "I have Bus\n",
      "my Bus's name is S6\n"
     ]
    }
   ],
   "source": [
    "describe_vehicle(vehicle_name=\"S6\",vehicle_type=\"Bus\")"
   ]
  },
  {
   "cell_type": "code",
   "execution_count": 52,
   "metadata": {},
   "outputs": [],
   "source": [
    "def calculate_total_prize(prize,quantity):\n",
    "    \"\"\"The function should return the total price for the given quantity of\n",
    "items\"\"\"\n",
    "    return prize*quantity\n"
   ]
  },
  {
   "cell_type": "code",
   "execution_count": 53,
   "metadata": {},
   "outputs": [
    {
     "data": {
      "text/plain": [
       "50"
      ]
     },
     "execution_count": 53,
     "metadata": {},
     "output_type": "execute_result"
    }
   ],
   "source": [
    "p1 = 5\n",
    "q1 =10\n",
    "\n",
    "calculate_total_prize(p1,q1)"
   ]
  },
  {
   "cell_type": "code",
   "execution_count": 11,
   "metadata": {},
   "outputs": [
    {
     "name": "stdout",
     "output_type": "stream",
     "text": [
      "120\n"
     ]
    }
   ],
   "source": [
    "def calculate_total_prize():\n",
    "    \"\"\"The function should return the total price for the given quantity of\n",
    "items\"\"\"\n",
    "    p1 = int(input(\"Enter the unit prize\"))\n",
    "    q1 = int(input(\"Enter the quantity\"))\n",
    "    print(p1*q1)\n",
    "\n",
    "calculate_total_prize()"
   ]
  },
  {
   "cell_type": "code",
   "execution_count": null,
   "metadata": {},
   "outputs": [],
   "source": [
    "def calculate_total_price(price_per_item, quantity):\n",
    "    return price_per_item * quantity\n",
    "price_per_item = int(input(\"enter the price per item\"))\n",
    "quantity = int(input(\"enter the quantity\"))\n",
    "total_price = calculate_total_price(price_per_item,quantity)\n",
    "print(f\"total amount is Rs.{total_price}\")"
   ]
  },
  {
   "cell_type": "code",
   "execution_count": 16,
   "metadata": {},
   "outputs": [],
   "source": [
    "def calculate_total_price():\n",
    "    price = int(input(\"Enter the prize of unit\"))\n",
    "    quantity = int(input(\"Enter the number of item wish to purchase\"))\n",
    "    print(f\"The total prize is {price * quantity}\")\n"
   ]
  },
  {
   "cell_type": "code",
   "execution_count": 17,
   "metadata": {},
   "outputs": [
    {
     "name": "stdout",
     "output_type": "stream",
     "text": [
      "The total prize is 150\n"
     ]
    }
   ],
   "source": [
    "calculate_total_price()"
   ]
  },
  {
   "cell_type": "code",
   "execution_count": 31,
   "metadata": {},
   "outputs": [],
   "source": [
    "def hi_name(first_name,Last_name=\"Rafeek\"):\n",
    "    print(f\"Hi {first_name} {Last_name}\")\n"
   ]
  },
  {
   "cell_type": "code",
   "execution_count": 32,
   "metadata": {},
   "outputs": [
    {
     "name": "stdout",
     "output_type": "stream",
     "text": [
      "Hi Suhail Rafeek\n"
     ]
    }
   ],
   "source": [
    "hi_name(first_name=\"Suhail\")"
   ]
  },
  {
   "cell_type": "code",
   "execution_count": 34,
   "metadata": {},
   "outputs": [],
   "source": [
    "def make_mug(size,text):\n",
    "    '''Mug desciption'''\n",
    "    print(f'The mug has a size of {size} and mug contain a text that is {text}')\n",
    "          "
   ]
  },
  {
   "cell_type": "code",
   "execution_count": 37,
   "metadata": {},
   "outputs": [
    {
     "name": "stdout",
     "output_type": "stream",
     "text": [
      "The mug has a size of 8 and mug contain a text that is Good Morning!!\n"
     ]
    }
   ],
   "source": [
    "make_mug(8,\"Good Morning!!\")"
   ]
  },
  {
   "cell_type": "code",
   "execution_count": 43,
   "metadata": {},
   "outputs": [],
   "source": [
    "def data_science(*tools):\n",
    "    for i in tools:\n",
    "        print(f\"I am using {i} for my data analaysis works\")"
   ]
  },
  {
   "cell_type": "code",
   "execution_count": 44,
   "metadata": {},
   "outputs": [
    {
     "name": "stdout",
     "output_type": "stream",
     "text": [
      "I am using python for my data analaysis works\n",
      "I am using Excel for my data analaysis works\n",
      "I am using Java for my data analaysis works\n"
     ]
    }
   ],
   "source": [
    "data_science(\"python\",\"Excel\",\"Java\")"
   ]
  },
  {
   "cell_type": "code",
   "execution_count": 51,
   "metadata": {},
   "outputs": [],
   "source": [
    "def prepare_sadya(number_of_items, *dishes):\n",
    "    \"\"\"The function prints total items number and all dishes\"\"\"\n",
    "    print(f\"Today we serving sadya with {number_of_items} delicious dishes\")\n",
    "    print(\"\\nThe items are:\")\n",
    "    for dish in dishes:\n",
    "        print(dish, end=\",\")\n",
    "\n",
    "\n"
   ]
  },
  {
   "cell_type": "code",
   "execution_count": 52,
   "metadata": {},
   "outputs": [
    {
     "name": "stdout",
     "output_type": "stream",
     "text": [
      "Today we serving sadya with 4 delicious dishes\n",
      "\n",
      "The items are:\n",
      "Rice,Sambar,Pappadam,Achar,"
     ]
    }
   ],
   "source": [
    "prepare_sadya(4,\"Rice\",\"Sambar\",\"Pappadam\",\"Achar\")"
   ]
  },
  {
   "cell_type": "code",
   "execution_count": 56,
   "metadata": {},
   "outputs": [
    {
     "name": "stdout",
     "output_type": "stream",
     "text": [
      "{'a': 'Apple'}\n",
      "{'fruits': 'Orange', 'Vagitables': 'Carrot'}\n"
     ]
    }
   ],
   "source": [
    "def food(**names):\n",
    "    print(names)\n",
    "food(a=\"Apple\")\n",
    "food(fruits=\"Orange\", Vagitables=\"Carrot\")"
   ]
  },
  {
   "cell_type": "code",
   "execution_count": 57,
   "metadata": {},
   "outputs": [
    {
     "name": "stdout",
     "output_type": "stream",
     "text": [
      "{'shakes': 'Sharjah', 'hot': 'Coffee'}\n"
     ]
    }
   ],
   "source": [
    "food(shakes = \"Sharjah\", hot= \"Coffee\")"
   ]
  },
  {
   "cell_type": "code",
   "execution_count": 72,
   "metadata": {},
   "outputs": [],
   "source": [
    "def create_student_profile(first,last,**user_info):\n",
    "    \"\"\"Creating a function that bulid user profile student\"\"\"\n",
    "    user_info[\"first_name\"] = first\n",
    "    user_info[\"last_name\"] = last\n",
    "    for i,j in user_info.items():\n",
    "        print(i,\":\",j)\n"
   ]
  },
  {
   "cell_type": "code",
   "execution_count": 73,
   "metadata": {},
   "outputs": [
    {
     "name": "stdout",
     "output_type": "stream",
     "text": [
      "year : 2024\n",
      "state : kerala\n",
      "first_name : fysal\n",
      "last_name : kasim\n"
     ]
    }
   ],
   "source": [
    "create_student_profile(\"fysal\",\"kasim\",year=2024,state=\"kerala\")"
   ]
  },
  {
   "cell_type": "code",
   "execution_count": null,
   "metadata": {},
   "outputs": [],
   "source": []
  }
 ],
 "metadata": {
  "kernelspec": {
   "display_name": "base",
   "language": "python",
   "name": "python3"
  },
  "language_info": {
   "codemirror_mode": {
    "name": "ipython",
    "version": 3
   },
   "file_extension": ".py",
   "mimetype": "text/x-python",
   "name": "python",
   "nbconvert_exporter": "python",
   "pygments_lexer": "ipython3",
   "version": "3.11.7"
  }
 },
 "nbformat": 4,
 "nbformat_minor": 2
}
