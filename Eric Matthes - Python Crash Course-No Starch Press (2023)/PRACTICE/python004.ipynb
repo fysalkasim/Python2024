{
 "cells": [
  {
   "cell_type": "code",
   "execution_count": 2,
   "metadata": {},
   "outputs": [
    {
     "name": "stdout",
     "output_type": "stream",
     "text": [
      "The sum is: 30\n"
     ]
    }
   ],
   "source": [
    "def sum():\n",
    "    a = 10\n",
    "    b = 20\n",
    "    c = a+b\n",
    "    return c\n",
    "# calling sum() function in print statement\n",
    "print(\"The sum is:\",sum())\n"
   ]
  },
  {
   "cell_type": "code",
   "execution_count": 3,
   "metadata": {},
   "outputs": [
    {
     "data": {
      "text/plain": [
       "30"
      ]
     },
     "execution_count": 3,
     "metadata": {},
     "output_type": "execute_result"
    }
   ],
   "source": [
    "sum()"
   ]
  },
  {
   "cell_type": "code",
   "execution_count": 2,
   "metadata": {},
   "outputs": [],
   "source": [
    "def addition(a,b):\n",
    "    return a+b\n",
    "\n",
    "    \n"
   ]
  },
  {
   "cell_type": "code",
   "execution_count": 3,
   "metadata": {},
   "outputs": [
    {
     "name": "stdout",
     "output_type": "stream",
     "text": [
      "3\n"
     ]
    }
   ],
   "source": [
    "print(addition(1,2))"
   ]
  },
  {
   "cell_type": "code",
   "execution_count": 33,
   "metadata": {},
   "outputs": [],
   "source": [
    "def welcome():\n",
    "    '''Simply print a message to welcome the user'''\n",
    "    print(\"Hello user\")\n"
   ]
  },
  {
   "cell_type": "code",
   "execution_count": 34,
   "metadata": {},
   "outputs": [
    {
     "name": "stdout",
     "output_type": "stream",
     "text": [
      "Hello user\n"
     ]
    }
   ],
   "source": [
    "welcome()"
   ]
  },
  {
   "cell_type": "code",
   "execution_count": 8,
   "metadata": {},
   "outputs": [],
   "source": [
    "def data(column,datatype):\n",
    "    \"\"\"Print the data types\"\"\"\n",
    "    print(f\"The {column} is of {datatype} data type\")\n",
    "\n",
    "    "
   ]
  },
  {
   "cell_type": "code",
   "execution_count": 9,
   "metadata": {},
   "outputs": [
    {
     "name": "stdout",
     "output_type": "stream",
     "text": [
      "The Age is of integer data type\n"
     ]
    }
   ],
   "source": [
    "data(\"Age\",\"integer\")"
   ]
  },
  {
   "cell_type": "code",
   "execution_count": 14,
   "metadata": {},
   "outputs": [
    {
     "name": "stdout",
     "output_type": "stream",
     "text": [
      "The string is of name data type\n"
     ]
    }
   ],
   "source": [
    "data(\"string\",\"name\")"
   ]
  },
  {
   "cell_type": "code",
   "execution_count": 16,
   "metadata": {},
   "outputs": [
    {
     "name": "stdout",
     "output_type": "stream",
     "text": [
      "Hi fysal, welcome back\n"
     ]
    }
   ],
   "source": [
    "def welcome_user(name):\n",
    "    '''Print a personalized message'''\n",
    "    print(f\"Hi {name}, welcome back\")\n",
    "welcome_user(\"fysal\")"
   ]
  },
  {
   "cell_type": "code",
   "execution_count": 18,
   "metadata": {},
   "outputs": [
    {
     "name": "stdout",
     "output_type": "stream",
     "text": [
      "interstellar is one of my favorite movie \n"
     ]
    }
   ],
   "source": [
    "def favourit_movie(movie):\n",
    "    '''Printing the favorite movie name'''\n",
    "    print(f\"{movie} is one of my favorite movie \")\n",
    "favourit_movie(\"interstellar\")"
   ]
  },
  {
   "cell_type": "code",
   "execution_count": 19,
   "metadata": {},
   "outputs": [],
   "source": [
    "def describe_vehicle(vehicle_type,vehicle_name):\n",
    "    \"\"\"Describing about the vehicle\"\"\"\n",
    "    print(f\"I have {vehicle_type}\")\n",
    "    print(F\"my {vehicle_type}'s name is {vehicle_name}\")"
   ]
  },
  {
   "cell_type": "code",
   "execution_count": 23,
   "metadata": {},
   "outputs": [
    {
     "name": "stdout",
     "output_type": "stream",
     "text": [
      "I have Car\n",
      "my Car's name is BMW\n"
     ]
    }
   ],
   "source": [
    "describe_vehicle(\"Car\",\"BMW\")"
   ]
  },
  {
   "cell_type": "code",
   "execution_count": 24,
   "metadata": {},
   "outputs": [
    {
     "name": "stdout",
     "output_type": "stream",
     "text": [
      "I have Nano\n",
      "my Nano's name is Car\n"
     ]
    }
   ],
   "source": [
    "describe_vehicle(\"Nano\",\"Car\")"
   ]
  },
  {
   "cell_type": "code",
   "execution_count": null,
   "metadata": {},
   "outputs": [],
   "source": [
    "vehicle_type:sedan\n",
    "vehicle_name:bmw"
   ]
  },
  {
   "cell_type": "code",
   "execution_count": 27,
   "metadata": {},
   "outputs": [
    {
     "name": "stdout",
     "output_type": "stream",
     "text": [
      "I have sedan\n",
      "my sedan's name is bmw\n"
     ]
    }
   ],
   "source": [
    "describe_vehicle(vehicle_type=\"sedan\",vehicle_name=\"bmw\")\n"
   ]
  },
  {
   "cell_type": "code",
   "execution_count": 28,
   "metadata": {},
   "outputs": [
    {
     "name": "stdout",
     "output_type": "stream",
     "text": [
      "I have Bus\n",
      "my Bus's name is S6\n"
     ]
    }
   ],
   "source": [
    "describe_vehicle(vehicle_name=\"S6\",vehicle_type=\"Bus\")"
   ]
  },
  {
   "cell_type": "code",
   "execution_count": 52,
   "metadata": {},
   "outputs": [],
   "source": [
    "def calculate_total_prize(prize,quantity):\n",
    "    \"\"\"The function should return the total price for the given quantity of\n",
    "items\"\"\"\n",
    "    return prize*quantity\n"
   ]
  },
  {
   "cell_type": "code",
   "execution_count": 53,
   "metadata": {},
   "outputs": [
    {
     "data": {
      "text/plain": [
       "50"
      ]
     },
     "execution_count": 53,
     "metadata": {},
     "output_type": "execute_result"
    }
   ],
   "source": [
    "p1 = 5\n",
    "q1 =10\n",
    "\n",
    "calculate_total_prize(p1,q1)"
   ]
  },
  {
   "cell_type": "code",
   "execution_count": 11,
   "metadata": {},
   "outputs": [
    {
     "name": "stdout",
     "output_type": "stream",
     "text": [
      "120\n"
     ]
    }
   ],
   "source": [
    "def calculate_total_prize():\n",
    "    \"\"\"The function should return the total price for the given quantity of\n",
    "items\"\"\"\n",
    "    p1 = int(input(\"Enter the unit prize\"))\n",
    "    q1 = int(input(\"Enter the quantity\"))\n",
    "    print(p1*q1)\n",
    "\n",
    "calculate_total_prize()"
   ]
  },
  {
   "cell_type": "code",
   "execution_count": null,
   "metadata": {},
   "outputs": [],
   "source": [
    "def calculate_total_price(price_per_item, quantity):\n",
    "    return price_per_item * quantity\n",
    "price_per_item = int(input(\"enter the price per item\"))\n",
    "quantity = int(input(\"enter the quantity\"))\n",
    "total_price = calculate_total_price(price_per_item,quantity)\n",
    "print(f\"total amount is Rs.{total_price}\")"
   ]
  },
  {
   "cell_type": "code",
   "execution_count": 16,
   "metadata": {},
   "outputs": [],
   "source": [
    "def calculate_total_price():\n",
    "    price = int(input(\"Enter the prize of unit\"))\n",
    "    quantity = int(input(\"Enter the number of item wish to purchase\"))\n",
    "    print(f\"The total prize is {price * quantity}\")\n"
   ]
  },
  {
   "cell_type": "code",
   "execution_count": 17,
   "metadata": {},
   "outputs": [
    {
     "name": "stdout",
     "output_type": "stream",
     "text": [
      "The total prize is 150\n"
     ]
    }
   ],
   "source": [
    "calculate_total_price()"
   ]
  },
  {
   "cell_type": "code",
   "execution_count": 31,
   "metadata": {},
   "outputs": [],
   "source": [
    "def hi_name(first_name,Last_name=\"Rafeek\"):\n",
    "    print(f\"Hi {first_name} {Last_name}\")\n"
   ]
  },
  {
   "cell_type": "code",
   "execution_count": 32,
   "metadata": {},
   "outputs": [
    {
     "name": "stdout",
     "output_type": "stream",
     "text": [
      "Hi Suhail Rafeek\n"
     ]
    }
   ],
   "source": [
    "hi_name(first_name=\"Suhail\")"
   ]
  },
  {
   "cell_type": "code",
   "execution_count": 34,
   "metadata": {},
   "outputs": [],
   "source": [
    "def make_mug(size,text):\n",
    "    '''Mug desciption'''\n",
    "    print(f'The mug has a size of {size} and mug contain a text that is {text}')\n",
    "          "
   ]
  },
  {
   "cell_type": "code",
   "execution_count": 37,
   "metadata": {},
   "outputs": [
    {
     "name": "stdout",
     "output_type": "stream",
     "text": [
      "The mug has a size of 8 and mug contain a text that is Good Morning!!\n"
     ]
    }
   ],
   "source": [
    "make_mug(8,\"Good Morning!!\")"
   ]
  },
  {
   "cell_type": "code",
   "execution_count": 43,
   "metadata": {},
   "outputs": [],
   "source": [
    "def data_science(*tools):\n",
    "    for i in tools:\n",
    "        print(f\"I am using {i} for my data analaysis works\")"
   ]
  },
  {
   "cell_type": "code",
   "execution_count": 44,
   "metadata": {},
   "outputs": [
    {
     "name": "stdout",
     "output_type": "stream",
     "text": [
      "I am using python for my data analaysis works\n",
      "I am using Excel for my data analaysis works\n",
      "I am using Java for my data analaysis works\n"
     ]
    }
   ],
   "source": [
    "data_science(\"python\",\"Excel\",\"Java\")"
   ]
  },
  {
   "cell_type": "code",
   "execution_count": 51,
   "metadata": {},
   "outputs": [],
   "source": [
    "def prepare_sadya(number_of_items, *dishes):\n",
    "    \"\"\"The function prints total items number and all dishes\"\"\"\n",
    "    print(f\"Today we serving sadya with {number_of_items} delicious dishes\")\n",
    "    print(\"\\nThe items are:\")\n",
    "    for dish in dishes:\n",
    "        print(dish, end=\",\")\n",
    "\n",
    "\n"
   ]
  },
  {
   "cell_type": "code",
   "execution_count": 52,
   "metadata": {},
   "outputs": [
    {
     "name": "stdout",
     "output_type": "stream",
     "text": [
      "Today we serving sadya with 4 delicious dishes\n",
      "\n",
      "The items are:\n",
      "Rice,Sambar,Pappadam,Achar,"
     ]
    }
   ],
   "source": [
    "prepare_sadya(4,\"Rice\",\"Sambar\",\"Pappadam\",\"Achar\")"
   ]
  },
  {
   "cell_type": "code",
   "execution_count": 56,
   "metadata": {},
   "outputs": [
    {
     "name": "stdout",
     "output_type": "stream",
     "text": [
      "{'a': 'Apple'}\n",
      "{'fruits': 'Orange', 'Vagitables': 'Carrot'}\n"
     ]
    }
   ],
   "source": [
    "def food(**names):\n",
    "    print(names)\n",
    "food(a=\"Apple\")\n",
    "food(fruits=\"Orange\", Vagitables=\"Carrot\")"
   ]
  },
  {
   "cell_type": "code",
   "execution_count": 57,
   "metadata": {},
   "outputs": [
    {
     "name": "stdout",
     "output_type": "stream",
     "text": [
      "{'shakes': 'Sharjah', 'hot': 'Coffee'}\n"
     ]
    }
   ],
   "source": [
    "food(shakes = \"Sharjah\", hot= \"Coffee\")"
   ]
  },
  {
   "cell_type": "code",
   "execution_count": 72,
   "metadata": {},
   "outputs": [],
   "source": [
    "def create_student_profile(first,last,**user_info):\n",
    "    \"\"\"Creating a function that bulid user profile student\"\"\"\n",
    "    user_info[\"first_name\"] = first\n",
    "    user_info[\"last_name\"] = last\n",
    "    for i,j in user_info.items():\n",
    "        print(i,\":\",j)\n"
   ]
  },
  {
   "cell_type": "code",
   "execution_count": 73,
   "metadata": {},
   "outputs": [
    {
     "name": "stdout",
     "output_type": "stream",
     "text": [
      "year : 2024\n",
      "state : kerala\n",
      "first_name : fysal\n",
      "last_name : kasim\n"
     ]
    }
   ],
   "source": [
    "create_student_profile(\"fysal\",\"kasim\",year=2024,state=\"kerala\")"
   ]
  },
  {
   "cell_type": "code",
   "execution_count": 74,
   "metadata": {},
   "outputs": [],
   "source": [
    "def create_student_profile(first,middle,last,):\n",
    "    \"\"\"Creating a function that bulid user profile student\"\"\"\n",
    "    print(f\"The full name is {first} {middle} {last}\")\n",
    "\n",
    "    "
   ]
  },
  {
   "cell_type": "code",
   "execution_count": 75,
   "metadata": {},
   "outputs": [
    {
     "name": "stdout",
     "output_type": "stream",
     "text": [
      "The full name is suhail M rafeek\n"
     ]
    }
   ],
   "source": [
    "create_student_profile(\"suhail\",\"M\",\"rafeek\")"
   ]
  },
  {
   "cell_type": "code",
   "execution_count": 76,
   "metadata": {},
   "outputs": [
    {
     "ename": "TypeError",
     "evalue": "create_student_profile() missing 1 required positional argument: 'last'",
     "output_type": "error",
     "traceback": [
      "\u001b[1;31m---------------------------------------------------------------------------\u001b[0m",
      "\u001b[1;31mTypeError\u001b[0m                                 Traceback (most recent call last)",
      "Cell \u001b[1;32mIn[76], line 1\u001b[0m\n\u001b[1;32m----> 1\u001b[0m \u001b[43mcreate_student_profile\u001b[49m\u001b[43m(\u001b[49m\u001b[38;5;124;43m\"\u001b[39;49m\u001b[38;5;124;43msuhail\u001b[39;49m\u001b[38;5;124;43m\"\u001b[39;49m\u001b[43m,\u001b[49m\u001b[38;5;124;43m\"\u001b[39;49m\u001b[38;5;124;43mRafeek\u001b[39;49m\u001b[38;5;124;43m\"\u001b[39;49m\u001b[43m)\u001b[49m\n",
      "\u001b[1;31mTypeError\u001b[0m: create_student_profile() missing 1 required positional argument: 'last'"
     ]
    }
   ],
   "source": [
    "create_student_profile(\"suhail\",\"Rafeek\")"
   ]
  },
  {
   "cell_type": "code",
   "execution_count": 78,
   "metadata": {},
   "outputs": [],
   "source": [
    "def create_student_profile(first,last,middle = ''):\n",
    "    \"\"\"Creating a function that bulid user profile student\"\"\"\n",
    "    print(f\"The full name is {first} {middle} {last}\")\n"
   ]
  },
  {
   "cell_type": "code",
   "execution_count": 80,
   "metadata": {},
   "outputs": [
    {
     "name": "stdout",
     "output_type": "stream",
     "text": [
      "The full name is Suhail  Rafeek\n",
      "The full name is Suhail Rafeek M\n"
     ]
    }
   ],
   "source": [
    "create_student_profile(\"Suhail\",\"Rafeek\")\n",
    "create_student_profile(\"Suhail\",\"M\",\"Rafeek\")"
   ]
  },
  {
   "cell_type": "code",
   "execution_count": 81,
   "metadata": {},
   "outputs": [],
   "source": [
    "def create_student_profile(first,last,middle = ''):\n",
    "    \"\"\"Creating a function that bulid user profile student\"\"\"\n",
    "    if middle:\n",
    "        print(f\"The full name is {first} {middle} {last}\")\n",
    "    else:\n",
    "        print(f\"The full name is {first} {last}\")"
   ]
  },
  {
   "cell_type": "code",
   "execution_count": 84,
   "metadata": {},
   "outputs": [
    {
     "name": "stdout",
     "output_type": "stream",
     "text": [
      "The full name is Suhail Rafeek\n"
     ]
    }
   ],
   "source": [
    "create_student_profile(\"Suhail\",\"Rafeek\")"
   ]
  },
  {
   "cell_type": "code",
   "execution_count": 85,
   "metadata": {},
   "outputs": [],
   "source": [
    "def create_student_profile(first,last,middle = None):\n",
    "    \"\"\"Creating a function that bulid user profile student\"\"\"\n",
    "    if middle:\n",
    "        print(f\"The full name is {first} {middle} {last}\")\n",
    "    else:\n",
    "        print(f\"The full name is {first} {last}\")"
   ]
  },
  {
   "cell_type": "code",
   "execution_count": 87,
   "metadata": {},
   "outputs": [
    {
     "name": "stdout",
     "output_type": "stream",
     "text": [
      "The full name is Suhail M Rafeek\n"
     ]
    }
   ],
   "source": [
    "create_student_profile(\"Suhail\",\"Rafeek\",\"M\")"
   ]
  },
  {
   "cell_type": "code",
   "execution_count": 92,
   "metadata": {},
   "outputs": [
    {
     "name": "stdout",
     "output_type": "stream",
     "text": [
      "hello !! I am going to print a message.\n",
      "Hello world\n"
     ]
    }
   ],
   "source": [
    "def print_message():\n",
    "    message = \"hello !! I am going to print a message.\" # the variable message is local to the function itself\n",
    "    print(message)\n",
    "\n",
    "message = \"Hello world\"\n",
    "print_message()\n",
    "print(message)"
   ]
  },
  {
   "cell_type": "code",
   "execution_count": 89,
   "metadata": {},
   "outputs": [
    {
     "name": "stdout",
     "output_type": "stream",
     "text": [
      "The sum is 60\n",
      "Value of sum outside the function: 0\n"
     ]
    }
   ],
   "source": [
    "def calculate(*args):\n",
    "    sum=0\n",
    "    for arg in args:\n",
    "        sum = sum +arg\n",
    "    print(\"The sum is\",sum)\n",
    "\n",
    "sum=0\n",
    "calculate(10,20,30) #60 will be printed as the sum\n",
    "print(\"Value of sum outside the function:\",sum) # 0 will be printed  Output:"
   ]
  },
  {
   "cell_type": "code",
   "execution_count": 93,
   "metadata": {},
   "outputs": [
    {
     "name": "stdout",
     "output_type": "stream",
     "text": [
      "['In', 'Out', '_', '_19', '_4', '_6', '_8', '__', '___', '__builtin__', '__builtins__', '__doc__', '__loader__', '__name__', '__package__', '__spec__', '__vsc_ipynb_file__', '_dh', '_i', '_i1', '_i10', '_i11', '_i12', '_i13', '_i14', '_i15', '_i16', '_i17', '_i18', '_i19', '_i2', '_i20', '_i21', '_i22', '_i23', '_i24', '_i25', '_i26', '_i27', '_i28', '_i29', '_i3', '_i30', '_i31', '_i32', '_i33', '_i34', '_i35', '_i36', '_i37', '_i38', '_i39', '_i4', '_i40', '_i41', '_i42', '_i43', '_i44', '_i45', '_i46', '_i47', '_i48', '_i49', '_i5', '_i50', '_i51', '_i52', '_i53', '_i54', '_i55', '_i56', '_i57', '_i58', '_i59', '_i6', '_i60', '_i61', '_i62', '_i63', '_i64', '_i65', '_i66', '_i67', '_i68', '_i69', '_i7', '_i70', '_i71', '_i72', '_i73', '_i74', '_i75', '_i76', '_i77', '_i78', '_i79', '_i8', '_i80', '_i81', '_i82', '_i83', '_i84', '_i85', '_i86', '_i87', '_i88', '_i89', '_i9', '_i90', '_i91', '_i92', '_i93', '_ih', '_ii', '_iii', '_oh', 'calculate', 'calculate_total_price', 'calculate_total_prize', 'char', 'count', 'create_student_profile', 'd', 'data_science', 'exit', 'food', 'get_formatted_name', 'get_ipython', 'hi_name', 'mak_mug', 'make_mug', 'message', 'myfunc', 'open', 'prepare_sadya', 'print_message', 'quit', 'repeated_count', 'sum', 'var']\n"
     ]
    }
   ],
   "source": [
    "att = dir()\n",
    "# Displaying result\n",
    "print(att)"
   ]
  },
  {
   "cell_type": "code",
   "execution_count": 106,
   "metadata": {},
   "outputs": [],
   "source": [
    "list2 = [1,2,3,4,2,1,3,3,6,5,4,1]"
   ]
  },
  {
   "cell_type": "code",
   "execution_count": 110,
   "metadata": {},
   "outputs": [
    {
     "data": {
      "text/plain": [
       "[1, 1, 1, 2, 2, 3, 3, 3, 4, 4, 5, 6]"
      ]
     },
     "execution_count": 110,
     "metadata": {},
     "output_type": "execute_result"
    }
   ],
   "source": [
    "sorted(list(reversed(list2)))"
   ]
  },
  {
   "cell_type": "code",
   "execution_count": 108,
   "metadata": {},
   "outputs": [],
   "source": [
    "list2.sort(reverse=True)"
   ]
  },
  {
   "cell_type": "code",
   "execution_count": 109,
   "metadata": {},
   "outputs": [
    {
     "data": {
      "text/plain": [
       "[6, 5, 4, 4, 3, 3, 3, 2, 2, 1, 1, 1]"
      ]
     },
     "execution_count": 109,
     "metadata": {},
     "output_type": "execute_result"
    }
   ],
   "source": [
    "list2"
   ]
  },
  {
   "cell_type": "code",
   "execution_count": 113,
   "metadata": {},
   "outputs": [
    {
     "name": "stdout",
     "output_type": "stream",
     "text": [
      "hai,25\n"
     ]
    }
   ],
   "source": [
    "s1=\"hai\"\n",
    "s=s1 +\",\"+str(25)\n",
    "print(s)"
   ]
  },
  {
   "cell_type": "code",
   "execution_count": 114,
   "metadata": {},
   "outputs": [
    {
     "data": {
      "text/plain": [
       "str"
      ]
     },
     "execution_count": 114,
     "metadata": {},
     "output_type": "execute_result"
    }
   ],
   "source": [
    "type(s1)"
   ]
  },
  {
   "cell_type": "code",
   "execution_count": null,
   "metadata": {},
   "outputs": [],
   "source": []
  }
 ],
 "metadata": {
  "kernelspec": {
   "display_name": "base",
   "language": "python",
   "name": "python3"
  },
  "language_info": {
   "codemirror_mode": {
    "name": "ipython",
    "version": 3
   },
   "file_extension": ".py",
   "mimetype": "text/x-python",
   "name": "python",
   "nbconvert_exporter": "python",
   "pygments_lexer": "ipython3",
   "version": "3.11.7"
  }
 },
 "nbformat": 4,
 "nbformat_minor": 2
}
