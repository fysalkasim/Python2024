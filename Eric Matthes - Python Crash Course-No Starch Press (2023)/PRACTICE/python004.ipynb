{
 "cells": [
  {
   "cell_type": "code",
   "execution_count": 2,
   "metadata": {},
   "outputs": [
    {
     "name": "stdout",
     "output_type": "stream",
     "text": [
      "The sum is: 30\n"
     ]
    }
   ],
   "source": [
    "def sum():\n",
    "    a = 10\n",
    "    b = 20\n",
    "    c = a+b\n",
    "    return c\n",
    "# calling sum() function in print statement\n",
    "print(\"The sum is:\",sum())\n"
   ]
  },
  {
   "cell_type": "code",
   "execution_count": 3,
   "metadata": {},
   "outputs": [
    {
     "data": {
      "text/plain": [
       "30"
      ]
     },
     "execution_count": 3,
     "metadata": {},
     "output_type": "execute_result"
    }
   ],
   "source": [
    "sum()"
   ]
  },
  {
   "cell_type": "code",
   "execution_count": 2,
   "metadata": {},
   "outputs": [],
   "source": [
    "def addition(a,b):\n",
    "    return a+b\n",
    "\n",
    "    \n"
   ]
  },
  {
   "cell_type": "code",
   "execution_count": 3,
   "metadata": {},
   "outputs": [
    {
     "name": "stdout",
     "output_type": "stream",
     "text": [
      "3\n"
     ]
    }
   ],
   "source": [
    "print(addition(1,2))"
   ]
  },
  {
   "cell_type": "code",
   "execution_count": 33,
   "metadata": {},
   "outputs": [],
   "source": [
    "def welcome():\n",
    "    '''Simply print a message to welcome the user'''\n",
    "    print(\"Hello user\")\n"
   ]
  },
  {
   "cell_type": "code",
   "execution_count": 34,
   "metadata": {},
   "outputs": [
    {
     "name": "stdout",
     "output_type": "stream",
     "text": [
      "Hello user\n"
     ]
    }
   ],
   "source": [
    "welcome()"
   ]
  },
  {
   "cell_type": "code",
   "execution_count": 8,
   "metadata": {},
   "outputs": [],
   "source": [
    "def data(column,datatype):\n",
    "    \"\"\"Print the data types\"\"\"\n",
    "    print(f\"The {column} is of {datatype} data type\")\n",
    "\n",
    "    "
   ]
  },
  {
   "cell_type": "code",
   "execution_count": 9,
   "metadata": {},
   "outputs": [
    {
     "name": "stdout",
     "output_type": "stream",
     "text": [
      "The Age is of integer data type\n"
     ]
    }
   ],
   "source": [
    "data(\"Age\",\"integer\")"
   ]
  },
  {
   "cell_type": "code",
   "execution_count": 14,
   "metadata": {},
   "outputs": [
    {
     "name": "stdout",
     "output_type": "stream",
     "text": [
      "The string is of name data type\n"
     ]
    }
   ],
   "source": [
    "data(\"string\",\"name\")"
   ]
  },
  {
   "cell_type": "code",
   "execution_count": 16,
   "metadata": {},
   "outputs": [
    {
     "name": "stdout",
     "output_type": "stream",
     "text": [
      "Hi fysal, welcome back\n"
     ]
    }
   ],
   "source": [
    "def welcome_user(name):\n",
    "    '''Print a personalized message'''\n",
    "    print(f\"Hi {name}, welcome back\")\n",
    "welcome_user(\"fysal\")"
   ]
  },
  {
   "cell_type": "code",
   "execution_count": 18,
   "metadata": {},
   "outputs": [
    {
     "name": "stdout",
     "output_type": "stream",
     "text": [
      "interstellar is one of my favorite movie \n"
     ]
    }
   ],
   "source": [
    "def favourit_movie(movie):\n",
    "    '''Printing the favorite movie name'''\n",
    "    print(f\"{movie} is one of my favorite movie \")\n",
    "favourit_movie(\"interstellar\")"
   ]
  },
  {
   "cell_type": "code",
   "execution_count": 19,
   "metadata": {},
   "outputs": [],
   "source": [
    "def describe_vehicle(vehicle_type,vehicle_name):\n",
    "    \"\"\"Describing about the vehicle\"\"\"\n",
    "    print(f\"I have {vehicle_type}\")\n",
    "    print(F\"my {vehicle_type}'s name is {vehicle_name}\")"
   ]
  },
  {
   "cell_type": "code",
   "execution_count": 23,
   "metadata": {},
   "outputs": [
    {
     "name": "stdout",
     "output_type": "stream",
     "text": [
      "I have Car\n",
      "my Car's name is BMW\n"
     ]
    }
   ],
   "source": [
    "describe_vehicle(\"Car\",\"BMW\")"
   ]
  },
  {
   "cell_type": "code",
   "execution_count": 24,
   "metadata": {},
   "outputs": [
    {
     "name": "stdout",
     "output_type": "stream",
     "text": [
      "I have Nano\n",
      "my Nano's name is Car\n"
     ]
    }
   ],
   "source": [
    "describe_vehicle(\"Nano\",\"Car\")"
   ]
  },
  {
   "cell_type": "code",
   "execution_count": null,
   "metadata": {},
   "outputs": [],
   "source": [
    "vehicle_type:sedan\n",
    "vehicle_name:bmw"
   ]
  },
  {
   "cell_type": "code",
   "execution_count": 27,
   "metadata": {},
   "outputs": [
    {
     "name": "stdout",
     "output_type": "stream",
     "text": [
      "I have sedan\n",
      "my sedan's name is bmw\n"
     ]
    }
   ],
   "source": [
    "describe_vehicle(vehicle_type=\"sedan\",vehicle_name=\"bmw\")\n"
   ]
  },
  {
   "cell_type": "code",
   "execution_count": 28,
   "metadata": {},
   "outputs": [
    {
     "name": "stdout",
     "output_type": "stream",
     "text": [
      "I have Bus\n",
      "my Bus's name is S6\n"
     ]
    }
   ],
   "source": [
    "describe_vehicle(vehicle_name=\"S6\",vehicle_type=\"Bus\")"
   ]
  },
  {
   "cell_type": "code",
   "execution_count": 52,
   "metadata": {},
   "outputs": [],
   "source": [
    "def calculate_total_prize(prize,quantity):\n",
    "    \"\"\"The function should return the total price for the given quantity of\n",
    "items\"\"\"\n",
    "    return prize*quantity\n"
   ]
  },
  {
   "cell_type": "code",
   "execution_count": 53,
   "metadata": {},
   "outputs": [
    {
     "data": {
      "text/plain": [
       "50"
      ]
     },
     "execution_count": 53,
     "metadata": {},
     "output_type": "execute_result"
    }
   ],
   "source": [
    "p1 = 5\n",
    "q1 =10\n",
    "\n",
    "calculate_total_prize(p1,q1)"
   ]
  },
  {
   "cell_type": "code",
   "execution_count": 46,
   "metadata": {},
   "outputs": [
    {
     "name": "stdout",
     "output_type": "stream",
     "text": [
      "2\n"
     ]
    }
   ],
   "source": [
    "var = \"Helloo\"\n",
    "count = {}\n",
    "\n",
    "# Loop through each character\n",
    "for char in var:\n",
    "    if char in count:\n",
    "        count[char] += 1\n",
    "    else:\n",
    "        count[char] = 1\n",
    "\n",
    "# Find repeated characters\n",
    "repeated_count = 0\n",
    "for char in count:\n",
    "    if count[char] > 1:\n",
    "        repeated_count += 1\n",
    "\n",
    "print(repeated_count)\n",
    "        \n"
   ]
  },
  {
   "cell_type": "code",
   "execution_count": null,
   "metadata": {},
   "outputs": [],
   "source": []
  }
 ],
 "metadata": {
  "kernelspec": {
   "display_name": "base",
   "language": "python",
   "name": "python3"
  },
  "language_info": {
   "codemirror_mode": {
    "name": "ipython",
    "version": 3
   },
   "file_extension": ".py",
   "mimetype": "text/x-python",
   "name": "python",
   "nbconvert_exporter": "python",
   "pygments_lexer": "ipython3",
   "version": "3.11.7"
  }
 },
 "nbformat": 4,
 "nbformat_minor": 2
}
