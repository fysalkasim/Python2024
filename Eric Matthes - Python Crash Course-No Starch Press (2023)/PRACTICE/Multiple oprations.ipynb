{
 "cells": [
  {
   "cell_type": "code",
   "execution_count": 1,
   "metadata": {},
   "outputs": [
    {
     "data": {
      "text/plain": [
       "True"
      ]
     },
     "execution_count": 1,
     "metadata": {},
     "output_type": "execute_result"
    }
   ],
   "source": [
    "name =  \"Akshay\"\n",
    "\"A\" in name"
   ]
  },
  {
   "cell_type": "code",
   "execution_count": 4,
   "metadata": {},
   "outputs": [
    {
     "data": {
      "text/plain": [
       "True"
      ]
     },
     "execution_count": 4,
     "metadata": {},
     "output_type": "execute_result"
    }
   ],
   "source": [
    "\"Y\" not in name"
   ]
  },
  {
   "cell_type": "code",
   "execution_count": 6,
   "metadata": {},
   "outputs": [],
   "source": [
    "str = \"Hello\"\n",
    "str1 = \" world\"\n"
   ]
  },
  {
   "cell_type": "code",
   "execution_count": 21,
   "metadata": {},
   "outputs": [
    {
     "name": "stdout",
     "output_type": "stream",
     "text": [
      "HelloHelloHello\n",
      "Hello world\n",
      "o\n",
      "ll\n",
      "False\n",
      "False\n",
      "C:\\\\python37\n",
      "The string str : Hello and str1: world\n"
     ]
    }
   ],
   "source": [
    "print(str*3)  #prints HelloHelloHello\n",
    "print(str+str1) #prints Hello world\n",
    "print(str[4])  #prints o\n",
    "print(str[2:4]) #prints ll\n",
    "print('w' in str) #prints false as w is not present in str\n",
    "print('wo' not in str1) # prints false as wo is present in str1.\n",
    "print(r'C:\\\\python37') # prints C://python37 as it is written\n",
    "print(\"The string str : %s and str1:%s\" % (str,str1)) # prints The\n",
    "# string str : Hello"
   ]
  },
  {
   "cell_type": "code",
   "execution_count": 40,
   "metadata": {},
   "outputs": [
    {
     "name": "stdout",
     "output_type": "stream",
     "text": [
      "They said,\"Hello what's going on?\n"
     ]
    }
   ],
   "source": [
    "str = \"They said,\\\"Hello what's going on?\" #error\n",
    "print(str)"
   ]
  },
  {
   "cell_type": "code",
   "execution_count": 44,
   "metadata": {},
   "outputs": [
    {
     "name": "stdout",
     "output_type": "stream",
     "text": [
      "Python1Python2Python3\n"
     ]
    }
   ],
   "source": [
    "print(\"Python1\\\n",
    "Python2\\\n",
    "Python3\")"
   ]
  },
  {
   "cell_type": "code",
   "execution_count": 49,
   "metadata": {},
   "outputs": [
    {
     "name": "stdout",
     "output_type": "stream",
     "text": [
      "HelloWorld\n"
     ]
    }
   ],
   "source": [
    "print(\"Hello \\bWorld\")"
   ]
  },
  {
   "cell_type": "code",
   "execution_count": 58,
   "metadata": {},
   "outputs": [
    {
     "name": "stdout",
     "output_type": "stream",
     "text": [
      "Integer: 10\n",
      "Float:1.290000\n",
      "String:Devansh\n"
     ]
    }
   ],
   "source": [
    "var1 = 10\n",
    "var2 = 1.290\n",
    "var3 = \"Devansh\"\n",
    "print(\"Integer: %d\\nFloat:%f\\nString:%s\" % (var1,var2,var3))"
   ]
  }
 ],
 "metadata": {
  "kernelspec": {
   "display_name": "base",
   "language": "python",
   "name": "python3"
  },
  "language_info": {
   "codemirror_mode": {
    "name": "ipython",
    "version": 3
   },
   "file_extension": ".py",
   "mimetype": "text/x-python",
   "name": "python",
   "nbconvert_exporter": "python",
   "pygments_lexer": "ipython3",
   "version": "3.11.7"
  }
 },
 "nbformat": 4,
 "nbformat_minor": 2
}
