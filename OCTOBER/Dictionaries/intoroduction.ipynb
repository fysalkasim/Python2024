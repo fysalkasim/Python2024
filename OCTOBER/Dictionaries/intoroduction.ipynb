{
 "cells": [
  {
   "cell_type": "code",
   "execution_count": 1,
   "metadata": {},
   "outputs": [],
   "source": [
    "thisdict = {\n",
    "    \"Name\":\"M41\",\n",
    "    \"Year\": 2024,\n",
    "    \"Month\": \"November\"}"
   ]
  },
  {
   "cell_type": "code",
   "execution_count": 2,
   "metadata": {},
   "outputs": [
    {
     "data": {
      "text/plain": [
       "'M41'"
      ]
     },
     "execution_count": 2,
     "metadata": {},
     "output_type": "execute_result"
    }
   ],
   "source": [
    "thisdict[\"Name\"]"
   ]
  },
  {
   "cell_type": "code",
   "execution_count": 6,
   "metadata": {},
   "outputs": [
    {
     "data": {
      "text/plain": [
       "2024"
      ]
     },
     "execution_count": 6,
     "metadata": {},
     "output_type": "execute_result"
    }
   ],
   "source": [
    "thisdict[\"Year\"]"
   ]
  },
  {
   "cell_type": "code",
   "execution_count": 7,
   "metadata": {},
   "outputs": [],
   "source": [
    "thisdict[\"Month\"] = \"December\""
   ]
  },
  {
   "cell_type": "code",
   "execution_count": 8,
   "metadata": {},
   "outputs": [
    {
     "data": {
      "text/plain": [
       "dict_values(['M41', 2024, 'December'])"
      ]
     },
     "execution_count": 8,
     "metadata": {},
     "output_type": "execute_result"
    }
   ],
   "source": [
    "thisdict.values()"
   ]
  },
  {
   "cell_type": "code",
   "execution_count": 9,
   "metadata": {},
   "outputs": [],
   "source": [
    "my_dict = {'a':1,'b':2,'c':3,'d':4}"
   ]
  },
  {
   "cell_type": "code",
   "execution_count": 10,
   "metadata": {},
   "outputs": [],
   "source": [
    "a = list(my_dict)"
   ]
  },
  {
   "cell_type": "code",
   "execution_count": 11,
   "metadata": {},
   "outputs": [
    {
     "data": {
      "text/plain": [
       "['a', 'b', 'c', 'd']"
      ]
     },
     "execution_count": 11,
     "metadata": {},
     "output_type": "execute_result"
    }
   ],
   "source": [
    "a"
   ]
  },
  {
   "cell_type": "code",
   "execution_count": 12,
   "metadata": {},
   "outputs": [],
   "source": [
    "sub = {k:my_dict[k] for k in list(my_dict)[:2]}"
   ]
  },
  {
   "cell_type": "code",
   "execution_count": 13,
   "metadata": {},
   "outputs": [
    {
     "data": {
      "text/plain": [
       "{'a': 1, 'b': 2}"
      ]
     },
     "execution_count": 13,
     "metadata": {},
     "output_type": "execute_result"
    }
   ],
   "source": [
    "sub"
   ]
  },
  {
   "cell_type": "code",
   "execution_count": null,
   "metadata": {},
   "outputs": [],
   "source": []
  },
  {
   "cell_type": "code",
   "execution_count": null,
   "metadata": {},
   "outputs": [],
   "source": []
  },
  {
   "cell_type": "code",
   "execution_count": 14,
   "metadata": {},
   "outputs": [
    {
     "name": "stdout",
     "output_type": "stream",
     "text": [
      "4\n"
     ]
    }
   ],
   "source": [
    "print(len(my_dict))"
   ]
  },
  {
   "cell_type": "code",
   "execution_count": 15,
   "metadata": {},
   "outputs": [
    {
     "data": {
      "text/plain": [
       "{'a': 1, 'b': 2, 'c': 3, 'd': 4}"
      ]
     },
     "execution_count": 15,
     "metadata": {},
     "output_type": "execute_result"
    }
   ],
   "source": [
    "my_dict"
   ]
  },
  {
   "cell_type": "code",
   "execution_count": 16,
   "metadata": {},
   "outputs": [
    {
     "data": {
      "text/plain": [
       "1"
      ]
     },
     "execution_count": 16,
     "metadata": {},
     "output_type": "execute_result"
    }
   ],
   "source": [
    "my_dict[\"a\"]"
   ]
  },
  {
   "cell_type": "code",
   "execution_count": 19,
   "metadata": {},
   "outputs": [
    {
     "data": {
      "text/plain": [
       "1"
      ]
     },
     "execution_count": 19,
     "metadata": {},
     "output_type": "execute_result"
    }
   ],
   "source": [
    "my_dict.get(\"a\")"
   ]
  },
  {
   "cell_type": "code",
   "execution_count": null,
   "metadata": {},
   "outputs": [],
   "source": [
    "my_dict.get('x')    #will not produce error"
   ]
  },
  {
   "cell_type": "code",
   "execution_count": 21,
   "metadata": {},
   "outputs": [
    {
     "data": {
      "text/plain": [
       "dict_keys(['a', 'b', 'c', 'd'])"
      ]
     },
     "execution_count": 21,
     "metadata": {},
     "output_type": "execute_result"
    }
   ],
   "source": [
    "my_dict.keys()"
   ]
  },
  {
   "cell_type": "code",
   "execution_count": 22,
   "metadata": {},
   "outputs": [
    {
     "name": "stdout",
     "output_type": "stream",
     "text": [
      "a\n",
      "b\n",
      "c\n",
      "d\n"
     ]
    }
   ],
   "source": [
    "for i in my_dict:\n",
    "    print(i)"
   ]
  },
  {
   "cell_type": "code",
   "execution_count": 23,
   "metadata": {},
   "outputs": [
    {
     "name": "stdout",
     "output_type": "stream",
     "text": [
      "1\n",
      "2\n",
      "3\n",
      "4\n"
     ]
    }
   ],
   "source": [
    "for j in my_dict.values():\n",
    "    print(j)"
   ]
  },
  {
   "cell_type": "code",
   "execution_count": 24,
   "metadata": {},
   "outputs": [
    {
     "name": "stdout",
     "output_type": "stream",
     "text": [
      "('a', 1)\n",
      "('b', 2)\n",
      "('c', 3)\n",
      "('d', 4)\n"
     ]
    }
   ],
   "source": [
    "for i in my_dict.items():\n",
    "    print(i)"
   ]
  },
  {
   "cell_type": "code",
   "execution_count": 25,
   "metadata": {},
   "outputs": [
    {
     "name": "stdout",
     "output_type": "stream",
     "text": [
      "a\n",
      "1\n",
      "b\n",
      "2\n",
      "c\n",
      "3\n",
      "d\n",
      "4\n"
     ]
    }
   ],
   "source": [
    "for i, j in my_dict.items():\n",
    "    print(i)\n",
    "    print(j)"
   ]
  },
  {
   "cell_type": "code",
   "execution_count": 26,
   "metadata": {},
   "outputs": [
    {
     "name": "stdout",
     "output_type": "stream",
     "text": [
      "There is an a\n"
     ]
    }
   ],
   "source": [
    "if \"a\" in my_dict:\n",
    "    print(\"There is an a\")\n"
   ]
  },
  {
   "cell_type": "code",
   "execution_count": 27,
   "metadata": {},
   "outputs": [
    {
     "name": "stdout",
     "output_type": "stream",
     "text": [
      "There is no z\n"
     ]
    }
   ],
   "source": [
    "if \"z\" in my_dict:\n",
    "    print(\"There is an z\")\n",
    "else:\n",
    "    print(\"There is no z\")"
   ]
  },
  {
   "cell_type": "code",
   "execution_count": 28,
   "metadata": {},
   "outputs": [],
   "source": [
    "my_dict.update(thisdict)"
   ]
  },
  {
   "cell_type": "code",
   "execution_count": 30,
   "metadata": {},
   "outputs": [],
   "source": [
    "my_dict2 = {\n",
    "    \"a\":5,\n",
    "}"
   ]
  },
  {
   "cell_type": "code",
   "execution_count": 31,
   "metadata": {},
   "outputs": [
    {
     "data": {
      "text/plain": [
       "{'a': 5,\n",
       " 'b': 2,\n",
       " 'c': 3,\n",
       " 'd': 4,\n",
       " 'Name': 'M41',\n",
       " 'Year': 2024,\n",
       " 'Month': 'December'}"
      ]
     },
     "execution_count": 31,
     "metadata": {},
     "output_type": "execute_result"
    }
   ],
   "source": [
    "my_dict.update(my_dict2)\n",
    "my_dict"
   ]
  },
  {
   "cell_type": "code",
   "execution_count": 55,
   "metadata": {},
   "outputs": [],
   "source": [
    "my_dict.update(((\"f\",\"d\"),(\"G\",\"s\")))"
   ]
  },
  {
   "cell_type": "code",
   "execution_count": 56,
   "metadata": {},
   "outputs": [
    {
     "data": {
      "text/plain": [
       "{'a': 5,\n",
       " 'b': 2,\n",
       " 'c': 3,\n",
       " 'd': 4,\n",
       " 'Name': 'M41',\n",
       " 'Year': 2024,\n",
       " 'Month': 'December',\n",
       " 'f': 'd',\n",
       " 'G': 's'}"
      ]
     },
     "execution_count": 56,
     "metadata": {},
     "output_type": "execute_result"
    }
   ],
   "source": [
    "my_dict"
   ]
  },
  {
   "cell_type": "code",
   "execution_count": 75,
   "metadata": {},
   "outputs": [],
   "source": [
    "names = []\n",
    "marks = []\n",
    "for i in range(5):\n",
    "    names.append(input(\"Enter the name: \"))\n",
    "    marks.append(input(\"Enter your marks\"))\n",
    "pair = zip(names,marks)\n",
    "\n"
   ]
  },
  {
   "cell_type": "code",
   "execution_count": null,
   "metadata": {},
   "outputs": [
    {
     "data": {
      "text/plain": [
       "[]"
      ]
     },
     "execution_count": 74,
     "metadata": {},
     "output_type": "execute_result"
    }
   ],
   "source": [
    "# list(pair)   #it will be exhausted after when we use again "
   ]
  },
  {
   "cell_type": "code",
   "execution_count": 76,
   "metadata": {},
   "outputs": [],
   "source": [
    "autonm = dict(pair)"
   ]
  },
  {
   "cell_type": "code",
   "execution_count": 77,
   "metadata": {},
   "outputs": [
    {
     "data": {
      "text/plain": [
       "{'a': '1', 'b': '2', 'c': '3', 'd': '4', 'e': '5'}"
      ]
     },
     "execution_count": 77,
     "metadata": {},
     "output_type": "execute_result"
    }
   ],
   "source": [
    "autonm"
   ]
  },
  {
   "cell_type": "code",
   "execution_count": 82,
   "metadata": {},
   "outputs": [],
   "source": [
    "names_scores = []\n",
    "# marks = []\n",
    "for i in range(5):\n",
    "    nm = (input(\"Enter the name: \"))\n",
    "    names_scores.append(nm)\n",
    "    names_scores.append(input(f\"Now,! {nm} what is your marks: \"))\n",
    "    # marks.append(input(\"Enter your marks\"))\n",
    "# pair = zip(names,marks)\n",
    "\n"
   ]
  },
  {
   "cell_type": "code",
   "execution_count": 86,
   "metadata": {},
   "outputs": [
    {
     "data": {
      "text/plain": [
       "['fysal', '10', 'abin', '50', 'gokul', '150', 'mubi', '49', 'abi', '98']"
      ]
     },
     "execution_count": 86,
     "metadata": {},
     "output_type": "execute_result"
    }
   ],
   "source": [
    "names_scores"
   ]
  },
  {
   "cell_type": "code",
   "execution_count": 89,
   "metadata": {},
   "outputs": [],
   "source": [
    "s = dict(zip(names_scores[::2],names_scores[1::2]))"
   ]
  },
  {
   "cell_type": "code",
   "execution_count": 90,
   "metadata": {},
   "outputs": [
    {
     "data": {
      "text/plain": [
       "{'fysal': '10', 'abin': '50', 'gokul': '150', 'mubi': '49', 'abi': '98'}"
      ]
     },
     "execution_count": 90,
     "metadata": {},
     "output_type": "execute_result"
    }
   ],
   "source": [
    "s"
   ]
  },
  {
   "cell_type": "code",
   "execution_count": 95,
   "metadata": {},
   "outputs": [],
   "source": [
    "d = {names_scores[i]:names_scores[i+1] for i in range(0,len(names_scores),2)}"
   ]
  },
  {
   "cell_type": "code",
   "execution_count": 96,
   "metadata": {},
   "outputs": [
    {
     "data": {
      "text/plain": [
       "{'fysal': '10', 'abin': '50', 'gokul': '150', 'mubi': '49', 'abi': '98'}"
      ]
     },
     "execution_count": 96,
     "metadata": {},
     "output_type": "execute_result"
    }
   ],
   "source": [
    "d"
   ]
  },
  {
   "cell_type": "code",
   "execution_count": 97,
   "metadata": {},
   "outputs": [
    {
     "data": {
      "text/plain": [
       "('abi', '98')"
      ]
     },
     "execution_count": 97,
     "metadata": {},
     "output_type": "execute_result"
    }
   ],
   "source": [
    "d.popitem()"
   ]
  },
  {
   "cell_type": "code",
   "execution_count": 98,
   "metadata": {},
   "outputs": [
    {
     "data": {
      "text/plain": [
       "{'fysal': '10', 'abin': '50', 'gokul': '150', 'mubi': '49'}"
      ]
     },
     "execution_count": 98,
     "metadata": {},
     "output_type": "execute_result"
    }
   ],
   "source": [
    "d"
   ]
  },
  {
   "cell_type": "code",
   "execution_count": 100,
   "metadata": {},
   "outputs": [
    {
     "data": {
      "text/plain": [
       "'10'"
      ]
     },
     "execution_count": 100,
     "metadata": {},
     "output_type": "execute_result"
    }
   ],
   "source": [
    "d.pop(\"fysal\")"
   ]
  },
  {
   "cell_type": "code",
   "execution_count": 101,
   "metadata": {},
   "outputs": [
    {
     "data": {
      "text/plain": [
       "{'abin': '50', 'gokul': '150', 'mubi': '49'}"
      ]
     },
     "execution_count": 101,
     "metadata": {},
     "output_type": "execute_result"
    }
   ],
   "source": [
    "d"
   ]
  },
  {
   "cell_type": "code",
   "execution_count": null,
   "metadata": {},
   "outputs": [],
   "source": []
  },
  {
   "cell_type": "code",
   "execution_count": null,
   "metadata": {},
   "outputs": [],
   "source": []
  },
  {
   "cell_type": "code",
   "execution_count": null,
   "metadata": {},
   "outputs": [],
   "source": []
  },
  {
   "cell_type": "code",
   "execution_count": null,
   "metadata": {},
   "outputs": [],
   "source": [
    "def getCount(numbers):\n",
    "    new_list = []\n",
    "    if len(numbers)>0:\n",
    "        for n in numbers:\n",
    "            if numbers.count(n) > 1 and (n not in new_list):\n",
    "                new_list.append(n)\n",
    "    new_dict = {}\n",
    "    for i in new_list:\n",
    "        new_dict.update({i : numbers.count(i)})\n",
    "    print(new_dict)"
   ]
  },
  {
   "cell_type": "code",
   "execution_count": null,
   "metadata": {},
   "outputs": [],
   "source": [
    "number_list = [2,1,2,2,3,5,8,6,4,5,5,8,8,8]\n",
    "mm.getCount(number_list)"
   ]
  },
  {
   "cell_type": "code",
   "execution_count": 3,
   "metadata": {},
   "outputs": [],
   "source": [
    "def unique_numbers(num):\n",
    "    count={}\n",
    "    for i in num:\n",
    "        if i in count:\n",
    "            count[i]+=1\n",
    "        else:\n",
    "            count[i]=1\n",
    "    return count"
   ]
  },
  {
   "cell_type": "code",
   "execution_count": 4,
   "metadata": {},
   "outputs": [
    {
     "name": "stdout",
     "output_type": "stream",
     "text": [
      "{1: 2, 2: 1, 3: 3, 4: 3, 5: 1, 6: 1}\n"
     ]
    }
   ],
   "source": [
    "number=[1,1,2,3,4,3,4,5,6,4,3]\n",
    "x=unique_numbers(number)\n",
    "print(x)"
   ]
  },
  {
   "cell_type": "code",
   "execution_count": null,
   "metadata": {},
   "outputs": [],
   "source": [
    "# temp_in_celsius = input(\"Enter temperature in celsius : \")\n",
    "# try:\n",
    "#     if temp_in_celsius.isdigit():\n",
    "#         temp_in_fahrenheit = (float(temp_in_celsius) * 9/5) + 32\n",
    "#         print(f\"The temperature in Fahrenheit is : {temp_in_fahrenheit}\")\n",
    "#     else:\n",
    "#         raise ValueError      \n",
    "# except ValueError as ve:\n",
    "#     print(\"Acces denied\")"
   ]
  },
  {
   "cell_type": "code",
   "execution_count": 2,
   "metadata": {},
   "outputs": [],
   "source": [
    "thislist = [1,2,3,4,5]\n",
    "\n",
    "result = list(map(lambda a : a**2,thislist))"
   ]
  },
  {
   "cell_type": "code",
   "execution_count": 3,
   "metadata": {},
   "outputs": [
    {
     "name": "stdout",
     "output_type": "stream",
     "text": [
      "[1, 4, 9, 16, 25]\n"
     ]
    }
   ],
   "source": [
    "print(result)"
   ]
  },
  {
   "cell_type": "code",
   "execution_count": null,
   "metadata": {},
   "outputs": [
    {
     "name": "stdout",
     "output_type": "stream",
     "text": [
      "Stay hydrated\n"
     ]
    }
   ],
   "source": [
    "city= input(\"Enter the name of the city:\")\n",
    "temp = int(input(\"Enter the temperature in celsius:\"))\n",
    "if temp < 0:\n",
    "    print(\"Wear a jacket\")\n",
    "elif temp > 0 and temp < 25:\n",
    "    print(\"Enjoy the mild weather\")\n",
    "else:\n",
    "    print(\"Stay hydrated\")"
   ]
  },
  {
   "cell_type": "code",
   "execution_count": null,
   "metadata": {},
   "outputs": [
    {
     "name": "stdout",
     "output_type": "stream",
     "text": [
      "Total cost exceeded!!\n",
      "Total cost =  1050\n",
      "['rice', 'tea', 'breads', 'chaya']\n",
      "Deleted item = chaya\n",
      "['breads', 'rice', 'tea']\n"
     ]
    }
   ],
   "source": [
    "list_item =[]\n",
    "cost_item = []\n",
    "tot_cost = 0\n",
    "budget = int(input(\"Enter the budget:\"))\n",
    "while budget >= tot_cost:\n",
    "    items = input(\"Enter the items:\")\n",
    "    list_item.append(items)\n",
    "    cost = int(input(\"Enter the cost:\"))\n",
    "    cost_item.append(cost)\n",
    "    tot_cost = tot_cost+cost\n",
    "else:\n",
    "    print(\"Total cost exceeded!!\")\n",
    "    print(\"Total cost = \",tot_cost)\n",
    "if tot_cost > budget:\n",
    "    rem = input(\"Do you want to delete product:\")\n",
    "    if rem == \"yes\":\n",
    "        print(list_item)\n",
    "        ind = int(input(\"Enter the number corresponding to the item you want to delete:\"))\n",
    "        delted_item = list_item.pop(ind-1)\n",
    "        delted_cost = cost_item.pop(ind-1)\n",
    "        tot_cost -= delted_cost\n",
    "        print(\"Deleted item =\",delted_item)\n",
    "        list_item.sort()\n",
    "        print(list_item)\n",
    "    else:\n",
    "        print(\"Budget exceeded\")\n",
    "        list_item.sort()\n",
    "        print(list_item)\n",
    "\n",
    "else:\n",
    "    print(\"Total cost = \",tot_cost)\n",
    "    list_item.sort()\n",
    "    print(list_item)"
   ]
  },
  {
   "cell_type": "code",
   "execution_count": 4,
   "metadata": {},
   "outputs": [
    {
     "name": "stdout",
     "output_type": "stream",
     "text": [
      "[45, 500, 450]\n"
     ]
    }
   ],
   "source": [
    "print(cost_item)"
   ]
  },
  {
   "cell_type": "code",
   "execution_count": 5,
   "metadata": {},
   "outputs": [
    {
     "name": "stdout",
     "output_type": "stream",
     "text": [
      "995\n"
     ]
    }
   ],
   "source": [
    "print(tot_cost)"
   ]
  },
  {
   "cell_type": "code",
   "execution_count": null,
   "metadata": {},
   "outputs": [],
   "source": [
    "taskss=[]\n",
    "completed =[]\n",
    "no_tasks = int(input(\"Enter the total number of tasks:\"))\n",
    "for i in range(1,no_tasks+1):\n",
    "    print(\"Task number=\",i)\n",
    "    tasks =input(\"Enter the task:\")\n",
    "    taskss.append(tasks)\n",
    "print(\"Tasks=\",taskss)\n",
    "while True:\n",
    "    no_completed= int(input(\"Enter the number of tasks that has been complete:\"))\n",
    "    for i in range(1,no_completed+1):\n",
    "        tas1 = int(input(\"Enter the index number of task=\"))\n",
    "        tas1_name=taskss[tas1]\n",
    "        print(tas1_name)\n",
    "        completed.append(tas1_name)\n",
    "    print(\"Completed task=\",completed)\n",
    "    break\n",
    "while True:\n",
    "    no_deleted= int(input(\"Enter the number of tasks that need to be deleted:\"))\n",
    "    for i in range(1,no_deleted+1):\n",
    "        del_tot = int(input(\"Enter the index number of task to be deleted=\"))\n",
    "        tas1_del=taskss[del_tot]\n",
    "        print(tas1_del)\n",
    "        taskss.pop(del_tot)     \n",
    "        if tas1_del in completed:\n",
    "            completed.pop(del_tot)\n",
    "        print(\"Remaining list =\",taskss)\n",
    "    break\n",
    "print(\"All tasks:\\n\",taskss)\n",
    "print(\"Completed tasks:\\n\",completed)\n",
    "\n"
   ]
  },
  {
   "cell_type": "code",
   "execution_count": 12,
   "metadata": {},
   "outputs": [
    {
     "name": "stdout",
     "output_type": "stream",
     "text": [
      "Sum= 15\n",
      "Difference= -5\n",
      "Product= 50\n",
      "Remainder= 5\n",
      "5+10 = 15\n",
      "5-10 = -5\n",
      "5*10 = 50\n",
      "5%10 = 5\n"
     ]
    }
   ],
   "source": [
    "history =[]\n",
    "num1 = int(input(\"Enter the first number:\"))\n",
    "num2 = int(input(\"Enter the second number:\"))\n",
    "while True:\n",
    "    op = input(\"Enter the operation(+,-,*,/,%):\")\n",
    "    if op == '+':\n",
    "        sum = num1 + num2\n",
    "        print(\"Sum=\",sum)\n",
    "        history.append(f\"{num1}{op}{num2} = {sum}\")\n",
    "    elif op == '-':\n",
    "        diff = num1-num2\n",
    "        print(\"Difference=\",diff)\n",
    "        history.append(f\"{num1}{op}{num2} = {diff}\")\n",
    "    elif op == '*':\n",
    "        prod = num1*num2\n",
    "        print(\"Product=\",prod)\n",
    "        history.append(f\"{num1}{op}{num2} = {prod}\")\n",
    "    elif op == '/':\n",
    "        quot = num1/num2\n",
    "        print(\"Quotient=\",quot)\n",
    "        history.append(f\"{num1}{op}{num2} = {quot}\")\n",
    "    elif op == '%':\n",
    "        rem = num1%num2\n",
    "        print(\"Remainder=\",rem)\n",
    "        history.append(f\"{num1}{op}{num2} = {rem}\")\n",
    "    elif op == \"history\":\n",
    "        print(history)\n",
    "    else:\n",
    "        break\n",
    "for i in history:\n",
    "    print(i)"
   ]
  },
  {
   "cell_type": "code",
   "execution_count": null,
   "metadata": {},
   "outputs": [],
   "source": []
  }
 ],
 "metadata": {
  "kernelspec": {
   "display_name": "base",
   "language": "python",
   "name": "python3"
  },
  "language_info": {
   "codemirror_mode": {
    "name": "ipython",
    "version": 3
   },
   "file_extension": ".py",
   "mimetype": "text/x-python",
   "name": "python",
   "nbconvert_exporter": "python",
   "pygments_lexer": "ipython3",
   "version": "3.11.7"
  }
 },
 "nbformat": 4,
 "nbformat_minor": 2
}
