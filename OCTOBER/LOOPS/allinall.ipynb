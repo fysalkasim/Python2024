{
 "cells": [
  {
   "cell_type": "code",
   "execution_count": 1,
   "metadata": {},
   "outputs": [],
   "source": [
    "words = [\"Python\", \"programming\", \"is\", \"both\", \"fun\", \"and\", \"educational\"]"
   ]
  },
  {
   "cell_type": "code",
   "execution_count": 18,
   "metadata": {},
   "outputs": [
    {
     "name": "stdout",
     "output_type": "stream",
     "text": [
      "programming 11\n"
     ]
    }
   ],
   "source": [
    "length = 0\n",
    "word = []\n",
    "for i in words:\n",
    "    if len(i) > length:\n",
    "        length = len(i)\n",
    "        word = i\n",
    "print(word, length)\n"
   ]
  },
  {
   "cell_type": "code",
   "execution_count": null,
   "metadata": {},
   "outputs": [
    {
     "data": {
      "text/plain": [
       "{'Python': 6,\n",
       " 'programming': 11,\n",
       " 'is': 2,\n",
       " 'both': 4,\n",
       " 'fun': 3,\n",
       " 'and': 3,\n",
       " 'educational': 11}"
      ]
     },
     "execution_count": 20,
     "metadata": {},
     "output_type": "execute_result"
    }
   ],
   "source": [
    "wordlen = {}\n",
    "for i in words:\n",
    "    wordlen[i] = len(i)\n",
    "for i in wordlen.values:\n",
    "    "
   ]
  },
  {
   "cell_type": "code",
   "execution_count": 26,
   "metadata": {},
   "outputs": [
    {
     "name": "stdout",
     "output_type": "stream",
     "text": [
      "The longest word(s): ['programming', 'educational'] Have length of 11\n"
     ]
    }
   ],
   "source": [
    "words = [\"Python\", \"programming\", \"is\", \"both\", \"fun\", \"and\", \"educational\"]\n",
    "longest_words = []\n",
    "max_length = 0\n",
    "\n",
    "for word in words:\n",
    "    if len(word) > max_length:\n",
    "        max_length = len(word)\n",
    "        longest_words = [word]  # Start a new list with the current word\n",
    "    elif len(word) == max_length:\n",
    "        longest_words.append(word)  # Add the word if it matches the max length\n",
    "\n",
    "print(\"The longest word(s):\", longest_words, \"Have length of\", max_length)\n"
   ]
  },
  {
   "cell_type": "code",
   "execution_count": 38,
   "metadata": {},
   "outputs": [
    {
     "name": "stdout",
     "output_type": "stream",
     "text": [
      "    *\n",
      "   ***\n",
      "  *****\n",
      " *******\n",
      "*********\n"
     ]
    }
   ],
   "source": [
    "n = 5  # Number of rows\n",
    "for i in range(1, n + 1):\n",
    "    print(' ' * (n - i) + '*' * (2 * i - 1))\n"
   ]
  },
  {
   "cell_type": "code",
   "execution_count": null,
   "metadata": {},
   "outputs": [],
   "source": []
  }
 ],
 "metadata": {
  "kernelspec": {
   "display_name": "base",
   "language": "python",
   "name": "python3"
  },
  "language_info": {
   "codemirror_mode": {
    "name": "ipython",
    "version": 3
   },
   "file_extension": ".py",
   "mimetype": "text/x-python",
   "name": "python",
   "nbconvert_exporter": "python",
   "pygments_lexer": "ipython3",
   "version": "3.11.7"
  }
 },
 "nbformat": 4,
 "nbformat_minor": 2
}
