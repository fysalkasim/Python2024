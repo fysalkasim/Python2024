{
 "cells": [
  {
   "cell_type": "code",
   "execution_count": 3,
   "metadata": {},
   "outputs": [
    {
     "name": "stdout",
     "output_type": "stream",
     "text": [
      "John\n"
     ]
    }
   ],
   "source": [
    "class Employee:\n",
    "    id = 10\n",
    "    name = \"John\"\n",
    "    def display(self):\n",
    "        print(self.name)\n",
    "    # Creating a emp instance of Employee class\n",
    "\n",
    "emp = Employee()\n",
    "emp.display()"
   ]
  },
  {
   "cell_type": "code",
   "execution_count": 4,
   "metadata": {},
   "outputs": [
    {
     "name": "stdout",
     "output_type": "stream",
     "text": [
      "destination\n",
      "date\n",
      "price\n",
      "vietnam\n",
      "15-01-2025\n",
      "60000\n",
      "destination vietnam\n",
      "date 15-01-2025\n",
      "price 60000\n"
     ]
    }
   ],
   "source": [
    "reservation_info={\"destination\":\"vietnam\",\"date\":\"15-01-2025\",\"price\":60000}\n",
    "for i in reservation_info.keys():\n",
    "    print(i)\n",
    "for i in reservation_info.values():\n",
    "    print(i)\n",
    "for x,y in reservation_info.items():\n",
    "    print(x,y)"
   ]
  },
  {
   "cell_type": "code",
   "execution_count": 7,
   "metadata": {},
   "outputs": [
    {
     "name": "stdout",
     "output_type": "stream",
     "text": [
      "mech\n"
     ]
    }
   ],
   "source": [
    "student_info={\"101\":{\"name\":\"minha\", \"major\":\"civil\",\"year\":2024},\"102\":{\"name\":\"shakeeb\", \"major\":\"mech\",\"year\":2024},\"103\":{\"name\":\"hadiq\", \"major\":\"civil\",\"year\":2024}}\n",
    "print(student_info.get(\"102\").get(\"major\"))"
   ]
  }
 ],
 "metadata": {
  "kernelspec": {
   "display_name": "base",
   "language": "python",
   "name": "python3"
  },
  "language_info": {
   "codemirror_mode": {
    "name": "ipython",
    "version": 3
   },
   "file_extension": ".py",
   "mimetype": "text/x-python",
   "name": "python",
   "nbconvert_exporter": "python",
   "pygments_lexer": "ipython3",
   "version": "3.11.7"
  }
 },
 "nbformat": 4,
 "nbformat_minor": 2
}
